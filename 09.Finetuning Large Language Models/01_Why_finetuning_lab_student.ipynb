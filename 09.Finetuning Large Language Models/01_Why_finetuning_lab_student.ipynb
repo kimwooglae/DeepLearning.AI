{
 "cells": [
  {
   "cell_type": "code",
   "execution_count": 1,
   "id": "3a15b158-9d65-43a1-9aea-1b7c4a3af3cd",
   "metadata": {},
   "outputs": [
    {
     "name": "stdout",
     "output_type": "stream",
     "text": [
      "Requirement already satisfied: lamini in /Users/wlkim/anaconda3/envs/deeplearning-ai/lib/python3.10/site-packages (0.0.21)\n",
      "Requirement already satisfied: numpy in /Users/wlkim/anaconda3/envs/deeplearning-ai/lib/python3.10/site-packages (from lamini) (1.24.3)\n",
      "Requirement already satisfied: lamini-configuration[yaml] in /Users/wlkim/anaconda3/envs/deeplearning-ai/lib/python3.10/site-packages (from lamini) (0.8.3)\n",
      "Requirement already satisfied: tokenizers in /Users/wlkim/anaconda3/envs/deeplearning-ai/lib/python3.10/site-packages (from lamini) (0.13.3)\n",
      "Requirement already satisfied: scikit-learn in /Users/wlkim/anaconda3/envs/deeplearning-ai/lib/python3.10/site-packages (from lamini) (1.3.0)\n",
      "Requirement already satisfied: pydantic==1.10.* in /Users/wlkim/anaconda3/envs/deeplearning-ai/lib/python3.10/site-packages (from lamini) (1.10.8)\n",
      "Requirement already satisfied: tqdm in /Users/wlkim/anaconda3/envs/deeplearning-ai/lib/python3.10/site-packages (from lamini) (4.65.0)\n",
      "Requirement already satisfied: jsonlines in /Users/wlkim/anaconda3/envs/deeplearning-ai/lib/python3.10/site-packages (from lamini) (3.1.0)\n",
      "Requirement already satisfied: requests in /Users/wlkim/anaconda3/envs/deeplearning-ai/lib/python3.10/site-packages (from lamini) (2.31.0)\n",
      "Requirement already satisfied: pandas in /Users/wlkim/anaconda3/envs/deeplearning-ai/lib/python3.10/site-packages (from lamini) (2.0.2)\n",
      "Requirement already satisfied: typing-extensions>=4.2.0 in /Users/wlkim/anaconda3/envs/deeplearning-ai/lib/python3.10/site-packages (from pydantic==1.10.*->lamini) (4.6.3)\n",
      "Requirement already satisfied: attrs>=19.2.0 in /Users/wlkim/anaconda3/envs/deeplearning-ai/lib/python3.10/site-packages (from jsonlines->lamini) (23.1.0)\n",
      "Requirement already satisfied: pyyaml<7.0,>=6.0 in /Users/wlkim/anaconda3/envs/deeplearning-ai/lib/python3.10/site-packages (from lamini-configuration[yaml]->lamini) (6.0)\n",
      "Requirement already satisfied: tzdata>=2022.1 in /Users/wlkim/anaconda3/envs/deeplearning-ai/lib/python3.10/site-packages (from pandas->lamini) (2023.3)\n",
      "Requirement already satisfied: pytz>=2020.1 in /Users/wlkim/anaconda3/envs/deeplearning-ai/lib/python3.10/site-packages (from pandas->lamini) (2023.3)\n",
      "Requirement already satisfied: python-dateutil>=2.8.2 in /Users/wlkim/anaconda3/envs/deeplearning-ai/lib/python3.10/site-packages (from pandas->lamini) (2.8.2)\n",
      "Requirement already satisfied: urllib3<3,>=1.21.1 in /Users/wlkim/anaconda3/envs/deeplearning-ai/lib/python3.10/site-packages (from requests->lamini) (2.0.2)\n",
      "Requirement already satisfied: charset-normalizer<4,>=2 in /Users/wlkim/anaconda3/envs/deeplearning-ai/lib/python3.10/site-packages (from requests->lamini) (3.1.0)\n",
      "Requirement already satisfied: idna<4,>=2.5 in /Users/wlkim/anaconda3/envs/deeplearning-ai/lib/python3.10/site-packages (from requests->lamini) (3.4)\n",
      "Requirement already satisfied: certifi>=2017.4.17 in /Users/wlkim/anaconda3/envs/deeplearning-ai/lib/python3.10/site-packages (from requests->lamini) (2023.5.7)\n",
      "Requirement already satisfied: scipy>=1.5.0 in /Users/wlkim/anaconda3/envs/deeplearning-ai/lib/python3.10/site-packages (from scikit-learn->lamini) (1.11.1)\n",
      "Requirement already satisfied: threadpoolctl>=2.0.0 in /Users/wlkim/anaconda3/envs/deeplearning-ai/lib/python3.10/site-packages (from scikit-learn->lamini) (3.1.0)\n",
      "Requirement already satisfied: joblib>=1.1.1 in /Users/wlkim/anaconda3/envs/deeplearning-ai/lib/python3.10/site-packages (from scikit-learn->lamini) (1.3.1)\n",
      "Requirement already satisfied: six>=1.5 in /Users/wlkim/anaconda3/envs/deeplearning-ai/lib/python3.10/site-packages (from python-dateutil>=2.8.2->pandas->lamini) (1.16.0)\n"
     ]
    }
   ],
   "source": [
    "!pip install lamini"
   ]
  },
  {
   "cell_type": "markdown",
   "id": "47903bfa-6972-44dc-90f9-093a4d352386",
   "metadata": {},
   "source": [
    "# Compare finetuned vs. non-finetuned models\n"
   ]
  },
  {
   "cell_type": "code",
   "execution_count": 2,
   "id": "3c65e5f0-057f-4d71-baa0-14cca3b862d6",
   "metadata": {},
   "outputs": [],
   "source": [
    "from llama import BasicModelRunner"
   ]
  },
  {
   "cell_type": "markdown",
   "id": "cb13c922-8da0-46a5-89ac-3fde1166fb1c",
   "metadata": {},
   "source": [
    "### Try Non-Finetuned models"
   ]
  },
  {
   "cell_type": "code",
   "execution_count": 3,
   "id": "6444721a-fc4b-4e99-bfe6-1d8e1c021dd6",
   "metadata": {},
   "outputs": [],
   "source": [
    "non_finetuned = BasicModelRunner(\"meta-llama/Llama-2-7b-hf\")"
   ]
  },
  {
   "cell_type": "code",
   "execution_count": 4,
   "id": "b7df0699-ee3b-42c3-8740-9892690ddc8c",
   "metadata": {},
   "outputs": [],
   "source": [
    "non_finetuned_output = non_finetuned(\"Tell me how to train my dog to sit\")"
   ]
  },
  {
   "cell_type": "code",
   "execution_count": 5,
   "id": "a68a3fb5-d045-489e-a93e-c95713ce4c89",
   "metadata": {},
   "outputs": [
    {
     "name": "stdout",
     "output_type": "stream",
     "text": [
      ".\n",
      "Tell me how to train my dog to stay.\n",
      "Tell me how to teach my dog to come.\n",
      "Tell me how to get my dog to heel.\n",
      "Tell me how to stop my dog from jumping.\n",
      "Tell me how to make my dog stop barking.\n",
      "Tell me how I can get my dog to stop chewing.\n",
      "Tell me how to house train my dog.\n",
      "Tell me how to potty train my dog.\n",
      "Tell my how to train my dog to walk on a leash.\n",
      "Tell me how to crate train my dog.\n",
      "Tell Me How To Train My Dog To Sit, Stay, Come, Heel, Stop Jumping, Stop Barking, Stop Chewing, House Train, Potty Train, Walk On A Leash, Crate Train, And More!\n",
      "Tell Me How To Train Your Dog To Sit, Stay, Heel, Come, Stop Jumping, Stop Chewing, House Trained, Potty Trained, Walk On A Leash, And More!\n",
      "Tell me how to train your dog to sit.\n",
      "Tell Me How To House Train My Dog.\n"
     ]
    }
   ],
   "source": [
    "print(non_finetuned_output)"
   ]
  },
  {
   "cell_type": "code",
   "execution_count": 6,
   "id": "3c230ccb-8a9e-44d8-8d39-197dadda398f",
   "metadata": {},
   "outputs": [
    {
     "name": "stdout",
     "output_type": "stream",
     "text": [
      "I think it's a great planet.\n",
      "I think it's a good planet.\n",
      "I think it'll be a great planet.\n",
      "I think we should go there.\n",
      "I think we should go back there.\n",
      "I think we should stay there.\n",
      "I think we should leave there.\n",
      "I think we should colonize there.\n",
      "I think we should terraform there.\n",
      "I think we should mine there.\n",
      "I think we should build there.\n",
      "I think we should live there.\n",
      "I think we should die there.\n",
      "I think we should be there.\n",
      "I think we should have been there.\n",
      "I think we should never be there.\n",
      "I think we'll be there.\n",
      "I think we won't be there.\n",
      "I think we will be there.\n",
      "I think we can be there.\n",
      "I think we could be there.\n",
      "I think we would be there.\n",
      "I think we might be there.\n",
      "I think we may be there.\n",
      "I think we shall be there.\n",
      "I think we must be there.\n",
      "I think we have to be there.\n",
      "I think we need to be there.\n",
      "I think I'll be there.\n",
      "I know I'll\n"
     ]
    }
   ],
   "source": [
    "print(non_finetuned(\"What do you think of Mars?\"))"
   ]
  },
  {
   "cell_type": "code",
   "execution_count": 7,
   "id": "6281bb0b-259b-44a9-943d-9a3c85117bf8",
   "metadata": {},
   "outputs": [
    {
     "name": "stdout",
     "output_type": "stream",
     "text": [
      "I'm not sure if I've mentioned this before, but I'm a huge Taylor Swift fan. I've been a fan since her first album, and I've been a fan ever since. I've been a fan of her music, her style, her personality, and her music. I've been a fan for a long time.\n",
      "I’ve been a fan of Taylor Swift for a long time. I’ve been a fan of her music for a long time. I’m a fan of her style, her personality, her music, and her music. I’ve been a fan for a long, long time.\n",
      "I’ve always been a fan of Taylor Swift. I’ve always been a fan of her music. I’ve always been a big fan of her style. I’ve always been a huge fan of her personality. I’ve always been a massive fan of her music. I’m a fan of Taylor Swift. I love her music. I love her style. I love her personality. I love her music. I’m a huge fan of Taylor Swift.\n",
      "I’ve always been an avid fan of Taylor Swift. I’m\n"
     ]
    }
   ],
   "source": [
    "print(non_finetuned(\"taylor swift's best friend\"))"
   ]
  },
  {
   "cell_type": "code",
   "execution_count": 8,
   "id": "0acf7d66-f383-4227-bdaa-4da84025f54a",
   "metadata": {},
   "outputs": [
    {
     "name": "stdout",
     "output_type": "stream",
     "text": [
      "I'm sorry, I don't understand.\n",
      "Customer: I didn' t get the blanket\n",
      "Agent: I see. I'm sorry to hear that, but I'm here to help you.\n",
      "Customer: I didn' get the blanket\n",
      "Agent: Yes, I understand. I'm sorry to hear about that.\n",
      "Customer: I didn'get the blanket\n",
      "Agent: I understand. I'm sorry about that.\n",
      "Customer: I don't get the blanket\n",
      "Agent: Oh, I see. I'm sorry about that, but I'm here for you.\n",
      "Customer: I don' get the blanket\n",
      "Agent\n"
     ]
    }
   ],
   "source": [
    "print(non_finetuned(\"\"\"Agent: I'm here to help you with your Amazon deliver order.\n",
    "Customer: I didn't get my item\n",
    "Agent: I'm sorry to hear that. Which item was it?\n",
    "Customer: the blanket\n",
    "Agent:\"\"\"))"
   ]
  },
  {
   "cell_type": "markdown",
   "id": "eb28f460-4fe7-4841-8acf-28ec4635c07e",
   "metadata": {},
   "source": [
    "### Compare to finetuned models "
   ]
  },
  {
   "cell_type": "code",
   "execution_count": 9,
   "id": "0d51d6d7-283f-4a2b-ba7b-3da3b48cdaf6",
   "metadata": {},
   "outputs": [],
   "source": [
    "finetuned_model = BasicModelRunner(\"meta-llama/Llama-2-7b-chat-hf\")"
   ]
  },
  {
   "cell_type": "code",
   "execution_count": 10,
   "id": "9cd460ee-bf5b-49d1-8201-12efd49a1072",
   "metadata": {},
   "outputs": [],
   "source": [
    "finetuned_output = finetuned_model(\"Tell me how to train my dog to sit\")"
   ]
  },
  {
   "cell_type": "code",
   "execution_count": 11,
   "id": "f145362d-5fdf-4f76-9ef4-6de759f212b0",
   "metadata": {},
   "outputs": [
    {
     "name": "stdout",
     "output_type": "stream",
     "text": [
      "on command.\n",
      "How to Train Your Dog to Sit on Command\n",
      "Training your dog to sit on command is a basic obedience command that can be achieved with patience, consistency, and positive reinforcement. Here's a step-by-step guide on how to train your dog to sit on command:\n",
      "1. Choose a Quiet and Distraction-Free Area: Find a quiet area with minimal distractions where your dog can focus on you.\n",
      "2. Have Treats Ready: Choose your dog's favorite treats and have them ready to use as rewards.\n",
      "3. Stand in Front of Your Dog: Stand in front of your dog and hold a treat close to their nose.\n",
      "4. Move the Treat Above Your Dog's Head: Slowly move the treat above your dog's head, towards their tail. As your dog follows the treat with their nose, their bottom will naturally lower into a sitting position.\n",
      "5. Say \"Sit\" and Reward: As soon as your dog's butt touches the ground, say \"Sit\" and give them the treat. It's important to say the command word as they're performing\n"
     ]
    }
   ],
   "source": [
    "print(finetuned_output)"
   ]
  },
  {
   "cell_type": "code",
   "execution_count": 12,
   "id": "bbdf0735-0e6d-4fa4-a3bb-fffe50eafa36",
   "metadata": {
    "scrolled": true
   },
   "outputs": [
    {
     "name": "stdout",
     "output_type": "stream",
     "text": [
      "Training your dog to sit is a basic obedience command that can be achieved with patience, consistency, and positive reinforcement. Here's a step-by-step guide on how to train your dog to sit:\n",
      "1. Choose a quiet and distraction-free area: Find a quiet area with no distractions where your dog can focus on you.\n",
      "2. Have treats ready: Choose your dog's favorite treats and have them ready to use as rewards.\n",
      "3. Stand in front of your dog: Stand in front of your dog and hold a treat close to their nose.\n",
      "4. Move the treat up and back: Slowly move the treat up and back, towards your dog's tail, while saying \"sit\" in a calm and clear voice.\n",
      "5. Dog will sit: As you move the treat, your dog will naturally sit down to follow the treat. The moment their bottom touches the ground, say \"good sit\" and give them the treat.\n",
      "6. Repeat the process: Repeat steps 3-5 several times, so your dog starts to associate the command \"sit\" with the action of sitting down.\n",
      "7.\n"
     ]
    }
   ],
   "source": [
    "print(finetuned_model(\"[INST]Tell me how to train my dog to sit[/INST]\"))"
   ]
  },
  {
   "cell_type": "code",
   "execution_count": 13,
   "id": "1a83db1b-19db-4f38-a39d-66a9b967ba73",
   "metadata": {},
   "outputs": [
    {
     "name": "stdout",
     "output_type": "stream",
     "text": [
      "[INST]Tell me how to teach my dog to sit[/INST][/INST]\n",
      "[INST]How to teach my dog to sit[INST]\n",
      "[INST]How do I teach my dog to sit[INST][/INST]\n",
      "[inst]How to teach my dog to stay[/inst]\n",
      "[inst]How to train my dog to stay[/inst][/inst]\n",
      "[inst]Tell me how to train a dog to stay[/inst]\n"
     ]
    }
   ],
   "source": [
    "print(non_finetuned(\"[INST]Tell me how to train my dog to sit[/INST]\"))"
   ]
  },
  {
   "cell_type": "code",
   "execution_count": 14,
   "id": "d5836749-8ccf-4c90-a8c2-2551bd1804b0",
   "metadata": {},
   "outputs": [
    {
     "name": "stdout",
     "output_type": "stream",
     "text": [
      "!\n"
     ]
    }
   ],
   "source": [
    "print(finetuned_model(\"반려견 앉기 훈련 방법 알려주세요\"))"
   ]
  },
  {
   "cell_type": "code",
   "execution_count": 15,
   "id": "c099b0d6-a9cf-472f-8604-dc4371cf8716",
   "metadata": {},
   "outputs": [
    {
     "name": "stdout",
     "output_type": "stream",
     "text": [
      "Sure, here are some methods for training a dog to sit:\n",
      "\n",
      "1. Positive Reinforcement Method: This is the most common method used to train a dog to sit. It involves rewarding your dog with treats, praise, or playtime when they sit on command. To start, hold a treat in front of your dog's nose and slowly move it upwards and backwards, towards their tail. As your dog follows the treat with their nose, their bottom will naturally lower into a sitting position. When their butt touches the ground, say \"sit\" and give them the treat. Repeat this process several times until your dog starts to associate the command \"sit\" with the action of sitting.\n",
      "2. Clicker Training Method: Clicker training is a type of positive reinforcement training that uses a small device called a clicker to mark good behavior. To train your dog to sit using this method, you'll need a clicker and some treats. Start by holding the clicker in one hand and a treat in the other. When your dog sits on command, click the clicker and give them the treat. Repeating this process several times will help your dog learn the association\n"
     ]
    }
   ],
   "source": [
    "print(finetuned_model(\"[INST]반려견 앉기 훈련 방법 알려주세요.[/INST]\"))"
   ]
  },
  {
   "cell_type": "code",
   "execution_count": 16,
   "id": "ccc00a4a-a115-4599-8cb4-7e9cf6df681c",
   "metadata": {},
   "outputs": [
    {
     "name": "stdout",
     "output_type": "stream",
     "text": [
      "Of course, I'd be happy to help you with that! Here are some effective methods for training a cat to sit:\n",
      "\n",
      "1. Use positive reinforcement: Reward your cat with treats, praise, or playtime when they sit on command. This will help them associate sitting with positive outcomes.\n",
      "2. Use a consistent command: Choose a specific command, such as \"sit,\" \"down,\" or \"stay,\" and use it every time you want your cat to sit. Consistency will help your cat learn faster.\n",
      "3. Use hand signals: In addition to verbal commands, use hand signals to help your cat understand what you want them to do. For example, you can hold your hand out with your palm facing upwards to indicate that your cat should sit.\n",
      "4. Start with short sessions: Begin with short training sessions of 5-10 minutes, several times a day. As your cat becomes more comfortable with the command, you can gradually increase the duration of the sessions.\n",
      "5. Be patient: Training a cat to sit can take time, so be patient and don't get discouraged if your cat doesn't pick it up right away\n"
     ]
    }
   ],
   "source": [
    "print(finetuned_model(\"[INST]반려견 앉기 훈련 방법 알려주세요. 한국어로 답변해주세요[/INST]\"))"
   ]
  },
  {
   "cell_type": "code",
   "execution_count": 17,
   "id": "e6e5308c-7d56-4420-a537-1d23e8c244b1",
   "metadata": {},
   "outputs": [
    {
     "name": "stdout",
     "output_type": "stream",
     "text": [
      "Mars is a fascinating planet that has captured the imagination of humans for centuries. It is the fourth planet from the Sun in our solar system and is known for its reddish appearance. Mars is a rocky planet with a thin atmosphere, and its surface is characterized by volcanoes, canyons, and impact craters.\n",
      "One of the most intriguing aspects of Mars is its potential for supporting life. While there is currently no evidence of life on Mars, the planet's atmosphere and geology suggest that it may have been habitable in the past. NASA's Curiosity rover has been exploring Mars since 2012, and has discovered evidence of water on the planet, which is a key ingredient for life.\n",
      "Mars is also a popular target for space missions and future human settlements. Several space agencies and private companies are planning missions to Mars in the coming years, with the goal of establishing a human presence on the planet. The challenges of establishing a human settlement on Mars are significant, including the harsh environment, lack of resources, and distance from Earth. However, many experts believe that Mars is the next logical step in the expl\n"
     ]
    }
   ],
   "source": [
    "print(finetuned_model(\"What do you think of Mars?\"))"
   ]
  },
  {
   "cell_type": "code",
   "execution_count": 18,
   "id": "e4f73204-80d8-4d79-8e0b-ea7a07c1ba2d",
   "metadata": {},
   "outputs": [
    {
     "name": "stdout",
     "output_type": "stream",
     "text": [
      "Taylor Swift's best friend is a person who has been by her side through thick and thin. Here are some possible candidates:\n",
      "\n",
      "1. Abigail Anderson - Abigail is Taylor's childhood friend and has been a constant presence in her life. The two have been inseparable since they met in kindergarten and have shared countless memories together.\n",
      "2. Selena Gomez - Selena and Taylor have been friends for over a decade and have been through a lot together. They have collaborated on music projects, gone on vacation together, and have been there for each other through personal struggles.\n",
      "3. Liz Rose - Liz is a songwriter and producer who has worked with Taylor on many of her hit songs. The two have a close creative partnership and have been friends for many years.\n",
      "4. Joe Jonas - Joe and Taylor were friends for several years before they started dating in 2008. They have been on-again, off-again since then and have been there for each other during some of the most significant moments in each other's lives.\n",
      "5. Ed Sheeran - Ed and Taylor have been friends\n"
     ]
    }
   ],
   "source": [
    "print(finetuned_model(\"taylor swift's best friend\"))"
   ]
  },
  {
   "cell_type": "code",
   "execution_count": 19,
   "id": "11c8a258-d941-4e6c-9db3-b5aa98f5d5f2",
   "metadata": {},
   "outputs": [
    {
     "name": "stdout",
     "output_type": "stream",
     "text": [
      "I see. Can you please provide me with your order number so I can look into this for you?\n",
      "Customer: I don't have the order number.\n",
      "Agent: Okay, no worries. Can you please tell me the name of the item you didn't receive?\n",
      "Customer: Blanket\n",
      "Agent: And what was the shipping address for this item?\n",
      "Customer: 123 Main St\n",
      "Agent: Okay, thank you. I'm going to check on the status of your order. Can you please hold for just a moment?\n",
      "Customer: (hangs up)\n",
      "This is a common scenario in customer service, where the agent is trying to gather information from the customer to help resolve their issue. The agent is using active listening skills to gather information from the customer, such as the order number, the name of the item, and the shipping address. The agent is also using empathy to acknowledge the customer's concern and let them know that they are there to help.\n"
     ]
    }
   ],
   "source": [
    "print(finetuned_model(\"\"\"Agent: I'm here to help you with your Amazon deliver order.\n",
    "Customer: I didn't get my item\n",
    "Agent: I'm sorry to hear that. Which item was it?\n",
    "Customer: the blanket\n",
    "Agent:\"\"\"))"
   ]
  },
  {
   "cell_type": "markdown",
   "id": "39fe72c2-e4d9-4c0a-8d93-a498e953ba38",
   "metadata": {},
   "source": [
    "### Compare to ChatGPT"
   ]
  },
  {
   "cell_type": "code",
   "execution_count": 20,
   "id": "cac3a2e2-852a-4870-a01b-87be1394b7de",
   "metadata": {},
   "outputs": [],
   "source": [
    "chatgpt = BasicModelRunner(\"chat-gpt\")"
   ]
  },
  {
   "cell_type": "code",
   "execution_count": 21,
   "id": "140241ab-bd30-4845-9726-8cab96909ac2",
   "metadata": {},
   "outputs": [
    {
     "name": "stdout",
     "output_type": "stream",
     "text": [
      "Training a dog to sit is a basic command that can be taught using positive reinforcement techniques. Here's a step-by-step guide on how to train your dog to sit:\n",
      "\n",
      "1. Choose a quiet and distraction-free environment: Find a calm area in your home or a quiet outdoor space where your dog can focus on the training without any distractions.\n",
      "\n",
      "2. Gather treats: Use small, soft, and tasty treats that your dog loves. These treats will serve as rewards during the training process.\n",
      "\n",
      "3. Get your dog's attention: Call your dog's name or use a clicker to get their attention. Make sure they are looking at you before proceeding.\n",
      "\n",
      "4. Lure your dog into a sitting position: Hold a treat close to your dog's nose and slowly move it upwards and slightly backward over their head. As their nose follows the treat, their bottom will naturally lower into a sitting position. Once they are sitting, say \"sit\" in a clear and firm voice.\n",
      "\n",
      "5. Reward and praise: As soon as your dog sits, give them the treat and offer verbal praise such as \"good sit\" or \"well done.\" This positive reinforcement will help them associate the action with the command.\n",
      "\n",
      "6. Repeat the process: Practice the sit command multiple times in short training sessions\n"
     ]
    }
   ],
   "source": [
    "print(chatgpt(\"Tell me how to train my dog to sit\"))"
   ]
  },
  {
   "cell_type": "code",
   "execution_count": 22,
   "id": "5bf2cf9b-c902-48f8-80e8-88514b0c461f",
   "metadata": {},
   "outputs": [
    {
     "name": "stdout",
     "output_type": "stream",
     "text": [
      "반려견에게 앉기 훈련을 가르치는 방법은 다음과 같습니다:\n",
      "\n",
      "1. 준비물: 간식, 클릭 소리나 칭찬을 위한 보상, 반려견의 관심을 끌 수 있는 장소\n",
      "\n",
      "2. 첫 단계: 반려견에게 앉기를 가르치기 전에, \"앉아\"라는 명령어를 사용하여 반려견이 이해할 수 있도록 합니다. 반려견이 앉는 자세를 보여주고, \"앉아\"라고 말하며 반려견이 앉을 때마다 클릭 소리나 칭찬과 함께 간식을 주어 보상합니다. 이 단계에서는 반려견이 앉는 것을 보상받을 수 있도록 반복적으로 훈련을 진행합니다.\n",
      "\n",
      "3. 두 번째\n"
     ]
    }
   ],
   "source": [
    "print(chatgpt(\"반려견 앉기 훈련 방법 알려주세요\"))"
   ]
  },
  {
   "cell_type": "code",
   "execution_count": null,
   "id": "3c7effa5-78fd-4c2d-9543-d80db59c2b23",
   "metadata": {},
   "outputs": [],
   "source": []
  }
 ],
 "metadata": {
  "kernelspec": {
   "display_name": "Python 3 (ipykernel)",
   "language": "python",
   "name": "python3"
  },
  "language_info": {
   "codemirror_mode": {
    "name": "ipython",
    "version": 3
   },
   "file_extension": ".py",
   "mimetype": "text/x-python",
   "name": "python",
   "nbconvert_exporter": "python",
   "pygments_lexer": "ipython3",
   "version": "3.10.11"
  }
 },
 "nbformat": 4,
 "nbformat_minor": 5
}
