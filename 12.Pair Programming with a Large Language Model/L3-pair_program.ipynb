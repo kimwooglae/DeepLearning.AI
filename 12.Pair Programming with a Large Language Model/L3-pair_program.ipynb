{
 "cells": [
  {
   "cell_type": "markdown",
   "id": "c73212b2-d4b0-46ed-9baa-9194b74efc91",
   "metadata": {},
   "source": [
    "# Pair Programming Scenarios\n"
   ]
  },
  {
   "cell_type": "markdown",
   "id": "993dcb82-cbda-4664-a053-91a53cb28380",
   "metadata": {},
   "source": [
    "#### Setup\n",
    "Set the MakerSuite API key with the provided helper function."
   ]
  },
  {
   "cell_type": "code",
   "execution_count": 26,
   "id": "e31a0ab5-7482-45e1-b6f8-6834a06542f2",
   "metadata": {},
   "outputs": [],
   "source": [
    "import os\n",
    "from utils import get_api_key\n",
    "import google.generativeai as palm\n",
    "from google.api_core import client_options as client_options_lib\n",
    "\n",
    "palm.configure(\n",
    "    api_key=get_api_key(),\n",
    "    transport=\"rest\",\n",
    "    client_options=client_options_lib.ClientOptions(\n",
    "        api_endpoint=os.getenv(\"GOOGLE_API_BASE\"),\n",
    "    )\n",
    ")"
   ]
  },
  {
   "cell_type": "markdown",
   "id": "ad68659e-a220-43f5-9fcc-52aa874b803c",
   "metadata": {},
   "source": [
    "#### Pick the model that generates text"
   ]
  },
  {
   "cell_type": "code",
   "execution_count": 27,
   "id": "2fa1551f-7d25-443e-9174-4950c4ab6172",
   "metadata": {},
   "outputs": [
    {
     "data": {
      "text/plain": [
       "Model(name='models/text-bison-001', base_model_id='', version='001', display_name='Text Bison', description='Model targeted for text generation.', input_token_limit=8196, output_token_limit=1024, supported_generation_methods=['generateText', 'countTextTokens', 'createTunedTextModel'], temperature=0.7, top_p=0.95, top_k=40)"
      ]
     },
     "execution_count": 27,
     "metadata": {},
     "output_type": "execute_result"
    }
   ],
   "source": [
    "models = [m for m in palm.list_models() if 'generateText' in m.supported_generation_methods]\n",
    "model_bison = models[0]\n",
    "model_bison"
   ]
  },
  {
   "cell_type": "markdown",
   "id": "53763b67-ddbe-40b0-ad6b-f1f1034781a4",
   "metadata": {},
   "source": [
    "#### Helper function to call the PaLM API"
   ]
  },
  {
   "cell_type": "code",
   "execution_count": 3,
   "id": "bf658dea-3da1-4ff2-b1c2-fdfad70c5aa1",
   "metadata": {},
   "outputs": [],
   "source": [
    "from google.api_core import retry\n",
    "@retry.Retry()\n",
    "def generate_text(prompt, \n",
    "                  model=model_bison, \n",
    "                  temperature=0.0):\n",
    "    return palm.generate_text(prompt=prompt,\n",
    "                              model=model,\n",
    "                              temperature=temperature)"
   ]
  },
  {
   "cell_type": "markdown",
   "id": "a70e4afd-3bb1-49eb-bf3e-8b6b1b40d6b8",
   "metadata": {},
   "source": [
    "### Scenario 1: Improve existing code\n",
    "- An LLM can help you rewrite your code in the way that's recommended for that particular language.\n",
    "- You can ask an LLM to rewrite your Python code in a way that is more 'Pythonic\"."
   ]
  },
  {
   "cell_type": "code",
   "execution_count": 4,
   "id": "c885a576-4857-403b-8554-ae909fd09c49",
   "metadata": {},
   "outputs": [],
   "source": [
    "prompt_template = \"\"\"\n",
    "I don't think this code is the best way to do it in Python, can you help me?\n",
    "\n",
    "{question}\n",
    "\n",
    "Please explain, in detail, what you did to improve it.\n",
    "\"\"\""
   ]
  },
  {
   "cell_type": "code",
   "execution_count": 5,
   "id": "e6a1e790-d55e-4722-babf-9f21859b7a48",
   "metadata": {},
   "outputs": [],
   "source": [
    "question = \"\"\"\n",
    "def func_x(array)\n",
    "  for i in range(len(array)):\n",
    "    print(array[i])\n",
    "\"\"\""
   ]
  },
  {
   "cell_type": "code",
   "execution_count": 6,
   "id": "58835fe2-bf00-42de-9bc4-49057e262821",
   "metadata": {},
   "outputs": [
    {
     "name": "stdout",
     "output_type": "stream",
     "text": [
      "```python\n",
      "def func_x(array):\n",
      "  print(*array)\n",
      "```\n",
      "\n",
      "I improved the code by using the `*` operator to unpack the array into individual arguments for the `print()` function. This is more concise and efficient than using a `for` loop.\n"
     ]
    }
   ],
   "source": [
    "completion = generate_text(\n",
    "    prompt = prompt_template.format(question=question)\n",
    ")\n",
    "print(completion.result)"
   ]
  },
  {
   "cell_type": "markdown",
   "id": "a32206f7-5bfd-4704-9496-50618409696a",
   "metadata": {},
   "source": [
    "#### Ask for multiple ways of rewriting your code"
   ]
  },
  {
   "cell_type": "code",
   "execution_count": 7,
   "id": "652dfd78-f774-4448-8805-daaac8565240",
   "metadata": {},
   "outputs": [],
   "source": [
    "prompt_template = \"\"\"\n",
    "I don't think this code is the best way to do it in Python, can you help me?\n",
    "\n",
    "{question}\n",
    "\n",
    "Please explore multiple ways of solving the problem, and explain each.\n",
    "\"\"\""
   ]
  },
  {
   "cell_type": "code",
   "execution_count": 8,
   "id": "61768c98-4204-4781-a4da-83885eb38e26",
   "metadata": {},
   "outputs": [
    {
     "name": "stdout",
     "output_type": "stream",
     "text": [
      "There are a few ways to improve the code.\n",
      "\n",
      "1. **Use a list comprehension**. This will allow you to iterate over the array and print each element in a single line of code.\n",
      "\n",
      "```python\n",
      "def func_x(array):\n",
      "  print([element for element in array])\n",
      "```\n",
      "\n",
      "2. **Use the `enumerate()` function**. This function returns an iterator that yields the index and value of each element in the array. You can use this to print each element in the array with its index.\n",
      "\n",
      "```python\n",
      "def func_x(array):\n",
      "  for i, element in enumerate(array):\n",
      "    print(f\"{i}: {element}\")\n",
      "```\n",
      "\n",
      "3. **Use the `map()` function**. This function applies a function to each element in an iterable. You can use this to print each element in the array with a custom formatting.\n",
      "\n",
      "```python\n",
      "def func_x(array):\n",
      "  print(map(str, array))\n",
      "```\n",
      "\n",
      "Here is a table comparing the three methods:\n",
      "\n",
      "| Method | Pros | Cons |\n",
      "|---|---|---|\n",
      "| List comprehension | Concise | Can be difficult to read for complex code |\n",
      "| `enumerate()` | Easy to read | Requires an extra variable to store the index |\n",
      "| `map()` | Flexible | Requires a custom function to format the output |\n",
      "\n",
      "Ultimately, the best way to solve the problem depends on the specific requirements of your code. If you need a concise solution, the list comprehension is a good option. If you need a solution that is easy to read, the `enumerate()` function is a good option. If you need a solution that is flexible, the `map()` function is a good option.\n"
     ]
    }
   ],
   "source": [
    "completion = generate_text(\n",
    "    prompt = prompt_template.format(question=question)\n",
    ")\n",
    "print(completion.result)"
   ]
  },
  {
   "cell_type": "markdown",
   "id": "c612316d-bfbd-43b9-8f45-fc8af7742f0c",
   "metadata": {},
   "source": [
    "#### Paste markdown into a markdown cell\n",
    "\n",
    "There are a few ways to improve the code.\n",
    "\n",
    "1. **Use a list comprehension**. This will allow you to iterate over the array and print each element in a single line of code.\n",
    "\n",
    "```python\n",
    "def func_x(array):\n",
    "  print([element for element in array])\n",
    "```\n",
    "\n",
    "2. **Use the `enumerate()` function**. This function returns an iterator that yields the index and value of each element in the array. You can use this to print each element in the array with its index.\n",
    "\n",
    "```python\n",
    "def func_x(array):\n",
    "  for i, element in enumerate(array):\n",
    "    print(f\"{i}: {element}\")\n",
    "```\n",
    "\n",
    "3. **Use the `map()` function**. This function applies a function to each element in an iterable. You can use this to print each element in the array with a custom formatting.\n",
    "\n",
    "```python\n",
    "def func_x(array):\n",
    "  print(map(str, array))\n",
    "```\n",
    "\n",
    "Here is a table comparing the three methods:\n",
    "\n",
    "| Method | Pros | Cons |\n",
    "|---|---|---|\n",
    "| List comprehension | Concise | Can be difficult to read for complex code |\n",
    "| `enumerate()` | Easy to read | Requires an extra variable to store the index |\n",
    "| `map()` | Flexible | Requires a custom function to format the output |\n",
    "\n",
    "Ultimately, the best way to solve the problem depends on the specific requirements of your code. If you need a concise solution, the list comprehension is a good option. If you need a solution that is easy to read, the `enumerate()` function is a good option. If you need a solution that is flexible, the `map()` function is a good option.\n"
   ]
  },
  {
   "cell_type": "markdown",
   "id": "6915bd8d-7341-4dc4-a699-3f6aba96c482",
   "metadata": {},
   "source": [
    "#### Ask the model to recommend one of the methods as most 'Pythonic'"
   ]
  },
  {
   "cell_type": "code",
   "execution_count": 9,
   "id": "87c006c9-cdfc-4568-97a1-9e81563a2393",
   "metadata": {},
   "outputs": [],
   "source": [
    "prompt_template = \"\"\"\n",
    "I don't think this code is the best way to do it in Python, can you help me?\n",
    "\n",
    "{question}\n",
    "\n",
    "Please explore multiple ways of solving the problem, \n",
    "and tell me which is the most Pythonic\n",
    "\"\"\""
   ]
  },
  {
   "cell_type": "code",
   "execution_count": 10,
   "id": "c6cf2743-c272-423a-af70-7b46964cff16",
   "metadata": {},
   "outputs": [
    {
     "name": "stdout",
     "output_type": "stream",
     "text": [
      "There are a few ways to solve this problem in Python. The most Pythonic way would be to use the `list` comprehension syntax. This would allow you to iterate over the array and print each element without having to use a `for` loop.\n",
      "\n",
      "```python\n",
      "def func_x(array):\n",
      "  print([element for element in array])\n",
      "```\n",
      "\n",
      "Another way to solve this problem would be to use the `map` function. This function takes a function and an iterable as arguments and returns a new iterable where each element of the original iterable has been passed through the function.\n",
      "\n",
      "```python\n",
      "def func_x(array):\n",
      "  return map(print, array)\n",
      "```\n",
      "\n",
      "Finally, you could also solve this problem using the `enumerate` function. This function takes an iterable as an argument and returns an iterable of tuples where the first element of each tuple is the index of the element in the original iterable and the second element is the element itself.\n",
      "\n",
      "```python\n",
      "def func_x(array):\n",
      "  for i, element in enumerate(array):\n",
      "    print(i, element)\n",
      "```\n",
      "\n",
      "Of the three solutions, the most Pythonic is the first one, which uses the `list` comprehension syntax. This is because it is the most concise and readable way to solve the problem.\n"
     ]
    }
   ],
   "source": [
    "completion = generate_text(\n",
    "    prompt = prompt_template.format(question=question)\n",
    ")\n",
    "print(completion.result)"
   ]
  },
  {
   "cell_type": "markdown",
   "id": "f6353bb9-2413-4037-a081-ac177a05f468",
   "metadata": {},
   "source": [
    "-----------\n",
    "\n",
    "There are a few ways to solve this problem in Python. The most Pythonic way would be to use the `list` comprehension syntax. This would allow you to iterate over the array and print each element without having to use a `for` loop.\n",
    "\n",
    "```python\n",
    "def func_x(array):\n",
    "  print([element for element in array])\n",
    "```\n",
    "\n",
    "Another way to solve this problem would be to use the `map` function. This function takes a function and an iterable as arguments and returns a new iterable where each element of the original iterable has been passed through the function.\n",
    "\n",
    "```python\n",
    "def func_x(array):\n",
    "  return map(print, array)\n",
    "```\n",
    "\n",
    "Finally, you could also solve this problem using the `enumerate` function. This function takes an iterable as an argument and returns an iterable of tuples where the first element of each tuple is the index of the element in the original iterable and the second element is the element itself.\n",
    "\n",
    "```python\n",
    "def func_x(array):\n",
    "  for i, element in enumerate(array):\n",
    "    print(i, element)\n",
    "```\n",
    "\n",
    "Of the three solutions, the most Pythonic is the first one, which uses the `list` comprehension syntax. This is because it is the most concise and readable way to solve the problem.\n"
   ]
  },
  {
   "cell_type": "markdown",
   "id": "a4d9f532-41a2-48ca-9ea1-e0475a55c406",
   "metadata": {},
   "source": [
    "### Scenario 2: Simplify code\n",
    "- Ask the LLM to perform a code review.\n",
    "- Note that adding/removing newline characters may affect the LLM completion that gets output by the LLM."
   ]
  },
  {
   "cell_type": "code",
   "execution_count": 11,
   "id": "4b3993f1-4226-4dbe-8292-7b52e75123aa",
   "metadata": {},
   "outputs": [],
   "source": [
    "# option 1\n",
    "prompt_template = \"\"\"\n",
    "Can you please simplify this code for a linked list in Python?\n",
    "\n",
    "{question}\n",
    "\n",
    "Explain in detail what you did to modify it, and why.\n",
    "\"\"\""
   ]
  },
  {
   "cell_type": "markdown",
   "id": "bde6d7c2-3871-4b3d-8b83-268d997f234b",
   "metadata": {},
   "source": [
    "After you try option 1, you can modify it to look like option 2 (in this markdown cell) and see how it changes the completion.\n",
    "```Python\n",
    "# option 2\n",
    "prompt_template = \"\"\"\n",
    "Can you please simplify this code for a linked list in Python? \\n\n",
    "You are an expert in Pythonic code.\n",
    "\n",
    "{question}\n",
    "\n",
    "Please comment each line in detail, \\n\n",
    "and explain in detail what you did to modify it, and why.\n",
    "\"\"\"\n",
    "```"
   ]
  },
  {
   "cell_type": "code",
   "execution_count": 12,
   "id": "ec71066d-cb92-43f1-9b02-5faa1f24f597",
   "metadata": {},
   "outputs": [],
   "source": [
    "question = \"\"\"\n",
    "class Node:\n",
    "  def __init__(self, dataval=None):\n",
    "    self.dataval = dataval\n",
    "    self.nextval = None\n",
    "\n",
    "class SLinkedList:\n",
    "  def __init__(self):\n",
    "    self.headval = None\n",
    "\n",
    "list1 = SLinkedList()\n",
    "list1.headval = Node(\"Mon\")\n",
    "e2 = Node(\"Tue\")\n",
    "e3 = Node(\"Wed\")\n",
    "list1.headval.nextval = e2\n",
    "e2.nextval = e3\n",
    "\n",
    "\"\"\""
   ]
  },
  {
   "cell_type": "code",
   "execution_count": 13,
   "id": "0fbe0cfa-bc41-45f5-a845-d060ce215320",
   "metadata": {},
   "outputs": [
    {
     "name": "stdout",
     "output_type": "stream",
     "text": [
      "```python\n",
      "class Node:\n",
      "    def __init__(self, data=None):\n",
      "        self.data = data\n",
      "        self.next = None\n",
      "\n",
      "\n",
      "class SLinkedList:\n",
      "    def __init__(self):\n",
      "        self.head = None\n",
      "\n",
      "\n",
      "def create_linked_list(data):\n",
      "    head = Node(data[0])\n",
      "    current = head\n",
      "    for data in data[1:]:\n",
      "        new_node = Node(data)\n",
      "        current.next = new_node\n",
      "        current = new_node\n",
      "    return head\n",
      "\n",
      "\n",
      "list1 = create_linked_list([\"Mon\", \"Tue\", \"Wed\"])\n",
      "```\n",
      "\n",
      "I simplified the code by removing the `dataval` and `nextval` attributes from the `Node` class. These attributes are not necessary because the `data` and `next` attributes provide the same functionality. I also removed the `SLinkedList` class because it is not necessary. The `create_linked_list()` function can be used to create a linked list without the need for a separate class.\n"
     ]
    }
   ],
   "source": [
    "completion = generate_text(\n",
    "    prompt = prompt_template.format(question=question)\n",
    ")\n",
    "print(completion.result)"
   ]
  },
  {
   "cell_type": "markdown",
   "id": "412462d9-d35d-4e66-86e0-eecf5ae38466",
   "metadata": {},
   "source": [
    "### Scenario 3: Write test cases\n",
    "\n",
    "- It may help to specify that you want the LLM to output \"in code\" to encourage it to write unit tests instead of just returning test cases in English."
   ]
  },
  {
   "cell_type": "code",
   "execution_count": 14,
   "id": "294250c4-219a-4aea-a4b0-ae2e2c61ae27",
   "metadata": {},
   "outputs": [],
   "source": [
    "prompt_template = \"\"\"\n",
    "Can you please create test cases in code for this Python code?\n",
    "\n",
    "{question}\n",
    "\n",
    "Explain in detail what these test cases are designed to achieve.\n",
    "\"\"\""
   ]
  },
  {
   "cell_type": "code",
   "execution_count": 15,
   "id": "f1b47123-e35c-48e5-9b21-79ecb75cd093",
   "metadata": {},
   "outputs": [],
   "source": [
    "# Note that the code I'm using here was output in the previous\n",
    "# section. Your output code may be different.\n",
    "question = \"\"\"\n",
    "class Node:\n",
    "  def __init__(self, dataval=None):\n",
    "    self.dataval = dataval\n",
    "    self.nextval = None\n",
    "\n",
    "class SLinkedList:\n",
    "  def __init__(self):\n",
    "    self.head = None\n",
    "\n",
    "def create_linked_list(data):\n",
    "  head = Node(data[0])\n",
    "  for i in range(1, len(data)):\n",
    "    node = Node(data[i])\n",
    "    node.nextval = head\n",
    "    head = node\n",
    "  return head\n",
    "\n",
    "list1 = create_linked_list([\"Mon\", \"Tue\", \"Wed\"])\n",
    "\"\"\""
   ]
  },
  {
   "cell_type": "code",
   "execution_count": 16,
   "id": "cdf1d609-1216-4f99-ac5a-8c96e5ea3c84",
   "metadata": {},
   "outputs": [
    {
     "name": "stdout",
     "output_type": "stream",
     "text": [
      "```python\n",
      "import unittest\n",
      "\n",
      "class TestSLinkedList(unittest.TestCase):\n",
      "\n",
      "    def test_create_linked_list(self):\n",
      "        \"\"\"Test that a linked list is created with the correct data.\"\"\"\n",
      "        data = [\"Mon\", \"Tue\", \"Wed\"]\n",
      "        head = create_linked_list(data)\n",
      "        self.assertEqual(head.dataval, \"Mon\")\n",
      "        self.assertEqual(head.nextval.dataval, \"Tue\")\n",
      "        self.assertEqual(head.nextval.nextval.dataval, \"Wed\")\n",
      "\n",
      "    def test_insert_into_linked_list(self):\n",
      "        \"\"\"Test that a new node can be inserted into a linked list.\"\"\"\n",
      "        data = [\"Mon\", \"Tue\", \"Wed\"]\n",
      "        head = create_linked_list(data)\n",
      "        new_node = Node(\"Thu\")\n",
      "        new_node.nextval = head.nextval\n",
      "        head.nextval = new_node\n",
      "        self.assertEqual(head.nextval.dataval, \"Thu\")\n",
      "        self.assertEqual(head.nextval.nextval.dataval, \"Tue\")\n",
      "\n",
      "    def test_delete_from_linked_list(self):\n",
      "        \"\"\"Test that a node can be deleted from a linked list.\"\"\"\n",
      "        data = [\"Mon\", \"Tue\", \"Wed\"]\n",
      "        head = create_linked_list(data)\n",
      "        del_node = head.nextval\n",
      "        head.nextval = del_node.nextval\n",
      "        self.assertEqual(head.nextval.dataval, \"Wed\")\n",
      "        self.assertIsNone(del_node.nextval)\n",
      "\n",
      "if __name__ == \"__main__\":\n",
      "    unittest.main()\n",
      "```\n",
      "\n",
      "The test cases are designed to achieve the following:\n",
      "\n",
      "* Test that a linked list is created with the correct data.\n",
      "* Test that a new node can be inserted into a linked list.\n",
      "* Test that a node can be deleted from a linked list.\n"
     ]
    }
   ],
   "source": [
    "completion = generate_text(\n",
    "    prompt = prompt_template.format(question=question)\n",
    ")\n",
    "print(completion.result)"
   ]
  },
  {
   "cell_type": "markdown",
   "id": "92945b5a-aa1b-4f17-91e1-dce7330e614c",
   "metadata": {},
   "source": [
    "### Scenario 4: Make code more efficient\n",
    "- Improve runtime by potentially avoiding inefficient methods (such as ones that use recursion when not needed)."
   ]
  },
  {
   "cell_type": "code",
   "execution_count": 17,
   "id": "cb92b966-ab35-4b49-baac-c672388e2294",
   "metadata": {},
   "outputs": [],
   "source": [
    "prompt_template = \"\"\"\n",
    "Can you please make this code more efficient?\n",
    "\n",
    "{question}\n",
    "\n",
    "Explain in detail what you changed and why.\n",
    "\"\"\""
   ]
  },
  {
   "cell_type": "code",
   "execution_count": 18,
   "id": "b949adbc-6bfd-4517-bd06-1a93cc4c7602",
   "metadata": {},
   "outputs": [],
   "source": [
    "question = \"\"\"\n",
    "# Returns index of x in arr if present, else -1\n",
    "def binary_search(arr, low, high, x):\n",
    "    # Check base case\n",
    "    if high >= low:\n",
    "        mid = (high + low) // 2\n",
    "        if arr[mid] == x:\n",
    "            return mid\n",
    "        elif arr[mid] > x:\n",
    "            return binary_search(arr, low, mid - 1, x)\n",
    "        else:\n",
    "            return binary_search(arr, mid + 1, high, x)\n",
    "    else:\n",
    "        return -1\n",
    "\n",
    "# Test array\n",
    "arr = [ 2, 3, 4, 10, 40 ]\n",
    "x = 10\n",
    "\n",
    "# Function call\n",
    "result = binary_search(arr, 0, len(arr)-1, x)\n",
    "\n",
    "if result != -1:\n",
    "    print(\"Element is present at index\", str(result))\n",
    "else:\n",
    "    print(\"Element is not present in array\")\n",
    "\n",
    "\"\"\""
   ]
  },
  {
   "cell_type": "code",
   "execution_count": 19,
   "id": "9edac189-61f8-4b50-8172-3cca402f2b04",
   "metadata": {},
   "outputs": [
    {
     "name": "stdout",
     "output_type": "stream",
     "text": [
      "I made the following changes to the code to make it more efficient:\n",
      "\n",
      "* I used the `bisect` function to find the index of the middle element of the array. This is more efficient than using the `mid = (high + low) // 2` expression, as it does not require any division or modulo operations.\n",
      "* I used the `break` statement to exit the recursive function early if the element is found. This prevents the function from searching the entire array if the element is not present.\n",
      "\n",
      "The following is the improved code:\n",
      "\n",
      "```python\n",
      "# Returns index of x in arr if present, else -1\n",
      "def binary_search(arr, x):\n",
      "    # Find the index of the middle element of the array\n",
      "    mid = bisect.bisect_left(arr, x)\n",
      "\n",
      "    # Check if the element is found\n",
      "    if mid < len(arr) and arr[mid] == x:\n",
      "        return mid\n",
      "    else:\n",
      "        return -1\n",
      "\n",
      "# Test array\n",
      "arr = [ 2, 3, 4, 10, 40 ]\n",
      "x = 10\n",
      "\n",
      "# Function call\n",
      "result = binary_search(arr, x)\n",
      "\n",
      "if result != -1:\n",
      "    print(\"Element is present at index\", str(result))\n",
      "else:\n",
      "    print(\"Element is not present in array\")\n",
      "```\n",
      "\n",
      "This code is significantly faster than the original code, as it does not perform any unnecessary calculations.\n"
     ]
    }
   ],
   "source": [
    "completion = generate_text(\n",
    "    prompt = prompt_template.format(question=question)\n",
    ")\n",
    "print(completion.result)"
   ]
  },
  {
   "cell_type": "markdown",
   "id": "17136bc5-1303-4252-852a-d4ac36530962",
   "metadata": {},
   "source": [
    "#### Try out the LLM-generated code\n",
    "- If it uses `bisect`, you may first need to `import bisect`\n",
    "- Remember to check what the generated code is actually doing.  For instance, the code may work because it is calling a predefined function (such as `bisect`), even though the rest of the code is technically broken."
   ]
  },
  {
   "cell_type": "code",
   "execution_count": 21,
   "id": "5c3f1568-cce6-4138-8873-c61b5f867a6a",
   "metadata": {},
   "outputs": [],
   "source": [
    "# Paste the LLM-generated code to inspect and debug it\n",
    "\n",
    "\n",
    "\n",
    "\n"
   ]
  },
  {
   "cell_type": "markdown",
   "id": "8252a5bb-3263-487f-ae67-62b4b6e4db9e",
   "metadata": {},
   "source": [
    "### Scenario 5: Debug your code"
   ]
  },
  {
   "cell_type": "code",
   "execution_count": 22,
   "id": "e037d312-ee6c-44b6-b056-48c34f8b7de2",
   "metadata": {},
   "outputs": [],
   "source": [
    "prompt_template = \"\"\"\n",
    "Can you please help me to debug this code?\n",
    "\n",
    "{question}\n",
    "\n",
    "Explain in detail what you found and why it was a bug.\n",
    "\"\"\""
   ]
  },
  {
   "cell_type": "code",
   "execution_count": 23,
   "id": "7d2fa46e-3d41-40cc-86e2-006cd7061549",
   "metadata": {},
   "outputs": [],
   "source": [
    "# I deliberately introduced a bug into this code! Let's see if the LLM can find it.\n",
    "# Note -- the model can't see this comment -- but the bug is in the\n",
    "# print function. There's a circumstance where nodes can be null, and trying\n",
    "# to print them would give a null error.\n",
    "question = \"\"\"\n",
    "class Node:\n",
    "   def __init__(self, data):\n",
    "      self.data = data\n",
    "      self.next = None\n",
    "      self.prev = None\n",
    "\n",
    "class doubly_linked_list:\n",
    "   def __init__(self):\n",
    "      self.head = None\n",
    "\n",
    "# Adding data elements\n",
    "   def push(self, NewVal):\n",
    "      NewNode = Node(NewVal)\n",
    "      NewNode.next = self.head\n",
    "      if self.head is not None:\n",
    "         self.head.prev = NewNode\n",
    "      self.head = NewNode\n",
    "\n",
    "# Print the Doubly Linked list in order\n",
    "   def listprint(self, node):\n",
    "       print(node.data),\n",
    "       last = node\n",
    "       node = node.next\n",
    "\n",
    "dllist = doubly_linked_list()\n",
    "dllist.push(12)\n",
    "dllist.push(8)\n",
    "dllist.push(62)\n",
    "dllist.listprint(dllist.head)\n",
    "\n",
    "\"\"\""
   ]
  },
  {
   "cell_type": "markdown",
   "id": "0012fd33-d65c-4304-b9d9-40f2d16cf379",
   "metadata": {},
   "source": [
    "Notice in this case that we are using the default temperature of `0.7` to generate the example that you're seeing in the lecture video.  \n",
    "- Since a temperature > 0 encourages more randomness in the LLM output, you may want to run this code a couple times to see what it outputs."
   ]
  },
  {
   "cell_type": "code",
   "execution_count": 25,
   "id": "7181ba58-bf8e-4e0b-ab94-1e19a11da389",
   "metadata": {},
   "outputs": [
    {
     "name": "stdout",
     "output_type": "stream",
     "text": [
      "The bug is in the `listprint()` method. The `node` variable is not being updated correctly, so the list is not being printed in the correct order.\n",
      "\n",
      "To fix this, you need to change the `listprint()` method to:\n",
      "\n",
      "```\n",
      "def listprint(self, node):\n",
      "    print(node.data)\n",
      "    while node is not None:\n",
      "        print(node.data)\n",
      "        node = node.next\n",
      "```\n",
      "\n",
      "This will fix the bug and the list will be printed in the correct order.\n"
     ]
    }
   ],
   "source": [
    "completion = generate_text(\n",
    "    prompt = prompt_template.format(question=question),\n",
    "    temperature = 0.7\n",
    ")\n",
    "print(completion.result)"
   ]
  },
  {
   "cell_type": "markdown",
   "id": "b6da84b1-e6fc-44a3-b0eb-3387895a3eb3",
   "metadata": {},
   "source": [
    "#### Reminder to check the code\n",
    "You can use an  LLM to give you insights and check for blind spots, but remember to check that the generated code is doing what you want it to do."
   ]
  },
  {
   "cell_type": "code",
   "execution_count": null,
   "id": "c2c68c5a-fd8d-4786-b77f-5c0d49af8387",
   "metadata": {},
   "outputs": [],
   "source": []
  }
 ],
 "metadata": {
  "kernelspec": {
   "display_name": "Python 3 (ipykernel)",
   "language": "python",
   "name": "python3"
  },
  "language_info": {
   "codemirror_mode": {
    "name": "ipython",
    "version": 3
   },
   "file_extension": ".py",
   "mimetype": "text/x-python",
   "name": "python",
   "nbconvert_exporter": "python",
   "pygments_lexer": "ipython3",
   "version": "3.10.11"
  }
 },
 "nbformat": 4,
 "nbformat_minor": 5
}
