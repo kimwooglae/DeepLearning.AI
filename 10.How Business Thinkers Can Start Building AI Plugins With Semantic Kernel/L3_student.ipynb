{
 "cells": [
  {
   "cell_type": "markdown",
   "id": "d2ceb2f1-ea89-4b99-9389-42468667a8f3",
   "metadata": {},
   "source": [
    "# 🧑‍🍳 L3 - 나중에 재사용할 수 있도록 만든 도구 정리하기"
   ]
  },
  {
   "cell_type": "markdown",
   "id": "42fe6b46-cfb4-4fb8-a5bb-3c25e913c6b3",
   "metadata": {},
   "source": [
    "## 🔖 알림: 모든 ✨ 생성 응답은 모델이 _____ 을 입력하도록 한 결과입니다.\n",
    "\n",
    "![](./assets/completion.png)"
   ]
  },
  {
   "cell_type": "markdown",
   "id": "afb53970-193b-460f-bb5d-06df8f1f508a",
   "metadata": {},
   "source": [
    "1. 기존 비즈니스 성장\n",
    "2. 비용 및 시간 절약\n",
    "3. 완전히 새로운 비즈니스 추가\n",
    "4. 미지의 영역에 대한 대비"
   ]
  },
  {
   "cell_type": "code",
   "execution_count": 25,
   "id": "71a77baf-2279-40d4-a3a5-ccdd84eb277b",
   "metadata": {},
   "outputs": [
    {
     "name": "stdout",
     "output_type": "stream",
     "text": [
      "A kernel is now ready.\n"
     ]
    }
   ],
   "source": [
    "import os\n",
    "import semantic_kernel as sk\n",
    "from semantic_kernel.connectors.ai.open_ai import AzureChatCompletion, OpenAIChatCompletion\n",
    "from IPython.display import display, Markdown\n",
    "\n",
    "kernel = sk.Kernel()\n",
    "\n",
    "useAzureOpenAI = False\n",
    "\n",
    "if useAzureOpenAI:\n",
    "    deployment, api_key, endpoint = sk.azure_openai_settings_from_dot_env()\n",
    "    kernel.add_text_completion_service(\"azureopenai\", AzureChatCompletion(deployment, endpoint, api_key))\n",
    "else:\n",
    "    # api_key, org_id = sk.openai_settings_from_dot_env()\n",
    "    # kernel.add_text_completion_service(\"openai\", OpenAIChatCompletion(\"gpt-3.5-turbo-0301\", api_key, org_id))\n",
    "    api_key = os.environ.get(\"OPENAI_API_KEY\")\n",
    "    # kernel.add_text_completion_service(\"openai\", OpenAIChatCompletion(\"gpt-3.5-turbo-0301\", api_key))\n",
    "    kernel.add_text_completion_service(\"openai\", OpenAIChatCompletion(\"gpt-4\", api_key))  # write in Korean 이 적용되려면 gpt-4 필요\n",
    "\n",
    "print(\"A kernel is now ready.\")    "
   ]
  },
  {
   "cell_type": "markdown",
   "id": "5b25681c-7d6f-4d81-8725-ca7cf9faeb6a",
   "metadata": {},
   "source": [
    "```directory\n",
    "plugins-sk/\n",
    "│\n",
    "└─── BusinessThinking/\n",
    "     |\n",
    "     └─── BasicStrategies/\n",
    "     |    └─── config.json\n",
    "     |    └─── skprompt.txt\n",
    "     |\n",
    "     └─── SeekCostEfficiency/\n",
    "     |    └─── config.json\n",
    "     |    └─── skprompt.txt\n",
    "     |\n",
    "     └─── SeekTimeEfficiency/\n",
    "          └─── config.json\n",
    "          └─── skprompt.txt\n",
    "```"
   ]
  },
  {
   "cell_type": "markdown",
   "id": "738e0753-8ffd-4b49-a394-eee74e6434c9",
   "metadata": {},
   "source": [
    "**Note**, LLM이 항상 동일한 결과를 도출하는 것은 아닙니다. 결과는 동영상과 다를 수 있습니다."
   ]
  },
  {
   "cell_type": "markdown",
   "id": "833c5f85-a938-47d5-8b73-2bdf8aff9f9d",
   "metadata": {},
   "source": [
    "**Note**: 플러그인 디렉터리를 보려면 jupyter 노트북 상단에서 '파일'을 선택합니다. 그런 다음 '열기'를 선택합니다. 그러면 파일 디렉터리 보기 탭이 열리고 플러그인-sk 디렉터리를 보고 이 실습에서 사용된 파일을 살펴볼 수 있습니다."
   ]
  },
  {
   "cell_type": "code",
   "execution_count": 22,
   "id": "a354c02b-db61-4f53-b5d7-072e56c2fe63",
   "metadata": {},
   "outputs": [
    {
     "data": {
      "text/markdown": [
       "### ✨ Suggestions for how to gain cost efficiencies. \n",
       "| 제목 | 강점 | 약점 | 설명 |\n",
       "| ----- | -------- | -------- | ----------- |\n",
       "| 직원 유지 전략 | 최고의 피자집에서 훈련받은 사장님 | 높은 직원 이직률 | 사장님이 직접 직원들에게 훈련을 제공하여 이직률을 줄이고, 이를 통해 비용 효율성을 높일 수 있습니다. |\n",
       "| 시설 개선 전략 | 대학 캠퍼스 내의 주요 위치 | 홍수로 인한 좌석 영역 피해 | 좌석 영역을 수리하고, 이를 통해 더 많은 고객을 유치하여 매출을 늘릴 수 있습니다. |\n",
       "| 메뉴 개선 전략 | 독특한 마늘 피자 레시피, 강력한 지역 명성 | 칼조네가 메뉴에 없음, 젊은 고객층으로부터 부정적인 리뷰 | 인기 있는 칼조네를 메뉴에 추가하고, 젊은 고객층이 선호하는 힙한 재료를 사용하여 고객 만족도를 높일 수 있습니다. |"
      ],
      "text/plain": [
       "<IPython.core.display.Markdown object>"
      ]
     },
     "metadata": {},
     "output_type": "display_data"
    }
   ],
   "source": [
    "strengths = [ \"Unique garlic pizza recipe that wins top awards\",\"Owner trained in Sicily at some of the best pizzerias\",\"Strong local reputation\",\"Prime location on university campus\" ]\n",
    "weaknesses = [ \"High staff turnover\",\"Floods in the area damaged the seating areas that are in need of repair\",\"Absence of popular calzones from menu\",\"Negative reviews from younger demographic for lack of hip ingredients\" ]\n",
    "\n",
    "pluginsDirectory = \"./plugins-sk\"\n",
    "\n",
    "pluginBT = kernel.import_semantic_skill_from_directory(pluginsDirectory, \"BusinessThinking\");\n",
    "\n",
    "my_context = kernel.create_new_context()\n",
    "my_context['input'] = 'makes pizzas'\n",
    "my_context['strengths'] = \", \".join(strengths)\n",
    "my_context['weaknesses'] = \", \".join(weaknesses)\n",
    "\n",
    "costefficiency_result = await kernel.run_async(pluginBT[\"SeekCostEfficiency\"], input_context=my_context)\n",
    "costefficiency_str = str(\"### ✨ Suggestions for how to gain cost efficiencies. \\n\" + str(costefficiency_result))\n",
    "display(Markdown(costefficiency_str))"
   ]
  },
  {
   "cell_type": "code",
   "execution_count": 24,
   "id": "6d92de38-9ef9-46a4-b739-e9ae2accdf44",
   "metadata": {},
   "outputs": [
    {
     "data": {
      "text/markdown": [
       "## ✨ Business strategy thinking based on SWOT analysis\n",
       "### 강점을 기반으로 비즈니스를 즉시 개선할 수 있습니다\n",
       "\n",
       "비즈니스를 개선할 수 있는 세 가지 방법을 정의하겠습니다.\n",
       "| 제목 | 강점 | 약점 | 설명 |\n",
       "| ----- | -------- | -------- | ----------- |\n",
       "| 피자 레시피 홍보 | 수상 경력 있는 독특한 마늘 피자 레시피 | 젊은 세대로부터 부정적인 리뷰 받음 | 수상 경력 있는 독특한 마늘 피자 레시피를 홍보하여 젊은 세대의 관심을 끌어내자 |\n",
       "| 직원 교육 강화 | 시칠리아에서 훈련받은 주인 | 높은 직원 이직률 | 주인의 훈련 경험을 활용하여 직원 교육을 강화하고 이직률을 줄이자 |\n",
       "| 메뉴 확장 | 강력한 지역 명성 | 칼조네가 메뉴에 없음 | 지역 명성을 활용하여 칼조네를 포함한 새로운 메뉴를 홍보하자 |\n",
       "\n",
       "### 가능한 한 기회를 활용하자\n",
       "\n",
       "새로운 수익을 창출할 수 있는 세 가지 방법을 정의하겠습니다.\n",
       "| 제목 | 기회 | 설명 |\n",
       "| ----- | -------- | ----------- |\n",
       "| 케이터링 서비스 확장 | 미개척의 케이터링 잠재력 | 피자 케이터링 서비스를 확장하여 새로운 수익원을 창출하자 |\n",
       "| 온라인 주문 시스템 도입 | 미탐구된 온라인 주문 및 배달 서비스 | 온라인 주문 및 배달 시스템을 도입하여 매출을 증가시키자 |\n",
       "| 테크 스타트업 커뮤니티 활용 | 성장하는 로컬 테크 스타트업 커뮤니티 | 테크 스타트업 커뮤니티에 홍보하여 새로운 고객을 확보하자 |\n",
       "\n",
       "### 위협에 대한 저항력을 늘리는 것은 항상 좋은 생각입니다\n",
       "\n",
       "비즈니스가 위협에 대해 더욱 저항력을 가질 수 있는 세 가지 방법을 정의하겠습니다.\n",
       "| 제목 | 위협 | 설명 |\n",
       "| ----- | -------- | ----------- |\n",
       "| 경쟁력 있는 가격 설정 | 근처의 저렴한 피자 사업과의 경쟁 | 가격 경쟁력을 갖추기 위해 원가 절감 방안을 모색하자 |\n",
       "| 대체 통행로 홍보 | 근처의 도로 공사로 인한 보행 트래픽 감소 | 고객들이 사업장에 접근할 수 있는 대체 통행로를 홍보하자 |\n",
       "| 치즈 원가 절감 | 치즈 가격 상승으로 인한 피자 원가 증가 | 다른 공급업체를 찾거나 치즈를 대체할 수 있는 다른 재료를 찾아보자 |"
      ],
      "text/plain": [
       "<IPython.core.display.Markdown object>"
      ]
     },
     "metadata": {},
     "output_type": "display_data"
    }
   ],
   "source": [
    "opportunities = [ \"Untapped catering potential\",\"Growing local tech startup community\",\"Unexplored online presence and order capabilities\",\"Upcoming annual food fair\" ]\n",
    "threats = [ \"Competition from cheaper pizza businesses nearby\",\"There's nearby street construction that will impact foot traffic\",\"Rising cost of cheese will increase the cost of pizzas\",\"No immediate local regulatory changes but it's election season\" ]\n",
    "\n",
    "pluginBT = kernel.import_semantic_skill_from_directory(pluginsDirectory, \"BusinessThinking\");\n",
    "\n",
    "my_context = kernel.create_new_context()\n",
    "my_context['input'] = 'makes pizzas'\n",
    "my_context['strengths'] = \", \".join(strengths)\n",
    "my_context['weaknesses'] = \", \".join(weaknesses)\n",
    "my_context['opportunities'] = \", \".join(opportunities)\n",
    "my_context['threats'] = \", \".join(threats)\n",
    "\n",
    "bizstrat_result = await kernel.run_async(pluginBT[\"BasicStrategies\"],input_context=my_context)\n",
    "bizstrat_str = \"## ✨ Business strategy thinking based on SWOT analysis\\n\"+str(bizstrat_result)\n",
    "display(Markdown(bizstrat_str))"
   ]
  },
  {
   "cell_type": "markdown",
   "id": "c6404fff-1d01-4074-8cd4-a5ca791d7a82",
   "metadata": {},
   "source": [
    "Another way to think of it is the famous \"bucket of time\" and \"bucket of money\" depiction of a business owner.\n",
    "\n",
    "![](./assets/shopkeeper.png)\n"
   ]
  },
  {
   "cell_type": "code",
   "execution_count": null,
   "id": "b526135a-da9b-453d-a4ff-7123eca17b92",
   "metadata": {},
   "outputs": [],
   "source": []
  }
 ],
 "metadata": {
  "kernelspec": {
   "display_name": "Python 3 (ipykernel)",
   "language": "python",
   "name": "python3"
  },
  "language_info": {
   "codemirror_mode": {
    "name": "ipython",
    "version": 3
   },
   "file_extension": ".py",
   "mimetype": "text/x-python",
   "name": "python",
   "nbconvert_exporter": "python",
   "pygments_lexer": "ipython3",
   "version": "3.10.11"
  }
 },
 "nbformat": 4,
 "nbformat_minor": 5
}
