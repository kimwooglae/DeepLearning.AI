{
 "cells": [
  {
   "cell_type": "markdown",
   "id": "9bee2460-f50e-4bad-af94-6cdf5c41d243",
   "metadata": {},
   "source": [
    "# 🧑‍🍳 L5 - 생성된 물방울, 즉 \"그레이비\"를 저장하는 것을 잊지 마세요."
   ]
  },
  {
   "cell_type": "markdown",
   "id": "aa01ee43-9e44-4dba-8790-735523a44031",
   "metadata": {},
   "source": [
    "인벤토리:\n",
    "\n",
    "1. 커널\n",
    "2. 시맨틱(및 네이티브) 함수 - 이것으로 많은 일을 할 수 있습니다.\n",
    "3. 비즈니스 사고 플러그인 --> 상상할 수없는 방식의 SWOT\n",
    "4. 디자인씽킹 플러그인 --> 당신이 해냈어요. 축하합니다\n",
    "\n",
    "... 다음은 ... you did all that COMPLETION ✨✨✨✨✨✨✨✨✨✨✨✨✨✨✨✨✨✨"
   ]
  },
  {
   "cell_type": "markdown",
   "id": "fce90256-96c1-4e78-bceb-d832748ce607",
   "metadata": {},
   "source": [
    "![](./assets/twodimensions.png)"
   ]
  },
  {
   "cell_type": "markdown",
   "id": "1d7e6a43-549a-46af-9349-217268bfebec",
   "metadata": {},
   "source": [
    "# Embeddings"
   ]
  },
  {
   "cell_type": "code",
   "execution_count": 2,
   "id": "db6de997-0a33-415b-9bc2-6aebdc92342c",
   "metadata": {},
   "outputs": [
    {
     "name": "stdout",
     "output_type": "stream",
     "text": [
      "Requirement already satisfied: semantic_kernel in /Users/wlkim/anaconda3/envs/deeplearning-ai/lib/python3.10/site-packages (0.3.11.dev0)\n",
      "Requirement already satisfied: numpy<2.0.0,>=1.24.2 in /Users/wlkim/anaconda3/envs/deeplearning-ai/lib/python3.10/site-packages (from semantic_kernel) (1.25.2)\n",
      "Requirement already satisfied: python-dotenv==1.0.0 in /Users/wlkim/anaconda3/envs/deeplearning-ai/lib/python3.10/site-packages (from semantic_kernel) (1.0.0)\n",
      "Requirement already satisfied: pydantic<2 in /Users/wlkim/anaconda3/envs/deeplearning-ai/lib/python3.10/site-packages (from semantic_kernel) (1.10.12)\n",
      "Requirement already satisfied: openai<0.28.0,>=0.27.0 in /Users/wlkim/anaconda3/envs/deeplearning-ai/lib/python3.10/site-packages (from semantic_kernel) (0.27.10)\n",
      "Requirement already satisfied: openapi_core<0.19.0,>=0.18.0 in /Users/wlkim/anaconda3/envs/deeplearning-ai/lib/python3.10/site-packages (from semantic_kernel) (0.18.0)\n",
      "Requirement already satisfied: aiofiles<24.0.0,>=23.1.0 in /Users/wlkim/anaconda3/envs/deeplearning-ai/lib/python3.10/site-packages (from semantic_kernel) (23.2.1)\n",
      "Requirement already satisfied: prance<24.0.0.0,>=23.6.21.0 in /Users/wlkim/anaconda3/envs/deeplearning-ai/lib/python3.10/site-packages (from semantic_kernel) (23.6.21.0)\n",
      "Requirement already satisfied: regex<2024.0.0,>=2023.6.3 in /Users/wlkim/anaconda3/envs/deeplearning-ai/lib/python3.10/site-packages (from semantic_kernel) (2023.8.8)\n",
      "Requirement already satisfied: requests>=2.20 in /Users/wlkim/anaconda3/envs/deeplearning-ai/lib/python3.10/site-packages (from openai<0.28.0,>=0.27.0->semantic_kernel) (2.31.0)\n",
      "Requirement already satisfied: tqdm in /Users/wlkim/anaconda3/envs/deeplearning-ai/lib/python3.10/site-packages (from openai<0.28.0,>=0.27.0->semantic_kernel) (4.66.1)\n",
      "Requirement already satisfied: aiohttp in /Users/wlkim/anaconda3/envs/deeplearning-ai/lib/python3.10/site-packages (from openai<0.28.0,>=0.27.0->semantic_kernel) (3.8.5)\n",
      "Requirement already satisfied: jsonschema<5.0.0,>=4.18.0 in /Users/wlkim/anaconda3/envs/deeplearning-ai/lib/python3.10/site-packages (from openapi_core<0.19.0,>=0.18.0->semantic_kernel) (4.19.0)\n",
      "Requirement already satisfied: jsonschema-spec<0.3.0,>=0.2.3 in /Users/wlkim/anaconda3/envs/deeplearning-ai/lib/python3.10/site-packages (from openapi_core<0.19.0,>=0.18.0->semantic_kernel) (0.2.4)\n",
      "Requirement already satisfied: werkzeug in /Users/wlkim/anaconda3/envs/deeplearning-ai/lib/python3.10/site-packages (from openapi_core<0.19.0,>=0.18.0->semantic_kernel) (2.3.7)\n",
      "Requirement already satisfied: openapi-spec-validator<0.7.0,>=0.6.0 in /Users/wlkim/anaconda3/envs/deeplearning-ai/lib/python3.10/site-packages (from openapi_core<0.19.0,>=0.18.0->semantic_kernel) (0.6.0)\n",
      "Requirement already satisfied: more-itertools in /Users/wlkim/anaconda3/envs/deeplearning-ai/lib/python3.10/site-packages (from openapi_core<0.19.0,>=0.18.0->semantic_kernel) (10.1.0)\n",
      "Requirement already satisfied: parse in /Users/wlkim/anaconda3/envs/deeplearning-ai/lib/python3.10/site-packages (from openapi_core<0.19.0,>=0.18.0->semantic_kernel) (1.19.1)\n",
      "Requirement already satisfied: asgiref<4.0.0,>=3.6.0 in /Users/wlkim/anaconda3/envs/deeplearning-ai/lib/python3.10/site-packages (from openapi_core<0.19.0,>=0.18.0->semantic_kernel) (3.7.2)\n",
      "Requirement already satisfied: isodate in /Users/wlkim/anaconda3/envs/deeplearning-ai/lib/python3.10/site-packages (from openapi_core<0.19.0,>=0.18.0->semantic_kernel) (0.6.1)\n",
      "Requirement already satisfied: openapi-schema-validator<0.7.0,>=0.6.0 in /Users/wlkim/anaconda3/envs/deeplearning-ai/lib/python3.10/site-packages (from openapi_core<0.19.0,>=0.18.0->semantic_kernel) (0.6.0)\n",
      "Requirement already satisfied: packaging>=21.3 in /Users/wlkim/anaconda3/envs/deeplearning-ai/lib/python3.10/site-packages (from prance<24.0.0.0,>=23.6.21.0->semantic_kernel) (23.1)\n",
      "Requirement already satisfied: chardet>=3.0 in /Users/wlkim/anaconda3/envs/deeplearning-ai/lib/python3.10/site-packages (from prance<24.0.0.0,>=23.6.21.0->semantic_kernel) (5.2.0)\n",
      "Requirement already satisfied: six~=1.15 in /Users/wlkim/anaconda3/envs/deeplearning-ai/lib/python3.10/site-packages (from prance<24.0.0.0,>=23.6.21.0->semantic_kernel) (1.16.0)\n",
      "Requirement already satisfied: ruamel.yaml>=0.17.10 in /Users/wlkim/anaconda3/envs/deeplearning-ai/lib/python3.10/site-packages (from prance<24.0.0.0,>=23.6.21.0->semantic_kernel) (0.17.32)\n",
      "Requirement already satisfied: typing-extensions>=4.2.0 in /Users/wlkim/anaconda3/envs/deeplearning-ai/lib/python3.10/site-packages (from pydantic<2->semantic_kernel) (4.7.1)\n",
      "Requirement already satisfied: rpds-py>=0.7.1 in /Users/wlkim/anaconda3/envs/deeplearning-ai/lib/python3.10/site-packages (from jsonschema<5.0.0,>=4.18.0->openapi_core<0.19.0,>=0.18.0->semantic_kernel) (0.10.2)\n",
      "Requirement already satisfied: referencing>=0.28.4 in /Users/wlkim/anaconda3/envs/deeplearning-ai/lib/python3.10/site-packages (from jsonschema<5.0.0,>=4.18.0->openapi_core<0.19.0,>=0.18.0->semantic_kernel) (0.30.2)\n",
      "Requirement already satisfied: jsonschema-specifications>=2023.03.6 in /Users/wlkim/anaconda3/envs/deeplearning-ai/lib/python3.10/site-packages (from jsonschema<5.0.0,>=4.18.0->openapi_core<0.19.0,>=0.18.0->semantic_kernel) (2023.7.1)\n",
      "Requirement already satisfied: attrs>=22.2.0 in /Users/wlkim/anaconda3/envs/deeplearning-ai/lib/python3.10/site-packages (from jsonschema<5.0.0,>=4.18.0->openapi_core<0.19.0,>=0.18.0->semantic_kernel) (23.1.0)\n",
      "Requirement already satisfied: PyYAML>=5.1 in /Users/wlkim/anaconda3/envs/deeplearning-ai/lib/python3.10/site-packages (from jsonschema-spec<0.3.0,>=0.2.3->openapi_core<0.19.0,>=0.18.0->semantic_kernel) (6.0.1)\n",
      "Requirement already satisfied: pathable<0.5.0,>=0.4.1 in /Users/wlkim/anaconda3/envs/deeplearning-ai/lib/python3.10/site-packages (from jsonschema-spec<0.3.0,>=0.2.3->openapi_core<0.19.0,>=0.18.0->semantic_kernel) (0.4.3)\n",
      "Requirement already satisfied: rfc3339-validator in /Users/wlkim/anaconda3/envs/deeplearning-ai/lib/python3.10/site-packages (from openapi-schema-validator<0.7.0,>=0.6.0->openapi_core<0.19.0,>=0.18.0->semantic_kernel) (0.1.4)\n",
      "Requirement already satisfied: lazy-object-proxy<2.0.0,>=1.7.1 in /Users/wlkim/anaconda3/envs/deeplearning-ai/lib/python3.10/site-packages (from openapi-spec-validator<0.7.0,>=0.6.0->openapi_core<0.19.0,>=0.18.0->semantic_kernel) (1.9.0)\n",
      "Requirement already satisfied: idna<4,>=2.5 in /Users/wlkim/anaconda3/envs/deeplearning-ai/lib/python3.10/site-packages (from requests>=2.20->openai<0.28.0,>=0.27.0->semantic_kernel) (3.4)\n",
      "Requirement already satisfied: certifi>=2017.4.17 in /Users/wlkim/anaconda3/envs/deeplearning-ai/lib/python3.10/site-packages (from requests>=2.20->openai<0.28.0,>=0.27.0->semantic_kernel) (2023.7.22)\n",
      "Requirement already satisfied: urllib3<3,>=1.21.1 in /Users/wlkim/anaconda3/envs/deeplearning-ai/lib/python3.10/site-packages (from requests>=2.20->openai<0.28.0,>=0.27.0->semantic_kernel) (2.0.4)\n",
      "Requirement already satisfied: charset-normalizer<4,>=2 in /Users/wlkim/anaconda3/envs/deeplearning-ai/lib/python3.10/site-packages (from requests>=2.20->openai<0.28.0,>=0.27.0->semantic_kernel) (3.2.0)\n",
      "Requirement already satisfied: ruamel.yaml.clib>=0.2.7 in /Users/wlkim/anaconda3/envs/deeplearning-ai/lib/python3.10/site-packages (from ruamel.yaml>=0.17.10->prance<24.0.0.0,>=23.6.21.0->semantic_kernel) (0.2.7)\n",
      "Requirement already satisfied: async-timeout<5.0,>=4.0.0a3 in /Users/wlkim/anaconda3/envs/deeplearning-ai/lib/python3.10/site-packages (from aiohttp->openai<0.28.0,>=0.27.0->semantic_kernel) (4.0.3)\n",
      "Requirement already satisfied: frozenlist>=1.1.1 in /Users/wlkim/anaconda3/envs/deeplearning-ai/lib/python3.10/site-packages (from aiohttp->openai<0.28.0,>=0.27.0->semantic_kernel) (1.4.0)\n",
      "Requirement already satisfied: aiosignal>=1.1.2 in /Users/wlkim/anaconda3/envs/deeplearning-ai/lib/python3.10/site-packages (from aiohttp->openai<0.28.0,>=0.27.0->semantic_kernel) (1.3.1)\n",
      "Requirement already satisfied: multidict<7.0,>=4.5 in /Users/wlkim/anaconda3/envs/deeplearning-ai/lib/python3.10/site-packages (from aiohttp->openai<0.28.0,>=0.27.0->semantic_kernel) (6.0.4)\n",
      "Requirement already satisfied: yarl<2.0,>=1.0 in /Users/wlkim/anaconda3/envs/deeplearning-ai/lib/python3.10/site-packages (from aiohttp->openai<0.28.0,>=0.27.0->semantic_kernel) (1.9.2)\n",
      "Requirement already satisfied: MarkupSafe>=2.1.1 in /Users/wlkim/anaconda3/envs/deeplearning-ai/lib/python3.10/site-packages (from werkzeug->openapi_core<0.19.0,>=0.18.0->semantic_kernel) (2.1.3)\n"
     ]
    }
   ],
   "source": [
    "!pip install -U semantic_kernel\n",
    "# !pip install -U chromadb"
   ]
  },
  {
   "cell_type": "code",
   "execution_count": 1,
   "id": "ddf1a383-3106-446e-a6ac-6763aa5f28af",
   "metadata": {},
   "outputs": [
    {
     "name": "stdout",
     "output_type": "stream",
     "text": [
      "Made two new services attached to the kernel and made a Chroma memory store that's persistent.\n"
     ]
    }
   ],
   "source": [
    "import os\n",
    "from IPython.display import display, Markdown\n",
    "import semantic_kernel as sk\n",
    "from semantic_kernel.connectors.ai.open_ai import OpenAIChatCompletion, OpenAITextEmbedding\n",
    "from semantic_kernel.connectors.memory.chroma import ChromaMemoryStore\n",
    "\n",
    "kernel = sk.Kernel()\n",
    "\n",
    "api_key = os.environ.get(\"OPENAI_API_KEY\")\n",
    "kernel.add_text_completion_service(\"openai-completion\", OpenAIChatCompletion(\"gpt-3.5-turbo-0301\", api_key))\n",
    "kernel.add_text_embedding_generation_service(\"openai-embedding\", OpenAITextEmbedding(\"text-embedding-ada-002\", api_key))\n",
    "\n",
    "kernel.register_memory_store(memory_store=ChromaMemoryStore(persist_directory='mymemories'))\n",
    "print(\"Made two new services attached to the kernel and made a Chroma memory store that's persistent.\")"
   ]
  },
  {
   "cell_type": "code",
   "execution_count": 2,
   "id": "25ac99b9-1b58-48bf-bcbb-400f1111a8eb",
   "metadata": {},
   "outputs": [],
   "source": [
    "import shutil\n",
    "\n",
    "### ONLY DELETE THE DIRECTORY IF YOU WANT TO CLEAR THE MEMORY\n",
    "### OTHERWISE, SET delete_dir = True\n",
    "\n",
    "delete_dir = False\n",
    "\n",
    "if (delete_dir):\n",
    "    dir_path = \"mymemories\"\n",
    "    shutil.rmtree(dir_path)\n",
    "    kernel.register_memory_store(memory_store=ChromaMemoryStore(persist_directory=dir_path))\n",
    "    print(\"⚠️ Memory cleared and reset\")"
   ]
  },
  {
   "cell_type": "code",
   "execution_count": 3,
   "id": "8f0e330b-0cbc-4bc2-be18-817bc7c0ddbd",
   "metadata": {},
   "outputs": [
    {
     "name": "stdout",
     "output_type": "stream",
     "text": [
      "✅ SWOT analysis for the pizza shop is resident in native memory\n",
      "😶‍🌫️ Embeddings for SWOT have been generated\n"
     ]
    }
   ],
   "source": [
    "strength_questions = [\"What unique recipes or ingredients does the pizza shop use?\",\"What are the skills and experience of the staff?\",\"Does the pizza shop have a strong reputation in the local area?\",\"Are there any unique features of the shop or its location that attract customers?\", \"Does the pizza shop have a strong reputation in the local area?\", \"Are there any unique features of the shop or its location that attract customers?\"]\n",
    "weakness_questions = [\"What are the operational challenges of the pizza shop? (e.g., slow service, high staff turnover)\",\"Are there financial constraints that limit growth or improvements?\",\"Are there any gaps in the product offering?\",\"Are there customer complaints or negative reviews that need to be addressed?\"]\n",
    "opportunities_questions = [\"Is there potential for new products or services (e.g., catering, delivery)?\",\"Are there under-served customer segments or market areas?\",\"Can new technologies or systems enhance the business operations?\",\"Are there partnerships or local events that can be leveraged for marketing?\"]\n",
    "threats_questions = [\"Who are the major competitors and what are they offering?\",\"Are there potential negative impacts due to changes in the local area (e.g., construction, closure of nearby businesses)?\",\"Are there economic or industry trends that could impact the business negatively (e.g., increased ingredient costs)?\",\"Is there any risk due to changes in regulations or legislation (e.g., health and safety, employment)?\"]\n",
    "\n",
    "strengths = [ \"Unique garlic pizza recipe that wins top awards\",\"Owner trained in Sicily at some of the best pizzerias\",\"Strong local reputation\",\"Prime location on university campus\" ]\n",
    "weaknesses = [ \"High staff turnover\",\"Floods in the area damaged the seating areas that are in need of repair\",\"Absence of popular calzones from menu\",\"Negative reviews from younger demographic for lack of hip ingredients\" ]\n",
    "opportunities = [ \"Untapped catering potential\",\"Growing local tech startup community\",\"Unexplored online presence and order capabilities\",\"Upcoming annual food fair\" ]\n",
    "threats = [ \"Competition from cheaper pizza businesses nearby\",\"There's nearby street construction that will impact foot traffic\",\"Rising cost of cheese will increase the cost of pizzas\",\"No immediate local regulatory changes but it's election season\" ]\n",
    "\n",
    "print(\"✅ SWOT analysis for the pizza shop is resident in native memory\")\n",
    "\n",
    "memoryCollectionName = \"SWOT\"\n",
    "\n",
    "for i in range(len(strengths)):\n",
    "    await kernel.memory.save_information_async(memoryCollectionName, id=f\"strength-{i}\", text=f\"Internal business strength (S in SWOT) that makes customers happy and satisfied Q&A: Q: {strength_questions[i]} A: {strengths[i]}\")\n",
    "for i in range(len(weaknesses)):\n",
    "    await kernel.memory.save_information_async(memoryCollectionName, id=f\"weakness-{i}\", text=f\"Internal business weakness (W in SWOT) that makes customers unhappy and dissatisfied Q&A: Q: {weakness_questions[i]} A: {weaknesses[i]}\")\n",
    "for i in range(len(opportunities)):\n",
    "    await kernel.memory.save_information_async(memoryCollectionName, id=f\"opportunity-{i}\", text=f\"External opportunity (O in SWOT) for the business to gain entirely new customers Q&A: Q: {opportunities_questions[i]} A: {opportunities[i]}\")\n",
    "for i in range(len(threats)):\n",
    "    await kernel.memory.save_information_async(memoryCollectionName, id=f\"threat-{i}\", text=f\"External threat (T in SWOT) to the business that impacts its survival Q&A: Q: {threats_questions[i]} A: {threats[i]}\")\n",
    "\n",
    "print(\"😶‍🌫️ Embeddings for SWOT have been generated\")"
   ]
  },
  {
   "cell_type": "markdown",
   "id": "51000ce4-8450-4d70-b494-e0b2da871fb7",
   "metadata": {},
   "source": [
    "# 🧲!"
   ]
  },
  {
   "cell_type": "code",
   "execution_count": 5,
   "id": "e678af7b-aacd-44af-afbb-d4ab4c264610",
   "metadata": {},
   "outputs": [
    {
     "data": {
      "text/markdown": [
       "### ❓ Potential question: What are the easiest ways to save money?"
      ],
      "text/plain": [
       "<IPython.core.display.Markdown object>"
      ]
     },
     "metadata": {},
     "output_type": "display_data"
    },
    {
     "name": "stdout",
     "output_type": "stream",
     "text": [
      "  > 🧲 Similarity result 1:\n",
      "  >> ID: opportunity-3\n",
      "  Text: External opportunity (O in SWOT) for the business to gain entirely new customers Q&A: Q: Are there partnerships or local events that can be leveraged for marketing? A: Upcoming annual food fair  Relevance: 0.7359320586705262\n",
      "\n",
      "  > 🧲 Similarity result 2:\n",
      "  >> ID: threat-0\n",
      "  Text: External threat (T in SWOT) to the business that impacts its survival Q&A: Q: Who are the major competitors and what are they offering? A: Competition from cheaper pizza businesses nearby  Relevance: 0.7343402531361446\n",
      "\n",
      "  > 🧲 Similarity result 3:\n",
      "  >> ID: threat-2\n",
      "  Text: External threat (T in SWOT) to the business that impacts its survival Q&A: Q: Are there economic or industry trends that could impact the business negatively (e.g., increased ingredient costs)? A: Rising cost of cheese will increase the cost of pizzas  Relevance: 0.7340961655353365\n",
      "\n",
      "  > 🧲 Similarity result 4:\n",
      "  >> ID: opportunity-0\n",
      "  Text: External opportunity (O in SWOT) for the business to gain entirely new customers Q&A: Q: Is there potential for new products or services (e.g., catering, delivery)? A: Untapped catering potential  Relevance: 0.7338706116799228\n",
      "\n",
      "  > 🧲 Similarity result 5:\n",
      "  >> ID: opportunity-1\n",
      "  Text: External opportunity (O in SWOT) for the business to gain entirely new customers Q&A: Q: Are there under-served customer segments or market areas? A: Growing local tech startup community  Relevance: 0.7307292003144179\n",
      "\n"
     ]
    }
   ],
   "source": [
    "# potential_question = \"What are the easiest ways to make more money?\"\n",
    "potential_question = \"What are the easiest ways to save money?\"\n",
    "# potential_question = \"더 많은 돈을 벌 수 있는 가장 쉬운 방법은 무엇인가요?\"\n",
    "counter = 0\n",
    "\n",
    "memories = await kernel.memory.search_async(memoryCollectionName, potential_question, limit=5, min_relevance_score=0.5)\n",
    "\n",
    "display(Markdown(f\"### ❓ Potential question: {potential_question}\"))\n",
    "\n",
    "for memory in memories:\n",
    "    if counter == 0:\n",
    "        related_memory = memory.text\n",
    "    counter += 1\n",
    "    print(f\"  > 🧲 Similarity result {counter}:\\n  >> ID: {memory.id}\\n  Text: {memory.text}  Relevance: {memory.relevance}\\n\")"
   ]
  },
  {
   "cell_type": "code",
   "execution_count": 6,
   "id": "311ce794-26d9-41fc-9e63-97394cde5746",
   "metadata": {},
   "outputs": [
    {
     "name": "stdout",
     "output_type": "stream",
     "text": [
      "✨ Leveraging information available to address 'How can the business owner save time?'...\n",
      "  > 🧲 Hit 1: opportunity-2 \n",
      "  > 🧲 Hit 2: opportunity-0 \n",
      "  > 🧲 Hit 3: opportunity-1 \n",
      "✨ Synthesizing human-readable business-style presentation...\n"
     ]
    },
    {
     "data": {
      "text/markdown": [
       "# ✨ Generated presentation ...\n",
       "# 시간 절약을 위한 전략\n",
       "\n",
       "## 질문\n",
       "- 사업주가 시간을 절약하는 방법은 무엇인가요?\n",
       "\n",
       "## 주요 관심사\n",
       "1. 새로운 기술과 시스템을 도입하여 업무 운영 개선\n",
       "2. 새로운 제품 또는 서비스를 출시하여 새로운 고객층 확보\n",
       "3. 미처 발굴하지 못한 고객 세그먼트와 시장 영역 개척\n",
       "\n",
       "## 관심사 1: 새로운 기술과 시스템 도입\n",
       "- 업무 프로세스 자동화 및 최적화를 통해 시간 절약 가능\n",
       "- 예시: 온라인 주문 시스템 도입으로 전화 주문 처리 시간 단축\n",
       "\n",
       "## 관심사 2: 새로운 제품 또는 서비스 출시\n",
       "- 새로운 고객층을 확보하여 매출 증대와 시간 절약 가능\n",
       "- 예시: 케이터링 서비스 출시로 외부 업체와의 음식 주문 및 배송 시간 단축\n",
       "\n",
       "## 관심사 3: 미처 발굴하지 못한 고객 세그먼트와 시장 영역 개척\n",
       "- 새로운 고객층을 발굴하여 매출 증대와 시간 절약 가능\n",
       "- 예시: 성장하는 지역 스타트업 커뮤니티에 맞춘 마케팅 전략 수립으로 새로운 고객층 확보\n",
       "\n",
       "## 요약\n",
       "- 새로운 기술과 시스템 도입, 새로운 제품 또는 서비스 출시, 미처 발굴하지 못한 고객 세그먼트와 시장 영역 개척을 통해 시간을 절약할 수 있습니다."
      ],
      "text/plain": [
       "<IPython.core.display.Markdown object>"
      ]
     },
     "metadata": {},
     "output_type": "display_data"
    }
   ],
   "source": [
    "what_if_scenario = \"How can the business owner save time?\"\n",
    "counter = 0\n",
    "\n",
    "gathered_context = []\n",
    "max_memories = 3\n",
    "memories = await kernel.memory.search_async(memoryCollectionName, what_if_scenario, limit=max_memories, min_relevance_score=0.77)\n",
    "\n",
    "print(f\"✨ Leveraging information available to address '{what_if_scenario}'...\")\n",
    "\n",
    "for memory in memories:\n",
    "    if counter == 0:\n",
    "        related_memory = memory.text\n",
    "    counter += 1\n",
    "    gathered_context.append(memory.text + \"\\n\")\n",
    "    print(f\"  > 🧲 Hit {counter}: {memory.id} \")\n",
    "\n",
    "skillsDirectory = \"./plugins-sk\"\n",
    "print(f\"✨ Synthesizing human-readable business-style presentation...\")\n",
    "pluginFC = kernel.import_semantic_skill_from_directory(skillsDirectory, \"FriendlyConsultant\");\n",
    "\n",
    "my_context = kernel.create_new_context()\n",
    "my_context['input'] = what_if_scenario\n",
    "my_context['context'] = \"\\n\".join(gathered_context)\n",
    "\n",
    "preso_result = await kernel.run_async(pluginFC[\"Presentation\"], input_context=my_context)\n",
    "\n",
    "display(Markdown(\"# ✨ Generated presentation ...\\n\"+str(preso_result)))\n",
    "\n"
   ]
  },
  {
   "cell_type": "markdown",
   "id": "6d7f2360-5cce-42ed-b081-471bc74515dc",
   "metadata": {},
   "source": [
    "## 🔖 Reminder: You have now accessed both the COMPLETION and SIMILARITY engines. \n",
    "\n",
    "Huzzah! In doing so, you've unlocked the popular \"RAG\" (Retrieval Augmented Generation) pattern.\n",
    "\n",
    "![](./assets/ragpattern.png)"
   ]
  },
  {
   "cell_type": "code",
   "execution_count": null,
   "id": "e59d8eaf-35c5-4741-a2d5-82aeeebb7e6f",
   "metadata": {},
   "outputs": [],
   "source": []
  },
  {
   "cell_type": "code",
   "execution_count": null,
   "id": "059ce5c0-3d42-4426-99a3-b6581e074bcf",
   "metadata": {},
   "outputs": [],
   "source": []
  },
  {
   "cell_type": "code",
   "execution_count": null,
   "id": "de02eca6-b85a-42b6-a1bd-6dbac53945b4",
   "metadata": {},
   "outputs": [],
   "source": []
  },
  {
   "cell_type": "code",
   "execution_count": null,
   "id": "6220842a-e928-4444-9c19-f2797b691374",
   "metadata": {},
   "outputs": [],
   "source": []
  },
  {
   "cell_type": "code",
   "execution_count": null,
   "id": "cd76c8a5-800d-43d3-9c89-dd94955366be",
   "metadata": {},
   "outputs": [],
   "source": []
  },
  {
   "cell_type": "code",
   "execution_count": null,
   "id": "193ac7cf-4505-4b4b-a609-5888aca33f6f",
   "metadata": {},
   "outputs": [],
   "source": []
  },
  {
   "cell_type": "code",
   "execution_count": null,
   "id": "df8c9c3d-4c7d-4340-8f8f-0c1174b4cf4d",
   "metadata": {},
   "outputs": [],
   "source": []
  },
  {
   "cell_type": "code",
   "execution_count": null,
   "id": "5e6f510d-fadb-4881-8e32-196647ec6e03",
   "metadata": {},
   "outputs": [],
   "source": []
  },
  {
   "cell_type": "code",
   "execution_count": null,
   "id": "43c6b77e-bfc4-448d-b89f-82c54922acdf",
   "metadata": {},
   "outputs": [],
   "source": []
  },
  {
   "cell_type": "code",
   "execution_count": null,
   "id": "95ddb487-be79-4ff3-b1ae-32c00ed18822",
   "metadata": {},
   "outputs": [],
   "source": []
  },
  {
   "cell_type": "code",
   "execution_count": null,
   "id": "651919dc-7ba4-41b8-b505-98285811a22e",
   "metadata": {},
   "outputs": [],
   "source": []
  },
  {
   "cell_type": "code",
   "execution_count": null,
   "id": "09b1b4f2-46ac-4067-bdde-d38ca03291e6",
   "metadata": {},
   "outputs": [],
   "source": []
  },
  {
   "cell_type": "code",
   "execution_count": null,
   "id": "9d21bba5-f44b-47e6-bced-c882fb66ab8e",
   "metadata": {},
   "outputs": [],
   "source": []
  },
  {
   "cell_type": "code",
   "execution_count": null,
   "id": "bacde71f-99bb-4f08-b099-a9a7790f099e",
   "metadata": {},
   "outputs": [],
   "source": []
  },
  {
   "cell_type": "code",
   "execution_count": null,
   "id": "7defb4c2-abd5-43a0-bf57-bba8ca635384",
   "metadata": {},
   "outputs": [],
   "source": []
  },
  {
   "cell_type": "code",
   "execution_count": null,
   "id": "a3de2363-8da4-4a7e-afec-ebb6fd2e525e",
   "metadata": {},
   "outputs": [],
   "source": []
  },
  {
   "cell_type": "code",
   "execution_count": null,
   "id": "ea6e7d00-484e-40f4-b249-ddc83d0cf5d1",
   "metadata": {},
   "outputs": [],
   "source": []
  },
  {
   "cell_type": "code",
   "execution_count": null,
   "id": "4b40c5ff-f8b5-4994-9325-9fd8a661ea91",
   "metadata": {},
   "outputs": [],
   "source": []
  },
  {
   "cell_type": "code",
   "execution_count": null,
   "id": "36744ed6-8c85-4878-832d-98e1cc3bb1e5",
   "metadata": {},
   "outputs": [],
   "source": []
  },
  {
   "cell_type": "code",
   "execution_count": null,
   "id": "a73434ca-4043-4829-b706-72a8dd614610",
   "metadata": {},
   "outputs": [],
   "source": []
  },
  {
   "cell_type": "code",
   "execution_count": null,
   "id": "eda846a7-7211-4e2b-b3d0-ef672c847b59",
   "metadata": {},
   "outputs": [],
   "source": []
  },
  {
   "cell_type": "code",
   "execution_count": null,
   "id": "62b41bb3-1229-48f5-80c7-9473a0a3aa54",
   "metadata": {},
   "outputs": [],
   "source": []
  },
  {
   "cell_type": "code",
   "execution_count": null,
   "id": "35f83209-e3a0-4dd5-849a-063036428784",
   "metadata": {},
   "outputs": [],
   "source": []
  },
  {
   "cell_type": "code",
   "execution_count": null,
   "id": "bd402397-04c6-4479-923e-4becb5741639",
   "metadata": {},
   "outputs": [],
   "source": []
  },
  {
   "cell_type": "code",
   "execution_count": null,
   "id": "40385034-16d7-490e-b56f-9922e85777fc",
   "metadata": {},
   "outputs": [],
   "source": []
  },
  {
   "cell_type": "code",
   "execution_count": null,
   "id": "09bc4170-c189-4e21-bf22-9ff2d87c4f1e",
   "metadata": {},
   "outputs": [],
   "source": []
  },
  {
   "cell_type": "code",
   "execution_count": null,
   "id": "432ee6cc-10d1-4228-86e9-114393f25b48",
   "metadata": {},
   "outputs": [],
   "source": []
  },
  {
   "cell_type": "code",
   "execution_count": null,
   "id": "7c69461f-e440-4660-bbaf-1eb76e092128",
   "metadata": {},
   "outputs": [],
   "source": []
  },
  {
   "cell_type": "code",
   "execution_count": null,
   "id": "c0b9a259-d1bb-4213-953e-3d24f9b845b8",
   "metadata": {},
   "outputs": [],
   "source": []
  },
  {
   "cell_type": "code",
   "execution_count": null,
   "id": "1bb07e32-68b0-4220-a6fd-1a2101e535be",
   "metadata": {},
   "outputs": [],
   "source": []
  },
  {
   "cell_type": "code",
   "execution_count": null,
   "id": "1a23e688-c63a-4e4f-8e3f-d9b573a1ed11",
   "metadata": {},
   "outputs": [],
   "source": []
  },
  {
   "cell_type": "code",
   "execution_count": null,
   "id": "4cbf9169-d954-4885-8946-3231e1de921e",
   "metadata": {},
   "outputs": [],
   "source": []
  },
  {
   "cell_type": "code",
   "execution_count": null,
   "id": "f17f4d24-6272-499f-aea2-e2883f989600",
   "metadata": {},
   "outputs": [],
   "source": []
  },
  {
   "cell_type": "code",
   "execution_count": null,
   "id": "1182943b-015e-4922-b41d-4504e9b946bb",
   "metadata": {},
   "outputs": [],
   "source": []
  },
  {
   "cell_type": "code",
   "execution_count": null,
   "id": "ad43c855-7d80-48d6-8a33-b09b435d6956",
   "metadata": {},
   "outputs": [],
   "source": []
  },
  {
   "cell_type": "code",
   "execution_count": null,
   "id": "b65d60dc-b2cc-4d52-83ba-2d988308879e",
   "metadata": {},
   "outputs": [],
   "source": []
  },
  {
   "cell_type": "code",
   "execution_count": null,
   "id": "e5adc54d-fc17-4f64-80e0-0f152ef86c80",
   "metadata": {},
   "outputs": [],
   "source": []
  },
  {
   "cell_type": "code",
   "execution_count": null,
   "id": "1f3b5f89-2b6c-443b-a14c-ceeb29837ec9",
   "metadata": {},
   "outputs": [],
   "source": []
  },
  {
   "cell_type": "code",
   "execution_count": null,
   "id": "45ae26c6-72e1-443b-8b03-c5bdecc9dc7e",
   "metadata": {},
   "outputs": [],
   "source": []
  },
  {
   "cell_type": "code",
   "execution_count": null,
   "id": "aa808d5e-2525-4171-8657-ab1ffbac082a",
   "metadata": {},
   "outputs": [],
   "source": []
  },
  {
   "cell_type": "code",
   "execution_count": null,
   "id": "de9b6995-5b82-44bd-845f-9706a2e18d2e",
   "metadata": {},
   "outputs": [],
   "source": []
  },
  {
   "cell_type": "code",
   "execution_count": null,
   "id": "0ba23873-2445-46a5-9245-75a6c0c14a29",
   "metadata": {},
   "outputs": [],
   "source": []
  },
  {
   "cell_type": "code",
   "execution_count": null,
   "id": "160963db-83c4-4224-b202-1f20120c0666",
   "metadata": {},
   "outputs": [],
   "source": []
  },
  {
   "cell_type": "code",
   "execution_count": null,
   "id": "7aaeb2a1-aeca-4fc6-9f4a-162385c92a7e",
   "metadata": {},
   "outputs": [],
   "source": []
  },
  {
   "cell_type": "code",
   "execution_count": null,
   "id": "66cebd50-65bf-4abc-880f-1e5449ae258d",
   "metadata": {},
   "outputs": [],
   "source": []
  },
  {
   "cell_type": "code",
   "execution_count": null,
   "id": "ad46539a-4eb0-4812-8d63-3df0b4f04899",
   "metadata": {},
   "outputs": [],
   "source": []
  },
  {
   "cell_type": "code",
   "execution_count": null,
   "id": "97db660c-7bc4-49b8-83b4-87f2ff8c1d60",
   "metadata": {},
   "outputs": [],
   "source": []
  },
  {
   "cell_type": "code",
   "execution_count": null,
   "id": "41d4c856-87fe-4377-ba6d-bec3792f7077",
   "metadata": {},
   "outputs": [],
   "source": []
  },
  {
   "cell_type": "code",
   "execution_count": null,
   "id": "3f93ad71-34ce-4b3e-8e20-fe2a2a760ccf",
   "metadata": {},
   "outputs": [],
   "source": []
  },
  {
   "cell_type": "code",
   "execution_count": null,
   "id": "08e6f8d4-9a3b-4473-85d3-b9a6da061f26",
   "metadata": {},
   "outputs": [],
   "source": []
  },
  {
   "cell_type": "code",
   "execution_count": null,
   "id": "41773e2e-37fa-46d1-93f8-081c361c8857",
   "metadata": {},
   "outputs": [],
   "source": []
  },
  {
   "cell_type": "code",
   "execution_count": null,
   "id": "9969dd19-1b7d-466e-b077-5ea05bcd467b",
   "metadata": {},
   "outputs": [],
   "source": []
  },
  {
   "cell_type": "code",
   "execution_count": null,
   "id": "742e1653-bec0-4856-945c-750b63b252cc",
   "metadata": {},
   "outputs": [],
   "source": []
  },
  {
   "cell_type": "code",
   "execution_count": null,
   "id": "ed09b262-0360-46ca-b1d8-975b841aa758",
   "metadata": {},
   "outputs": [],
   "source": []
  },
  {
   "cell_type": "code",
   "execution_count": null,
   "id": "83c556b1-5c02-4509-902e-80b8f2c93329",
   "metadata": {},
   "outputs": [],
   "source": []
  },
  {
   "cell_type": "code",
   "execution_count": null,
   "id": "09ccbef7-8009-42d7-824d-aaed169b1389",
   "metadata": {},
   "outputs": [],
   "source": []
  }
 ],
 "metadata": {
  "kernelspec": {
   "display_name": "Python 3 (ipykernel)",
   "language": "python",
   "name": "python3"
  },
  "language_info": {
   "codemirror_mode": {
    "name": "ipython",
    "version": 3
   },
   "file_extension": ".py",
   "mimetype": "text/x-python",
   "name": "python",
   "nbconvert_exporter": "python",
   "pygments_lexer": "ipython3",
   "version": "3.10.11"
  }
 },
 "nbformat": 4,
 "nbformat_minor": 5
}
