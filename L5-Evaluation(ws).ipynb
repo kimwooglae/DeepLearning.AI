{
 "cells": [
  {
   "cell_type": "markdown",
   "id": "a330a9af",
   "metadata": {},
   "source": [
    "# LangChain: 평가\n",
    "\n",
    "## 개요:\n",
    "\n",
    "* 예제 생성 \n",
    "* 수동 평가(및 디버깅) \n",
    "* LLM 지원 평가"
   ]
  },
  {
   "cell_type": "code",
   "execution_count": 1,
   "id": "56f85e4a",
   "metadata": {},
   "outputs": [],
   "source": [
    "import os\n",
    "\n",
    "from dotenv import load_dotenv, find_dotenv\n",
    "_ = load_dotenv(find_dotenv()) # read local .env file\n",
    "os.environ[\"LANGCHAIN_TRACING_V2\"] = \"true\"\n",
    "os.environ[\"LANGCHAIN_ENDPOINT\"] = \"http://localhost:1984\"\n",
    "os.environ[\"LANGCHAIN_PROJECT\"] = \"WebSquare API\""
   ]
  },
  {
   "cell_type": "markdown",
   "id": "8f766bf3",
   "metadata": {},
   "source": [
    "## QandA 애플리케이션 만들기"
   ]
  },
  {
   "cell_type": "code",
   "execution_count": 2,
   "id": "b4a970bd",
   "metadata": {},
   "outputs": [],
   "source": [
    "from langchain.chains import RetrievalQA\n",
    "from langchain.chat_models import ChatOpenAI, PromptLayerChatOpenAI\n",
    "from langchain.document_loaders import CSVLoader\n",
    "from langchain.indexes import VectorstoreIndexCreator\n",
    "from langchain.vectorstores import DocArrayInMemorySearch"
   ]
  },
  {
   "cell_type": "code",
   "execution_count": 3,
   "id": "22ac36d2",
   "metadata": {},
   "outputs": [],
   "source": [
    "file = 'api_ko.csv'\n",
    "loader = CSVLoader(file_path=file)\n",
    "data = loader.load()"
   ]
  },
  {
   "cell_type": "code",
   "execution_count": 4,
   "id": "dc5ad1ce",
   "metadata": {},
   "outputs": [
    {
     "name": "stderr",
     "output_type": "stream",
     "text": [
      "Retrying langchain.embeddings.openai.embed_with_retry.<locals>._embed_with_retry in 4.0 seconds as it raised APIError: OpenAI API returned an empty embedding.\n",
      "Retrying langchain.embeddings.openai.embed_with_retry.<locals>._embed_with_retry in 4.0 seconds as it raised APIError: OpenAI API returned an empty embedding.\n",
      "Retrying langchain.embeddings.openai.embed_with_retry.<locals>._embed_with_retry in 4.0 seconds as it raised APIError: OpenAI API returned an empty embedding.\n",
      "Retrying langchain.embeddings.openai.embed_with_retry.<locals>._embed_with_retry in 8.0 seconds as it raised APIError: OpenAI API returned an empty embedding.\n"
     ]
    }
   ],
   "source": [
    "index = VectorstoreIndexCreator(\n",
    "    vectorstore_cls=DocArrayInMemorySearch\n",
    ").from_loaders([loader])"
   ]
  },
  {
   "cell_type": "code",
   "execution_count": 5,
   "id": "c9a8b24f",
   "metadata": {},
   "outputs": [],
   "source": [
    "# llm = ChatOpenAI(temperature = 0.0)\n",
    "llm = PromptLayerChatOpenAI(pl_tags=[\"api_qa\", \"2023-07-08\"], temperature=0.0)\n",
    "qa = RetrievalQA.from_chain_type(\n",
    "    llm=llm, \n",
    "    chain_type=\"stuff\", \n",
    "    retriever=index.vectorstore.as_retriever(), \n",
    "    verbose=True,\n",
    "    chain_type_kwargs = {\n",
    "        \"document_separator\": \"<<<<>>>>>\"\n",
    "    }\n",
    ")"
   ]
  },
  {
   "cell_type": "markdown",
   "id": "9bfc7119",
   "metadata": {},
   "source": [
    "### 테스트 데이터 포인트 마련하기"
   ]
  },
  {
   "cell_type": "code",
   "execution_count": 6,
   "id": "587e6dd8",
   "metadata": {},
   "outputs": [
    {
     "data": {
      "text/plain": [
       "Document(page_content=': 10\\n유형: method\\ncomponent: $p\\nname: deleteSubmission\\ndescription: submission을 삭제합니다.\\nparameter: submissionID\\tString\\tY\\t삭제하고자 하는 submission의 ID\\nreturn: \\nexception: \\nsample: <xmp  class=\\'js sample\\'>$p.deleteSubmission( \"submission1\" );\\n//\"submission1\"에 해당하는 submssion이 삭제됩니다. 이후 $p.executeSubmission(\"submission1\");을 호출하면 아무 동작을 하지 않게 됩니다.</xmp>\\nbuilt since: 5.0_3.3377A.20181128.161740\\nbuilt last: 5.0_5.4811B.20230203.095105', metadata={'source': 'api_ko.csv', 'row': 10})"
      ]
     },
     "execution_count": 6,
     "metadata": {},
     "output_type": "execute_result"
    }
   ],
   "source": [
    "data[10]"
   ]
  },
  {
   "cell_type": "code",
   "execution_count": 7,
   "id": "67bd496f",
   "metadata": {},
   "outputs": [
    {
     "data": {
      "text/plain": [
       "Document(page_content=': 11\\n유형: method\\ncomponent: $p\\nname: download\\ndescription: download 모듈이 구현된 서버의 URL을 호출하여 다운로드 가능한 인터페이스를 화면에서 제공합니다.\\nparameter: actionUrl\\tString\\tY\\t파일 다운로드가 구현되어있는 url.\\nXML\\tString\\tN\\t문자열은 xmlValue라는 이름으로 서버로 올라간다. 값을 지정하지 않은 경우(undefined인 경우) xmlValue라는 값은 제외하고 서버로 전송한다.\\nsendMethod\\tString\\tN\\tget, post와 같은 전송 방식, 기본값은 post이다.\\nisXHR\\tString\\tY\\txhr 통신 유무 (기본값은 false)\\nreturn: \\nexception: \\nsample: <xmp  class=\\'js sample\\'>var url = \"/download.do\"        //파일 다운로드가 구현 되어있는 서버 url. ( 웹스퀘어의 기본 모듈에는 제공되지 않는다)\\n$p.download( url );</xmp>\\nbuilt since: 5.0_3.3377A.20181128.161740\\nbuilt last: 5.0_5.4811B.20230203.095105', metadata={'source': 'api_ko.csv', 'row': 11})"
      ]
     },
     "execution_count": 7,
     "metadata": {},
     "output_type": "execute_result"
    }
   ],
   "source": [
    "data[11]"
   ]
  },
  {
   "cell_type": "markdown",
   "id": "f29702b8",
   "metadata": {},
   "source": [
    "### 하드코딩된 예제"
   ]
  },
  {
   "cell_type": "code",
   "execution_count": 8,
   "id": "b3ec6a39",
   "metadata": {},
   "outputs": [],
   "source": [
    "examples = [\n",
    "]"
   ]
  },
  {
   "cell_type": "markdown",
   "id": "b715b011",
   "metadata": {},
   "source": [
    "### LLM으로 생성된 예제"
   ]
  },
  {
   "cell_type": "code",
   "execution_count": 9,
   "id": "fe4c9b9d",
   "metadata": {},
   "outputs": [],
   "source": [
    "from langchain.evaluation.qa import QAGenerateChain"
   ]
  },
  {
   "cell_type": "code",
   "execution_count": 10,
   "id": "6823f6f7",
   "metadata": {},
   "outputs": [],
   "source": [
    "# example_gen_chain = QAGenerateChain.from_llm(ChatOpenAI())\n",
    "example_gen_chain = QAGenerateChain.from_llm(PromptLayerChatOpenAI(pl_tags=[\"api_qa\", \"2023-07-08\"]))"
   ]
  },
  {
   "cell_type": "code",
   "execution_count": 11,
   "id": "da4e5bc0-d15e-4be0-887b-dcbb8a828977",
   "metadata": {},
   "outputs": [
    {
     "data": {
      "text/plain": [
       "6375"
      ]
     },
     "execution_count": 11,
     "metadata": {},
     "output_type": "execute_result"
    }
   ],
   "source": [
    "len(data)"
   ]
  },
  {
   "cell_type": "code",
   "execution_count": 12,
   "id": "5ca1cd65-ea00-4cc5-b3f0-7144e03a17de",
   "metadata": {
    "scrolled": true
   },
   "outputs": [
    {
     "data": {
      "text/plain": [
       "[{'doc': ': 0\\n유형: method\\ncomponent: $p\\nname: $\\ndescription: jQuery selector를 인자로 받아 jQuery 객체를 반환한다. <br />id selector를 인자로 받은 경우 해당 id가 함수를 호출한 페이지에 있는 웹스퀘어 객체인 경우 웹스퀘어 객체의 실제 id로 변환한 다음 함수를 실행한다.\\nparameter: \\nreturn: Object\\tjQuery 객체\\nexception: \\nsample: $p.$(\"#group1\").wq(\"invoke\", \"setDisabled\", \"true\"); // 스크립트가 실행된 페이지의 group1 객체를 찾아 group1.invoke(\"setDisabled\", \"true\"); 를 실행\\nbuilt since: 5.0_3.3377A.20181128.161740\\nbuilt last: 5.0_5.4811B.20230203.095105'},\n",
       " {'doc': ': 1\\n유형: method\\ncomponent: $p\\nname: URLEncoder\\ndescription: 주어진 문자열을 `application/x-www-form-urlencoded` MIME 형식의 문자열로 변환합니다.\\nparameter: str\\tString\\tY\\t문자열\\nreturn: String\\t변환된 application/x-www-form-urlencoded MIME Format문자열을 반환합니다\\nexception: \\nsample: <xmp  class=\\'js sample\\'>var encodeStr = $p.URLEncoder( \"문자열\" );\\n//return 예시 ) \"%b9%ae%c0%da%bf%ad\"</xmp>\\nbuilt since: 5.0_3.3377A.20181128.161740\\nbuilt last: 5.0_5.4811B.20230203.095105'},\n",
       " {'doc': ': 2\\n유형: method\\ncomponent: $p\\nname: ajax\\ndescription: submission과 비슷한 기능을 제공하는 통신 모듈로 submission에 비해 자유도가 높다.<br />request/response 데이터의 type은 string이며 js로 된 암/복호화 모듈을 연동하기 쉬운 구조로 되어있다.\\nparameter: options\\tJSON\\tY\\tJSON형태 객체<br />\\n<xmp class=\\'js description\\'><String:Y> options.action : ajax 요청주소\\n<String:N> options.mode : [default: asynchronous,synchronous]\\n<String:Y> options.mediatype : [default: application/xml, application/x-www-form-urlencoded,  application/json, text/xml]\\n<String:N> options.method : [default: POST, GET, PUT, DELETE]\\n<String:N> options.requestData : 요청본문\\n<JSON:N> options.requestHeader : request header에 지정 할 JOSN객체\\n<Number:N> options.timeout : ajax요청후 timeout 시간. 이시간이 초과해도 응답이 오지 않는 경우 error callback함수를 실행\\n<String:N> options.type : [xml, json] xml인 경우 success callback함수의 인자객체의 responseBody속성에 xml객체가 설정된고, json인 경우 자바스크립트 객체가 설정된다.나머지 경우는 text형식이 설정.\\n<Function:N> options.beforeAjax : 요청전에 실행되는 함수로 이 함수내에서 false를 return하면 ajax요청을 하지 않는다\\n<Function:N> options.success : 요청이 성공한 경우 실행되는 callback함수\\n<Function:N> options.error : 요청이 실패한 경우 실행되는 callback함수</xmp>\\nreturn: \\nexception: \\nsample: <xmp  class=\\'js sample\\'>var options = {};\\noptions.action = \"/test.jsp\";\\noptions.mode = \"asynchronous\";\\noptions.mediatype = \"text/json\";\\noptions.method = \"POST\";\\noptions.requestData = \\'{ \"name\" : \"WebSquare\" , \"addr\" : \"서울시\" }\\';\\noptions.requestHeader = {insUserData:\"w5Edu\"};\\noptions.success = doSucess;     //정의 된 function 객체\\noptions.error = function( e ){      //functoin을 직접 정의 한 경우.\\n    //e.errorType - \"target-error\" 고정값 반환\\n    //e.resourceUri - 통신 URI 반환\\n    //e.responseHeaders - Response Headers 내용 반환\\n    //e.responseStatusCode - Response Status Code 반환\\n    //e.responseReasonPhrase - Response Status Text 반환\\n    //e.requestBody - Request Data로 String 형태 반환\\n    //e.responseText - Response Data 원본으로 String 형태 반환\\n\\n    //satus code alert으로 출력.\\n    alert(\"errorCode:\"+e.responseStatusCode);\\n};\\n$p.ajax( options );\\n\\n//위의 예시 중 options.success에 지정 한 callback Function 정의 형태.\\nfunction doSucess( e ){\\n\\n    //e는 웹스퀘어 엔진에서 통신 후 결과를 담을 JSON 객체이다.\\n    //e.resourceUri - 통신 URI 반환\\n    //e.responseHeaders - Response Headers 내용 반환\\n    //e.responseStatusCode - Response Status Code 반환\\n    //e.responseReasonPhrase - Response Status Text 반환\\n    //e.responseBody - Response Data를 XML 데이터로 parse 한 XML 객체 반환.( Response Content-Type이 JSON 인 경우 json객체를 XML로 parse)\\n    //e.responseText - Response Data 원본으로 String 형태 반환\\n\\n    //responseText를 alert으로 출력.\\n    alert(\"success\\\\n\"+e.responseText);\\n}</xmp>\\nbuilt since: 5.0_3.3377A.20181128.161740\\nbuilt last: 5.0_5.4811B.20230203.095105'},\n",
       " {'doc': ': 3\\n유형: method\\ncomponent: $p\\nname: clearInterval\\ndescription: $p.setInterval으로 등록된 Interval 객체를 해제합니다.\\nparameter: keyName\\tString\\tY\\tkey로 지정한 값. ( $p.setInterval API 호출 시 options에 등록 한 key명)\\nforce\\tBoolean\\tN\\tkeyName으로 지정 된 Interval 객체를 해제하기 전 해당 함수를 한 번 실행할지에 대한 여부. 기본값은 false.\\nreturn: \\nexception: \\nsample: <xmp  class=\\'js sample\\'>//$p.setInterval API를 호출 시 options.key의 값이 \"timer1\" 로 정의 한 경우.\\n$p.clearInterval(\"timer1\");</xmp>\\nbuilt since: 5.0_3.3377A.20181128.161740\\nbuilt last: 5.0_5.4811B.20230203.095105'},\n",
       " {'doc': ': 4\\n유형: method\\ncomponent: $p\\nname: clearPage\\ndescription: 브라우저를 초기 상태로 되돌리는 함수이며, 이 함수를 사용하여 웹스퀘어 엔진 및 리소스를 다시 로드합니다. 이 함수는 주로 spa 모드에서 사용되며, 브라우저 초기화가 필요한 경우 onpageunload 이벤트에서 호출됩니다. spa 모드에서 메모리 릭이 발생하는 컴포넌트를 사용하고 있는 경우, 해당 페이지의 body에 onpageunload 이벤트를 등록하고 이 함수를 호출하여 사용할 수 있습니다. 이 함수는 $p.url(WebSquare.baseURI + \"blank.xml\", {spa:true, forceReload:true})를 호출하는 것과 동일합니다. Editor 컴포넌트나 Chart 컴포넌트 등 spa 모드에서 사용됩니다.\\nparameter: \\nreturn: \\nexception: \\nsample: <xmp  class=\\'js sample\\'><body>\\n    <script type=\"javascript\" ev:event=\"onpageunload\"><![CDATA[\\n        $p.clearPage(); // 브라우저를 갱신하여 초기상태로 되돌린다. 이 경우 웹스퀘어 엔진 및 리소스를 새로 로딩하게 된다.\\n    ]]></script>\\n</body></xmp>\\nbuilt since: 5.0_3.3377A.20181128.161740\\nbuilt last: 5.0_5.4811B.20230203.095105'}]"
      ]
     },
     "execution_count": 12,
     "metadata": {},
     "output_type": "execute_result"
    }
   ],
   "source": [
    "[{\"doc\": t.page_content} for t in data[:5]]"
   ]
  },
  {
   "cell_type": "code",
   "execution_count": null,
   "id": "14902a70-5253-4b38-8abd-8285369d0916",
   "metadata": {
    "scrolled": true
   },
   "outputs": [
    {
     "name": "stderr",
     "output_type": "stream",
     "text": [
      "/Users/wlkim/anaconda3/envs/langchain-for-llm/lib/python3.10/site-packages/langchain/chains/llm.py:303: UserWarning: The apply_and_parse method is deprecated, instead pass an output parser directly to LLMChain.\n",
      "  warnings.warn(\n"
     ]
    }
   ],
   "source": [
    "new_examples = example_gen_chain.apply_and_parse(\n",
    "    [{\"doc\": t} for t in data[100:200]]\n",
    ")"
   ]
  },
  {
   "cell_type": "code",
   "execution_count": null,
   "id": "7823d795",
   "metadata": {},
   "outputs": [],
   "source": [
    "# new_examples = example_gen_chain.apply_and_parse(\n",
    "#     [{\"doc\": t.page_content} for t in data[:5]]\n",
    "# )"
   ]
  },
  {
   "cell_type": "code",
   "execution_count": null,
   "id": "427fd6a1-c8eb-4b30-b75f-e86e3b1b86fb",
   "metadata": {},
   "outputs": [],
   "source": [
    "new_examples[0]"
   ]
  },
  {
   "cell_type": "code",
   "execution_count": null,
   "id": "f50a8a1e-315c-4c89-ac85-c58e176a0742",
   "metadata": {},
   "outputs": [],
   "source": [
    "new_examples[1]"
   ]
  },
  {
   "cell_type": "code",
   "execution_count": null,
   "id": "bdcacb27",
   "metadata": {},
   "outputs": [],
   "source": [
    "new_examples[2]"
   ]
  },
  {
   "cell_type": "code",
   "execution_count": null,
   "id": "84545547",
   "metadata": {},
   "outputs": [],
   "source": [
    "data[1]"
   ]
  },
  {
   "cell_type": "code",
   "execution_count": null,
   "id": "21db32a2",
   "metadata": {
    "scrolled": true
   },
   "outputs": [],
   "source": [
    "new_examples"
   ]
  },
  {
   "cell_type": "markdown",
   "id": "70f85508",
   "metadata": {},
   "source": [
    "### Combine examples"
   ]
  },
  {
   "cell_type": "code",
   "execution_count": null,
   "id": "91fbeca7",
   "metadata": {},
   "outputs": [],
   "source": [
    "examples += new_examples"
   ]
  },
  {
   "cell_type": "code",
   "execution_count": null,
   "id": "8efa3dab",
   "metadata": {},
   "outputs": [],
   "source": [
    "qa.run(examples[3][\"query\"])"
   ]
  },
  {
   "cell_type": "code",
   "execution_count": null,
   "id": "e9e42948-0db0-48f5-82e8-3621983c97a4",
   "metadata": {},
   "outputs": [],
   "source": [
    "examples[3][\"answer\"]"
   ]
  },
  {
   "cell_type": "code",
   "execution_count": null,
   "id": "66220dbc",
   "metadata": {},
   "outputs": [],
   "source": [
    "examples[3][\"query\"]"
   ]
  },
  {
   "cell_type": "markdown",
   "id": "a50a05d7",
   "metadata": {},
   "source": [
    "## Manual Evaluation\n",
    "qa.run으로 실행한 다음 기존에 생성한 answer와 비교한다."
   ]
  },
  {
   "cell_type": "code",
   "execution_count": null,
   "id": "582040f8",
   "metadata": {},
   "outputs": [],
   "source": [
    "import langchain\n",
    "langchain.debug = True"
   ]
  },
  {
   "cell_type": "code",
   "execution_count": null,
   "id": "8894db8a",
   "metadata": {
    "scrolled": true
   },
   "outputs": [],
   "source": [
    "qa.run(examples[0][\"query\"])"
   ]
  },
  {
   "cell_type": "code",
   "execution_count": null,
   "id": "93a6a536",
   "metadata": {
    "scrolled": true
   },
   "outputs": [],
   "source": [
    "qa.run(examples[2][\"query\"])"
   ]
  },
  {
   "cell_type": "code",
   "execution_count": null,
   "id": "45baf5c0",
   "metadata": {},
   "outputs": [],
   "source": [
    "examples[2]"
   ]
  },
  {
   "cell_type": "code",
   "execution_count": null,
   "id": "d0fea01c",
   "metadata": {},
   "outputs": [],
   "source": [
    "# Turn off the debug mode\n",
    "langchain.debug = False"
   ]
  },
  {
   "cell_type": "markdown",
   "id": "6c84556e",
   "metadata": {},
   "source": [
    "## LLM assisted evaluation"
   ]
  },
  {
   "cell_type": "code",
   "execution_count": null,
   "id": "85eb55fb",
   "metadata": {
    "scrolled": true
   },
   "outputs": [],
   "source": [
    "predictions = qa.apply(examples)"
   ]
  },
  {
   "cell_type": "code",
   "execution_count": null,
   "id": "efc274d7",
   "metadata": {},
   "outputs": [],
   "source": [
    "from langchain.evaluation.qa import QAEvalChain"
   ]
  },
  {
   "cell_type": "code",
   "execution_count": null,
   "id": "e57a1189",
   "metadata": {},
   "outputs": [],
   "source": [
    "# llm = ChatOpenAI(temperature=0)\n",
    "llm = PromptLayerChatOpenAI(pl_tags=[\"api_qa\", \"2023-07-08\"], temperature=0.0)\n",
    "eval_chain = QAEvalChain.from_llm(llm)"
   ]
  },
  {
   "cell_type": "code",
   "execution_count": null,
   "id": "626284bf",
   "metadata": {},
   "outputs": [],
   "source": [
    "graded_outputs = eval_chain.evaluate(examples, predictions)"
   ]
  },
  {
   "cell_type": "code",
   "execution_count": null,
   "id": "ac843a56",
   "metadata": {
    "scrolled": true
   },
   "outputs": [],
   "source": [
    "examples"
   ]
  },
  {
   "cell_type": "code",
   "execution_count": null,
   "id": "2035c774",
   "metadata": {
    "scrolled": true
   },
   "outputs": [],
   "source": [
    "predictions"
   ]
  },
  {
   "cell_type": "code",
   "execution_count": null,
   "id": "33040316",
   "metadata": {
    "scrolled": true
   },
   "outputs": [],
   "source": [
    "graded_outputs"
   ]
  },
  {
   "cell_type": "code",
   "execution_count": null,
   "id": "834faef9",
   "metadata": {
    "scrolled": true
   },
   "outputs": [],
   "source": [
    "for i, eg in enumerate(examples):\n",
    "    print(f\"Example {i}:\")\n",
    "    print(\"Question: \" + predictions[i]['query'])\n",
    "    print(\"Real Answer: \" + predictions[i]['answer'])\n",
    "    print(\"Predicted Answer: \" + predictions[i]['result'])\n",
    "    print(\"Predicted Grade: \" + graded_outputs[i]['text'])\n",
    "    print()"
   ]
  },
  {
   "cell_type": "code",
   "execution_count": null,
   "id": "3a5f308f",
   "metadata": {},
   "outputs": [],
   "source": []
  },
  {
   "cell_type": "code",
   "execution_count": null,
   "id": "411cfdbb",
   "metadata": {},
   "outputs": [],
   "source": []
  },
  {
   "cell_type": "code",
   "execution_count": null,
   "id": "fb4e406a-1fc1-4f90-9763-397b2144196a",
   "metadata": {},
   "outputs": [],
   "source": [
    "import os\n",
    "\n",
    "from langchain.chat_models import ChatOpenAI\n",
    "from langchain.client import run_on_dataset\n",
    "\n",
    "llm = ChatOpenAI(temperature=0)\n",
    "\n",
    "chain_results = run_on_dataset(\n",
    "dataset_name=\"ds-granular-windscreen-29\",\n",
    "llm_or_chain_factory=llm,\n",
    "project_name=\"pt-spotless-bondsman-92\",\n",
    ")"
   ]
  },
  {
   "cell_type": "code",
   "execution_count": null,
   "id": "ac71b4f0-3e7f-4db1-94c6-e2aae19a1035",
   "metadata": {},
   "outputs": [],
   "source": []
  }
 ],
 "metadata": {
  "kernelspec": {
   "display_name": "Python 3 (ipykernel)",
   "language": "python",
   "name": "python3"
  },
  "language_info": {
   "codemirror_mode": {
    "name": "ipython",
    "version": 3
   },
   "file_extension": ".py",
   "mimetype": "text/x-python",
   "name": "python",
   "nbconvert_exporter": "python",
   "pygments_lexer": "ipython3",
   "version": "3.10.11"
  }
 },
 "nbformat": 4,
 "nbformat_minor": 5
}
