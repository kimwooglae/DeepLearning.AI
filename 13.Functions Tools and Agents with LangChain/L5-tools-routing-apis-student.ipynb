{
 "cells": [
  {
   "cell_type": "code",
   "execution_count": 1,
   "id": "18f87ecc-d3d7-4c2c-8c03-4eda1cdd39a1",
   "metadata": {
    "scrolled": true
   },
   "outputs": [
    {
     "name": "stdout",
     "output_type": "stream",
     "text": [
      "Collecting langchain==0.0.312\n",
      "  Using cached langchain-0.0.312-py3-none-any.whl.metadata (15 kB)\n",
      "Requirement already satisfied: PyYAML>=5.3 in /Users/wlkim/anaconda3/envs/deeplearning-ai/lib/python3.10/site-packages (from langchain==0.0.312) (6.0.1)\n",
      "Requirement already satisfied: SQLAlchemy<3,>=1.4 in /Users/wlkim/anaconda3/envs/deeplearning-ai/lib/python3.10/site-packages (from langchain==0.0.312) (2.0.15)\n",
      "Requirement already satisfied: aiohttp<4.0.0,>=3.8.3 in /Users/wlkim/anaconda3/envs/deeplearning-ai/lib/python3.10/site-packages (from langchain==0.0.312) (3.8.5)\n",
      "Requirement already satisfied: anyio<4.0 in /Users/wlkim/anaconda3/envs/deeplearning-ai/lib/python3.10/site-packages (from langchain==0.0.312) (3.7.0)\n",
      "Requirement already satisfied: async-timeout<5.0.0,>=4.0.0 in /Users/wlkim/anaconda3/envs/deeplearning-ai/lib/python3.10/site-packages (from langchain==0.0.312) (4.0.3)\n",
      "Requirement already satisfied: dataclasses-json<0.7,>=0.5.7 in /Users/wlkim/anaconda3/envs/deeplearning-ai/lib/python3.10/site-packages (from langchain==0.0.312) (0.5.7)\n",
      "Requirement already satisfied: jsonpatch<2.0,>=1.33 in /Users/wlkim/anaconda3/envs/deeplearning-ai/lib/python3.10/site-packages (from langchain==0.0.312) (1.33)\n",
      "Requirement already satisfied: langsmith<0.1.0,>=0.0.43 in /Users/wlkim/anaconda3/envs/deeplearning-ai/lib/python3.10/site-packages (from langchain==0.0.312) (0.0.52)\n",
      "Requirement already satisfied: numpy<2,>=1 in /Users/wlkim/anaconda3/envs/deeplearning-ai/lib/python3.10/site-packages (from langchain==0.0.312) (1.25.2)\n",
      "Requirement already satisfied: pydantic<3,>=1 in /Users/wlkim/anaconda3/envs/deeplearning-ai/lib/python3.10/site-packages (from langchain==0.0.312) (1.10.8)\n",
      "Requirement already satisfied: requests<3,>=2 in /Users/wlkim/anaconda3/envs/deeplearning-ai/lib/python3.10/site-packages (from langchain==0.0.312) (2.31.0)\n",
      "Requirement already satisfied: tenacity<9.0.0,>=8.1.0 in /Users/wlkim/anaconda3/envs/deeplearning-ai/lib/python3.10/site-packages (from langchain==0.0.312) (8.2.2)\n",
      "Requirement already satisfied: attrs>=17.3.0 in /Users/wlkim/anaconda3/envs/deeplearning-ai/lib/python3.10/site-packages (from aiohttp<4.0.0,>=3.8.3->langchain==0.0.312) (23.1.0)\n",
      "Requirement already satisfied: charset-normalizer<4.0,>=2.0 in /Users/wlkim/anaconda3/envs/deeplearning-ai/lib/python3.10/site-packages (from aiohttp<4.0.0,>=3.8.3->langchain==0.0.312) (3.2.0)\n",
      "Requirement already satisfied: multidict<7.0,>=4.5 in /Users/wlkim/anaconda3/envs/deeplearning-ai/lib/python3.10/site-packages (from aiohttp<4.0.0,>=3.8.3->langchain==0.0.312) (6.0.4)\n",
      "Requirement already satisfied: yarl<2.0,>=1.0 in /Users/wlkim/anaconda3/envs/deeplearning-ai/lib/python3.10/site-packages (from aiohttp<4.0.0,>=3.8.3->langchain==0.0.312) (1.9.2)\n",
      "Requirement already satisfied: frozenlist>=1.1.1 in /Users/wlkim/anaconda3/envs/deeplearning-ai/lib/python3.10/site-packages (from aiohttp<4.0.0,>=3.8.3->langchain==0.0.312) (1.4.0)\n",
      "Requirement already satisfied: aiosignal>=1.1.2 in /Users/wlkim/anaconda3/envs/deeplearning-ai/lib/python3.10/site-packages (from aiohttp<4.0.0,>=3.8.3->langchain==0.0.312) (1.3.1)\n",
      "Requirement already satisfied: idna>=2.8 in /Users/wlkim/anaconda3/envs/deeplearning-ai/lib/python3.10/site-packages (from anyio<4.0->langchain==0.0.312) (3.4)\n",
      "Requirement already satisfied: sniffio>=1.1 in /Users/wlkim/anaconda3/envs/deeplearning-ai/lib/python3.10/site-packages (from anyio<4.0->langchain==0.0.312) (1.3.0)\n",
      "Requirement already satisfied: exceptiongroup in /Users/wlkim/anaconda3/envs/deeplearning-ai/lib/python3.10/site-packages (from anyio<4.0->langchain==0.0.312) (1.1.1)\n",
      "Requirement already satisfied: marshmallow<4.0.0,>=3.3.0 in /Users/wlkim/anaconda3/envs/deeplearning-ai/lib/python3.10/site-packages (from dataclasses-json<0.7,>=0.5.7->langchain==0.0.312) (3.19.0)\n",
      "Requirement already satisfied: marshmallow-enum<2.0.0,>=1.5.1 in /Users/wlkim/anaconda3/envs/deeplearning-ai/lib/python3.10/site-packages (from dataclasses-json<0.7,>=0.5.7->langchain==0.0.312) (1.5.1)\n",
      "Requirement already satisfied: typing-inspect>=0.4.0 in /Users/wlkim/anaconda3/envs/deeplearning-ai/lib/python3.10/site-packages (from dataclasses-json<0.7,>=0.5.7->langchain==0.0.312) (0.9.0)\n",
      "Requirement already satisfied: jsonpointer>=1.9 in /Users/wlkim/anaconda3/envs/deeplearning-ai/lib/python3.10/site-packages (from jsonpatch<2.0,>=1.33->langchain==0.0.312) (2.3)\n",
      "Requirement already satisfied: typing-extensions>=4.2.0 in /Users/wlkim/anaconda3/envs/deeplearning-ai/lib/python3.10/site-packages (from pydantic<3,>=1->langchain==0.0.312) (4.7.1)\n",
      "Requirement already satisfied: urllib3<3,>=1.21.1 in /Users/wlkim/anaconda3/envs/deeplearning-ai/lib/python3.10/site-packages (from requests<3,>=2->langchain==0.0.312) (1.26.16)\n",
      "Requirement already satisfied: certifi>=2017.4.17 in /Users/wlkim/anaconda3/envs/deeplearning-ai/lib/python3.10/site-packages (from requests<3,>=2->langchain==0.0.312) (2023.7.22)\n",
      "Requirement already satisfied: packaging>=17.0 in /Users/wlkim/anaconda3/envs/deeplearning-ai/lib/python3.10/site-packages (from marshmallow<4.0.0,>=3.3.0->dataclasses-json<0.7,>=0.5.7->langchain==0.0.312) (23.1)\n",
      "Requirement already satisfied: mypy-extensions>=0.3.0 in /Users/wlkim/anaconda3/envs/deeplearning-ai/lib/python3.10/site-packages (from typing-inspect>=0.4.0->dataclasses-json<0.7,>=0.5.7->langchain==0.0.312) (1.0.0)\n",
      "Using cached langchain-0.0.312-py3-none-any.whl (1.8 MB)\n",
      "Installing collected packages: langchain\n",
      "  Attempting uninstall: langchain\n",
      "    Found existing installation: langchain 0.0.325\n",
      "    Uninstalling langchain-0.0.325:\n",
      "      Successfully uninstalled langchain-0.0.325\n",
      "Successfully installed langchain-0.0.312\n"
     ]
    }
   ],
   "source": [
    "!pip install langchain==0.0.312\n",
    "# !pip install --upgrade langchain\n",
    "# !pip install --upgrade pip"
   ]
  },
  {
   "cell_type": "markdown",
   "id": "696519ee-6b7a-47d8-9946-69393d88c20a",
   "metadata": {},
   "source": [
    "# Tools and Routing"
   ]
  },
  {
   "cell_type": "code",
   "execution_count": 2,
   "id": "e6444c27-b225-4161-9942-ff859dd60103",
   "metadata": {},
   "outputs": [],
   "source": [
    "import os\n",
    "import openai\n",
    "\n",
    "from dotenv import load_dotenv, find_dotenv\n",
    "_ = load_dotenv(find_dotenv()) # read local .env file\n",
    "openai.api_key = os.environ['OPENAI_API_KEY']"
   ]
  },
  {
   "cell_type": "code",
   "execution_count": 3,
   "id": "b02cd1ad-47f1-4928-b46b-e6b76599708e",
   "metadata": {},
   "outputs": [],
   "source": [
    "from langchain.agents import tool"
   ]
  },
  {
   "cell_type": "code",
   "execution_count": 4,
   "id": "165ec288-4435-427b-a606-ea5c622da2ee",
   "metadata": {},
   "outputs": [],
   "source": [
    "@tool\n",
    "def search(query: str) -> str:\n",
    "    \"\"\"Search for weather online\"\"\"\n",
    "    return \"42f\""
   ]
  },
  {
   "cell_type": "code",
   "execution_count": 5,
   "id": "d5fc9322-e751-4470-a2e3-f4a722518b78",
   "metadata": {},
   "outputs": [
    {
     "data": {
      "text/plain": [
       "'search'"
      ]
     },
     "execution_count": 5,
     "metadata": {},
     "output_type": "execute_result"
    }
   ],
   "source": [
    "search.name"
   ]
  },
  {
   "cell_type": "code",
   "execution_count": 6,
   "id": "4ec4e043-52c2-4c5d-9c7c-4919f747bfb8",
   "metadata": {},
   "outputs": [
    {
     "data": {
      "text/plain": [
       "'search(query: str) -> str - Search for weather online'"
      ]
     },
     "execution_count": 6,
     "metadata": {},
     "output_type": "execute_result"
    }
   ],
   "source": [
    "search.description"
   ]
  },
  {
   "cell_type": "code",
   "execution_count": 7,
   "id": "bbb3df24-8dba-45c1-9fb6-9c202f547fed",
   "metadata": {},
   "outputs": [
    {
     "data": {
      "text/plain": [
       "{'query': {'title': 'Query', 'type': 'string'}}"
      ]
     },
     "execution_count": 7,
     "metadata": {},
     "output_type": "execute_result"
    }
   ],
   "source": [
    "search.args"
   ]
  },
  {
   "cell_type": "code",
   "execution_count": 8,
   "id": "6a68b000-65c3-41fe-b24f-43cf835d1be1",
   "metadata": {},
   "outputs": [],
   "source": [
    "from pydantic import BaseModel, Field\n",
    "class SearchInput(BaseModel):\n",
    "    query: str = Field(description=\"Thing to search for\")"
   ]
  },
  {
   "cell_type": "code",
   "execution_count": 9,
   "id": "86076d7c-0a9d-4d71-bb10-f40b10681753",
   "metadata": {},
   "outputs": [],
   "source": [
    "@tool(args_schema=SearchInput)\n",
    "def search(query: str) -> str:\n",
    "    \"\"\"Search for the weather online.\"\"\"\n",
    "    return \"42f\""
   ]
  },
  {
   "cell_type": "code",
   "execution_count": 10,
   "id": "46243519-a890-4e79-b52a-195b78132d1c",
   "metadata": {},
   "outputs": [
    {
     "data": {
      "text/plain": [
       "{'query': {'title': 'Query',\n",
       "  'description': 'Thing to search for',\n",
       "  'type': 'string'}}"
      ]
     },
     "execution_count": 10,
     "metadata": {},
     "output_type": "execute_result"
    }
   ],
   "source": [
    "search.args"
   ]
  },
  {
   "cell_type": "code",
   "execution_count": 11,
   "id": "9bc4e597-3435-4136-bb60-3086f84e4220",
   "metadata": {},
   "outputs": [
    {
     "data": {
      "text/plain": [
       "'42f'"
      ]
     },
     "execution_count": 11,
     "metadata": {},
     "output_type": "execute_result"
    }
   ],
   "source": [
    "search.run(\"sf\")"
   ]
  },
  {
   "cell_type": "code",
   "execution_count": 12,
   "id": "af61ba02-220b-413f-975c-3185886b378e",
   "metadata": {},
   "outputs": [
    {
     "data": {
      "text/plain": [
       "'42f'"
      ]
     },
     "execution_count": 12,
     "metadata": {},
     "output_type": "execute_result"
    }
   ],
   "source": [
    "search(\"sf\")"
   ]
  },
  {
   "cell_type": "code",
   "execution_count": 13,
   "id": "52f2ba8f-2f4c-4881-a960-cf33c7810030",
   "metadata": {},
   "outputs": [],
   "source": [
    "import requests\n",
    "from pydantic import BaseModel, Field\n",
    "import datetime\n",
    "\n",
    "# Define the input schema\n",
    "class OpenMeteoInput(BaseModel):\n",
    "    latitude: float = Field(..., description=\"Latitude of the location to fetch weather data for\")\n",
    "    longitude: float = Field(..., description=\"Longitude of the location to fetch weather data for\")\n",
    "\n",
    "@tool(args_schema=OpenMeteoInput)\n",
    "def get_current_temperature(latitude: float, longitude: float) -> dict:\n",
    "    \"\"\"Fetch current temperature for given coordinates.\"\"\"\n",
    "    \n",
    "    BASE_URL = \"https://api.open-meteo.com/v1/forecast\"\n",
    "    \n",
    "    # Parameters for the request\n",
    "    params = {\n",
    "        'latitude': latitude,\n",
    "        'longitude': longitude,\n",
    "        'hourly': 'temperature_2m',\n",
    "        'forecast_days': 1,\n",
    "    }\n",
    "\n",
    "    # Make the request\n",
    "    response = requests.get(BASE_URL, params=params)\n",
    "    \n",
    "    if response.status_code == 200:\n",
    "        results = response.json()\n",
    "    else:\n",
    "        raise Exception(f\"API Request failed with status code: {response.status_code}\")\n",
    "\n",
    "    current_utc_time = datetime.datetime.utcnow()\n",
    "    time_list = [datetime.datetime.fromisoformat(time_str.replace('Z', '+00:00')) for time_str in results['hourly']['time']]\n",
    "    temperature_list = results['hourly']['temperature_2m']\n",
    "    \n",
    "    closest_time_index = min(range(len(time_list)), key=lambda i: abs(time_list[i] - current_utc_time))\n",
    "    current_temperature = temperature_list[closest_time_index]\n",
    "    \n",
    "    return f'The current temperature is {current_temperature}°C'"
   ]
  },
  {
   "cell_type": "code",
   "execution_count": 14,
   "id": "b6a54281-b0b5-4b28-b6b0-86db2ba3b3a5",
   "metadata": {},
   "outputs": [
    {
     "data": {
      "text/plain": [
       "'get_current_temperature'"
      ]
     },
     "execution_count": 14,
     "metadata": {},
     "output_type": "execute_result"
    }
   ],
   "source": [
    "get_current_temperature.name"
   ]
  },
  {
   "cell_type": "code",
   "execution_count": 15,
   "id": "9e8a1818-d86e-43ba-995d-e875a4f787a0",
   "metadata": {},
   "outputs": [
    {
     "data": {
      "text/plain": [
       "'get_current_temperature(latitude: float, longitude: float) -> dict - Fetch current temperature for given coordinates.'"
      ]
     },
     "execution_count": 15,
     "metadata": {},
     "output_type": "execute_result"
    }
   ],
   "source": [
    "get_current_temperature.description"
   ]
  },
  {
   "cell_type": "code",
   "execution_count": 16,
   "id": "2828da61-ad69-4b13-9e40-162e62842bd7",
   "metadata": {},
   "outputs": [
    {
     "data": {
      "text/plain": [
       "{'latitude': {'title': 'Latitude',\n",
       "  'description': 'Latitude of the location to fetch weather data for',\n",
       "  'type': 'number'},\n",
       " 'longitude': {'title': 'Longitude',\n",
       "  'description': 'Longitude of the location to fetch weather data for',\n",
       "  'type': 'number'}}"
      ]
     },
     "execution_count": 16,
     "metadata": {},
     "output_type": "execute_result"
    }
   ],
   "source": [
    "get_current_temperature.args"
   ]
  },
  {
   "cell_type": "code",
   "execution_count": 17,
   "id": "73474fe7-3fd3-48a2-b4a2-0a21c5273f53",
   "metadata": {},
   "outputs": [],
   "source": [
    "from langchain.tools.render import format_tool_to_openai_function"
   ]
  },
  {
   "cell_type": "code",
   "execution_count": 18,
   "id": "8f625dca-8dbe-4735-808d-bbb7ebb4274d",
   "metadata": {},
   "outputs": [
    {
     "data": {
      "text/plain": [
       "{'name': 'get_current_temperature',\n",
       " 'description': 'get_current_temperature(latitude: float, longitude: float) -> dict - Fetch current temperature for given coordinates.',\n",
       " 'parameters': {'title': 'OpenMeteoInput',\n",
       "  'type': 'object',\n",
       "  'properties': {'latitude': {'title': 'Latitude',\n",
       "    'description': 'Latitude of the location to fetch weather data for',\n",
       "    'type': 'number'},\n",
       "   'longitude': {'title': 'Longitude',\n",
       "    'description': 'Longitude of the location to fetch weather data for',\n",
       "    'type': 'number'}},\n",
       "  'required': ['latitude', 'longitude']}}"
      ]
     },
     "execution_count": 18,
     "metadata": {},
     "output_type": "execute_result"
    }
   ],
   "source": [
    "format_tool_to_openai_function(get_current_temperature)"
   ]
  },
  {
   "cell_type": "code",
   "execution_count": 19,
   "id": "f3dc1ac0-59c1-46e5-a290-8bde0df74d7e",
   "metadata": {},
   "outputs": [
    {
     "data": {
      "text/plain": [
       "'The current temperature is 24.7°C'"
      ]
     },
     "execution_count": 19,
     "metadata": {},
     "output_type": "execute_result"
    }
   ],
   "source": [
    "get_current_temperature({\"latitude\": 13, \"longitude\": 14})"
   ]
  },
  {
   "cell_type": "code",
   "execution_count": 20,
   "id": "fd13b594-1ded-4a69-9cbd-2e9d3fe52a85",
   "metadata": {},
   "outputs": [
    {
     "data": {
      "text/plain": [
       "'The current temperature is 30.3°C'"
      ]
     },
     "execution_count": 20,
     "metadata": {},
     "output_type": "execute_result"
    }
   ],
   "source": [
    "get_current_temperature({\"latitude\": 13, \"longitude\": 45})"
   ]
  },
  {
   "cell_type": "code",
   "execution_count": 21,
   "id": "ba0939a3-5e98-44b4-ab2d-ebdce6b56930",
   "metadata": {},
   "outputs": [
    {
     "data": {
      "text/plain": [
       "'The current temperature is -4.9°C'"
      ]
     },
     "execution_count": 21,
     "metadata": {},
     "output_type": "execute_result"
    }
   ],
   "source": [
    "get_current_temperature({\"latitude\": 63, \"longitude\": 14})"
   ]
  },
  {
   "cell_type": "code",
   "execution_count": 22,
   "id": "5d9d846d-e6b2-48ae-a297-4ccef1025525",
   "metadata": {},
   "outputs": [],
   "source": [
    "import wikipedia\n",
    "@tool\n",
    "def search_wikipedia(query: str) -> str:\n",
    "    \"\"\"Run Wikipedia search and get page summaries.\"\"\"\n",
    "    print(\"search_wikipedia\", query)\n",
    "    wikipedia.set_lang(\"ko\")\n",
    "    page_titles = wikipedia.search(query)\n",
    "    summaries = []\n",
    "    for page_title in page_titles[: 3]:\n",
    "        try:\n",
    "            wiki_page =  wikipedia.page(title=page_title, auto_suggest=False)\n",
    "            summaries.append(f\"Page: {page_title}\\nSummary: {wiki_page.summary}\")\n",
    "        except (\n",
    "            self.wiki_client.exceptions.PageError,\n",
    "            self.wiki_client.exceptions.DisambiguationError,\n",
    "        ):\n",
    "            pass\n",
    "    if not summaries:\n",
    "        return \"No good Wikipedia Search Result was found\"\n",
    "    return \"\\n\\n\".join(summaries)"
   ]
  },
  {
   "cell_type": "code",
   "execution_count": 23,
   "id": "f9483b9d-af31-49a9-92c1-35de30622dbc",
   "metadata": {},
   "outputs": [
    {
     "data": {
      "text/plain": [
       "'search_wikipedia'"
      ]
     },
     "execution_count": 23,
     "metadata": {},
     "output_type": "execute_result"
    }
   ],
   "source": [
    "search_wikipedia.name"
   ]
  },
  {
   "cell_type": "code",
   "execution_count": 24,
   "id": "dd115d76-77cc-4055-9f19-a84bf4b3ac2a",
   "metadata": {},
   "outputs": [
    {
     "data": {
      "text/plain": [
       "'search_wikipedia(query: str) -> str - Run Wikipedia search and get page summaries.'"
      ]
     },
     "execution_count": 24,
     "metadata": {},
     "output_type": "execute_result"
    }
   ],
   "source": [
    "search_wikipedia.description"
   ]
  },
  {
   "cell_type": "code",
   "execution_count": 25,
   "id": "cc726211-fc92-4988-a900-a0047854abcc",
   "metadata": {},
   "outputs": [
    {
     "data": {
      "text/plain": [
       "{'name': 'search_wikipedia',\n",
       " 'description': 'search_wikipedia(query: str) -> str - Run Wikipedia search and get page summaries.',\n",
       " 'parameters': {'title': 'search_wikipediaSchemaSchema',\n",
       "  'type': 'object',\n",
       "  'properties': {'query': {'title': 'Query', 'type': 'string'}},\n",
       "  'required': ['query']}}"
      ]
     },
     "execution_count": 25,
     "metadata": {},
     "output_type": "execute_result"
    }
   ],
   "source": [
    "format_tool_to_openai_function(search_wikipedia)"
   ]
  },
  {
   "cell_type": "code",
   "execution_count": 26,
   "id": "4615e1dd-4f0c-495e-a008-8ea7c04cfa0c",
   "metadata": {},
   "outputs": [],
   "source": [
    "from langchain.chains.openai_functions.openapi import openapi_spec_to_openai_fn\n",
    "from langchain.utilities.openapi import OpenAPISpec"
   ]
  },
  {
   "cell_type": "code",
   "execution_count": 27,
   "id": "a5b1e30f-0d3a-4904-83e0-4bc768d8f6fc",
   "metadata": {},
   "outputs": [],
   "source": [
    "text = \"\"\"\n",
    "{\n",
    "  \"openapi\": \"3.0.0\",\n",
    "  \"info\": {\n",
    "    \"version\": \"1.0.0\",\n",
    "    \"title\": \"Swagger Petstore\",\n",
    "    \"license\": {\n",
    "      \"name\": \"MIT\"\n",
    "    }\n",
    "  },\n",
    "  \"servers\": [\n",
    "    {\n",
    "      \"url\": \"http://petstore.swagger.io/v1\"\n",
    "    }\n",
    "  ],\n",
    "  \"paths\": {\n",
    "    \"/pets\": {\n",
    "      \"get\": {\n",
    "        \"summary\": \"List all pets\",\n",
    "        \"operationId\": \"listPets\",\n",
    "        \"tags\": [\n",
    "          \"pets\"\n",
    "        ],\n",
    "        \"parameters\": [\n",
    "          {\n",
    "            \"name\": \"limit\",\n",
    "            \"in\": \"query\",\n",
    "            \"description\": \"How many items to return at one time (max 100)\",\n",
    "            \"required\": false,\n",
    "            \"schema\": {\n",
    "              \"type\": \"integer\",\n",
    "              \"maximum\": 100,\n",
    "              \"format\": \"int32\"\n",
    "            }\n",
    "          }\n",
    "        ],\n",
    "        \"responses\": {\n",
    "          \"200\": {\n",
    "            \"description\": \"A paged array of pets\",\n",
    "            \"headers\": {\n",
    "              \"x-next\": {\n",
    "                \"description\": \"A link to the next page of responses\",\n",
    "                \"schema\": {\n",
    "                  \"type\": \"string\"\n",
    "                }\n",
    "              }\n",
    "            },\n",
    "            \"content\": {\n",
    "              \"application/json\": {\n",
    "                \"schema\": {\n",
    "                  \"$ref\": \"#/components/schemas/Pets\"\n",
    "                }\n",
    "              }\n",
    "            }\n",
    "          },\n",
    "          \"default\": {\n",
    "            \"description\": \"unexpected error\",\n",
    "            \"content\": {\n",
    "              \"application/json\": {\n",
    "                \"schema\": {\n",
    "                  \"$ref\": \"#/components/schemas/Error\"\n",
    "                }\n",
    "              }\n",
    "            }\n",
    "          }\n",
    "        }\n",
    "      },\n",
    "      \"post\": {\n",
    "        \"summary\": \"Create a pet\",\n",
    "        \"operationId\": \"createPets\",\n",
    "        \"tags\": [\n",
    "          \"pets\"\n",
    "        ],\n",
    "        \"responses\": {\n",
    "          \"201\": {\n",
    "            \"description\": \"Null response\"\n",
    "          },\n",
    "          \"default\": {\n",
    "            \"description\": \"unexpected error\",\n",
    "            \"content\": {\n",
    "              \"application/json\": {\n",
    "                \"schema\": {\n",
    "                  \"$ref\": \"#/components/schemas/Error\"\n",
    "                }\n",
    "              }\n",
    "            }\n",
    "          }\n",
    "        }\n",
    "      }\n",
    "    },\n",
    "    \"/pets/{petId}\": {\n",
    "      \"get\": {\n",
    "        \"summary\": \"Info for a specific pet\",\n",
    "        \"operationId\": \"showPetById\",\n",
    "        \"tags\": [\n",
    "          \"pets\"\n",
    "        ],\n",
    "        \"parameters\": [\n",
    "          {\n",
    "            \"name\": \"petId\",\n",
    "            \"in\": \"path\",\n",
    "            \"required\": true,\n",
    "            \"description\": \"The id of the pet to retrieve\",\n",
    "            \"schema\": {\n",
    "              \"type\": \"string\"\n",
    "            }\n",
    "          }\n",
    "        ],\n",
    "        \"responses\": {\n",
    "          \"200\": {\n",
    "            \"description\": \"Expected response to a valid request\",\n",
    "            \"content\": {\n",
    "              \"application/json\": {\n",
    "                \"schema\": {\n",
    "                  \"$ref\": \"#/components/schemas/Pet\"\n",
    "                }\n",
    "              }\n",
    "            }\n",
    "          },\n",
    "          \"default\": {\n",
    "            \"description\": \"unexpected error\",\n",
    "            \"content\": {\n",
    "              \"application/json\": {\n",
    "                \"schema\": {\n",
    "                  \"$ref\": \"#/components/schemas/Error\"\n",
    "                }\n",
    "              }\n",
    "            }\n",
    "          }\n",
    "        }\n",
    "      }\n",
    "    }\n",
    "  },\n",
    "  \"components\": {\n",
    "    \"schemas\": {\n",
    "      \"Pet\": {\n",
    "        \"type\": \"object\",\n",
    "        \"required\": [\n",
    "          \"id\",\n",
    "          \"name\"\n",
    "        ],\n",
    "        \"properties\": {\n",
    "          \"id\": {\n",
    "            \"type\": \"integer\",\n",
    "            \"format\": \"int64\"\n",
    "          },\n",
    "          \"name\": {\n",
    "            \"type\": \"string\"\n",
    "          },\n",
    "          \"tag\": {\n",
    "            \"type\": \"string\"\n",
    "          }\n",
    "        }\n",
    "      },\n",
    "      \"Pets\": {\n",
    "        \"type\": \"array\",\n",
    "        \"maxItems\": 100,\n",
    "        \"items\": {\n",
    "          \"$ref\": \"#/components/schemas/Pet\"\n",
    "        }\n",
    "      },\n",
    "      \"Error\": {\n",
    "        \"type\": \"object\",\n",
    "        \"required\": [\n",
    "          \"code\",\n",
    "          \"message\"\n",
    "        ],\n",
    "        \"properties\": {\n",
    "          \"code\": {\n",
    "            \"type\": \"integer\",\n",
    "            \"format\": \"int32\"\n",
    "          },\n",
    "          \"message\": {\n",
    "            \"type\": \"string\"\n",
    "          }\n",
    "        }\n",
    "      }\n",
    "    }\n",
    "  }\n",
    "}\n",
    "\"\"\""
   ]
  },
  {
   "cell_type": "code",
   "execution_count": 28,
   "id": "295e37e9-8a5e-4020-8516-51c987b18ee9",
   "metadata": {},
   "outputs": [
    {
     "name": "stderr",
     "output_type": "stream",
     "text": [
      "Attempting to load an OpenAPI 3.0.0 spec.  This may result in degraded performance. Convert your OpenAPI spec to 3.1.* spec for better support.\n"
     ]
    }
   ],
   "source": [
    "spec = OpenAPISpec.from_text(text)"
   ]
  },
  {
   "cell_type": "code",
   "execution_count": 29,
   "id": "1a80604c-f2bd-4a13-8e9d-0c083cc26b8f",
   "metadata": {},
   "outputs": [
    {
     "data": {
      "text/plain": [
       "'0.0.312'"
      ]
     },
     "execution_count": 29,
     "metadata": {},
     "output_type": "execute_result"
    }
   ],
   "source": [
    "import langchain\n",
    "langchain.__version__"
   ]
  },
  {
   "cell_type": "code",
   "execution_count": 30,
   "id": "112f752d-34c7-496f-9054-4feae1595959",
   "metadata": {},
   "outputs": [],
   "source": [
    "pet_openai_functions, pet_callables = openapi_spec_to_openai_fn(spec)"
   ]
  },
  {
   "cell_type": "code",
   "execution_count": 31,
   "id": "979e0b02-912c-4e51-be5f-c40486520efd",
   "metadata": {},
   "outputs": [
    {
     "data": {
      "text/plain": [
       "[{'name': 'listPets',\n",
       "  'description': 'List all pets',\n",
       "  'parameters': {'type': 'object',\n",
       "   'properties': {'params': {'type': 'object',\n",
       "     'properties': {'limit': {'type': 'integer',\n",
       "       'maximum': 100.0,\n",
       "       'schema_format': 'int32',\n",
       "       'description': 'How many items to return at one time (max 100)'}},\n",
       "     'required': []}}}},\n",
       " {'name': 'createPets',\n",
       "  'description': 'Create a pet',\n",
       "  'parameters': {'type': 'object', 'properties': {}}},\n",
       " {'name': 'showPetById',\n",
       "  'description': 'Info for a specific pet',\n",
       "  'parameters': {'type': 'object',\n",
       "   'properties': {'path_params': {'type': 'object',\n",
       "     'properties': {'petId': {'type': 'string',\n",
       "       'description': 'The id of the pet to retrieve'}},\n",
       "     'required': ['petId']}}}}]"
      ]
     },
     "execution_count": 31,
     "metadata": {},
     "output_type": "execute_result"
    }
   ],
   "source": [
    "pet_openai_functions"
   ]
  },
  {
   "cell_type": "code",
   "execution_count": 32,
   "id": "c92176fe-6875-48ce-9354-b737c6eeae53",
   "metadata": {},
   "outputs": [],
   "source": [
    "from langchain.chat_models import ChatOpenAI"
   ]
  },
  {
   "cell_type": "code",
   "execution_count": 33,
   "id": "10b4a443-31c9-4298-bc6f-6a069512148f",
   "metadata": {},
   "outputs": [],
   "source": [
    "model = ChatOpenAI(temperature=0).bind(functions=pet_openai_functions)"
   ]
  },
  {
   "cell_type": "code",
   "execution_count": 34,
   "id": "ec9de00f-9bad-4a84-b4dd-791c601fa2b5",
   "metadata": {},
   "outputs": [
    {
     "data": {
      "text/plain": [
       "AIMessage(content='', additional_kwargs={'function_call': {'name': 'listPets', 'arguments': '{\\n  \"params\": {\\n    \"limit\": 3\\n  }\\n}'}})"
      ]
     },
     "execution_count": 34,
     "metadata": {},
     "output_type": "execute_result"
    }
   ],
   "source": [
    "model.invoke(\"what are three pets names\")"
   ]
  },
  {
   "cell_type": "code",
   "execution_count": 35,
   "id": "386adbfa-a0d4-4b52-92ab-0de203a7672b",
   "metadata": {},
   "outputs": [
    {
     "data": {
      "text/plain": [
       "AIMessage(content='', additional_kwargs={'function_call': {'name': 'showPetById', 'arguments': '{\\n  \"path_params\": {\\n    \"petId\": \"42\"\\n  }\\n}'}})"
      ]
     },
     "execution_count": 35,
     "metadata": {},
     "output_type": "execute_result"
    }
   ],
   "source": [
    "model.invoke(\"tell me about pet with id 42\")"
   ]
  },
  {
   "cell_type": "markdown",
   "id": "47085217-584a-4006-9df0-914975a3fb2d",
   "metadata": {},
   "source": [
    "### Routing\n",
    "\n",
    "In lesson 3, we show an example of function calling deciding between two candidate functions.\n",
    "\n",
    "Given our tools above, let's format these as OpenAI functions and show this same behavior."
   ]
  },
  {
   "cell_type": "code",
   "execution_count": 36,
   "id": "d96d513f-a211-459f-9ede-c8c30b98bbe7",
   "metadata": {},
   "outputs": [],
   "source": [
    "functions = [\n",
    "    format_tool_to_openai_function(f) for f in [\n",
    "        search_wikipedia, get_current_temperature\n",
    "    ]\n",
    "]\n",
    "model = ChatOpenAI(temperature=0).bind(functions=functions)"
   ]
  },
  {
   "cell_type": "code",
   "execution_count": 37,
   "id": "63bd105d-25de-4005-a01a-39d7ad850716",
   "metadata": {},
   "outputs": [
    {
     "data": {
      "text/plain": [
       "[{'name': 'search_wikipedia',\n",
       "  'description': 'search_wikipedia(query: str) -> str - Run Wikipedia search and get page summaries.',\n",
       "  'parameters': {'title': 'search_wikipediaSchemaSchema',\n",
       "   'type': 'object',\n",
       "   'properties': {'query': {'title': 'Query', 'type': 'string'}},\n",
       "   'required': ['query']}},\n",
       " {'name': 'get_current_temperature',\n",
       "  'description': 'get_current_temperature(latitude: float, longitude: float) -> dict - Fetch current temperature for given coordinates.',\n",
       "  'parameters': {'title': 'OpenMeteoInput',\n",
       "   'type': 'object',\n",
       "   'properties': {'latitude': {'title': 'Latitude',\n",
       "     'description': 'Latitude of the location to fetch weather data for',\n",
       "     'type': 'number'},\n",
       "    'longitude': {'title': 'Longitude',\n",
       "     'description': 'Longitude of the location to fetch weather data for',\n",
       "     'type': 'number'}},\n",
       "   'required': ['latitude', 'longitude']}}]"
      ]
     },
     "execution_count": 37,
     "metadata": {},
     "output_type": "execute_result"
    }
   ],
   "source": [
    "functions"
   ]
  },
  {
   "cell_type": "code",
   "execution_count": 38,
   "id": "21b0eab9-a452-4472-bca1-cb5a245d5aef",
   "metadata": {},
   "outputs": [
    {
     "data": {
      "text/plain": [
       "AIMessage(content='', additional_kwargs={'function_call': {'name': 'get_current_temperature', 'arguments': '{\\n  \"latitude\": 37.7749,\\n  \"longitude\": -122.4194\\n}'}})"
      ]
     },
     "execution_count": 38,
     "metadata": {},
     "output_type": "execute_result"
    }
   ],
   "source": [
    "model.invoke(\"what is the weather in sf right now\")"
   ]
  },
  {
   "cell_type": "code",
   "execution_count": 39,
   "id": "e47872c7-3b9e-4bc4-bb25-75e5af7ab2a1",
   "metadata": {},
   "outputs": [
    {
     "data": {
      "text/plain": [
       "AIMessage(content='', additional_kwargs={'function_call': {'name': 'search_wikipedia', 'arguments': '{\\n  \"query\": \"langchain\"\\n}'}})"
      ]
     },
     "execution_count": 39,
     "metadata": {},
     "output_type": "execute_result"
    }
   ],
   "source": [
    "model.invoke(\"what is langchain\")"
   ]
  },
  {
   "cell_type": "code",
   "execution_count": 40,
   "id": "ee61817a-3cb9-463d-a6bd-fea888305329",
   "metadata": {},
   "outputs": [],
   "source": [
    "from langchain.prompts import ChatPromptTemplate\n",
    "prompt = ChatPromptTemplate.from_messages([\n",
    "    (\"system\", \"You are helpful but sassy assistant\"),\n",
    "    (\"user\", \"{input}\"),\n",
    "])\n",
    "chain = prompt | model"
   ]
  },
  {
   "cell_type": "code",
   "execution_count": 41,
   "id": "a3726b85-6d20-4d20-9853-25a56b071e9c",
   "metadata": {},
   "outputs": [
    {
     "data": {
      "text/plain": [
       "AIMessage(content='', additional_kwargs={'function_call': {'name': 'get_current_temperature', 'arguments': '{\\n  \"latitude\": 37.5665,\\n  \"longitude\": 126.9780\\n}'}})"
      ]
     },
     "execution_count": 41,
     "metadata": {},
     "output_type": "execute_result"
    }
   ],
   "source": [
    "chain.invoke({\"input\": \"what is the weather in seoul right now\"})"
   ]
  },
  {
   "cell_type": "code",
   "execution_count": 42,
   "id": "1b4d6556-cab3-4da2-ae01-91b4bdcb210f",
   "metadata": {},
   "outputs": [],
   "source": [
    "from langchain.agents.output_parsers import OpenAIFunctionsAgentOutputParser"
   ]
  },
  {
   "cell_type": "code",
   "execution_count": 43,
   "id": "43ea532c-2d8d-4953-aabf-571232892de9",
   "metadata": {},
   "outputs": [],
   "source": [
    "chain = prompt | model | OpenAIFunctionsAgentOutputParser()"
   ]
  },
  {
   "cell_type": "code",
   "execution_count": 44,
   "id": "a985ffeb-397b-425b-8a48-db8ced07e602",
   "metadata": {},
   "outputs": [],
   "source": [
    "result = chain.invoke({\"input\": \"what is the weather in seoul right now\"})"
   ]
  },
  {
   "cell_type": "code",
   "execution_count": 45,
   "id": "f9654416-9a2c-413d-965d-001b2bd7aac6",
   "metadata": {},
   "outputs": [
    {
     "data": {
      "text/plain": [
       "langchain.schema.agent.AgentActionMessageLog"
      ]
     },
     "execution_count": 45,
     "metadata": {},
     "output_type": "execute_result"
    }
   ],
   "source": [
    "type(result)"
   ]
  },
  {
   "cell_type": "code",
   "execution_count": 46,
   "id": "bc694bbc-7111-4e4d-a588-12ec1f83edc9",
   "metadata": {},
   "outputs": [
    {
     "data": {
      "text/plain": [
       "'get_current_temperature'"
      ]
     },
     "execution_count": 46,
     "metadata": {},
     "output_type": "execute_result"
    }
   ],
   "source": [
    "result.tool"
   ]
  },
  {
   "cell_type": "code",
   "execution_count": 47,
   "id": "baeb8cd7-9ad6-42de-af8f-d207df4e576c",
   "metadata": {},
   "outputs": [
    {
     "data": {
      "text/plain": [
       "{'latitude': 37.5665, 'longitude': 126.978}"
      ]
     },
     "execution_count": 47,
     "metadata": {},
     "output_type": "execute_result"
    }
   ],
   "source": [
    "result.tool_input"
   ]
  },
  {
   "cell_type": "code",
   "execution_count": 48,
   "id": "4e2df0ac-8fab-4a26-ba36-286f26756299",
   "metadata": {},
   "outputs": [
    {
     "ename": "AttributeError",
     "evalue": "'AgentActionMessageLog' object has no attribute 'return_values'",
     "output_type": "error",
     "traceback": [
      "\u001b[0;31m---------------------------------------------------------------------------\u001b[0m",
      "\u001b[0;31mAttributeError\u001b[0m                            Traceback (most recent call last)",
      "Cell \u001b[0;32mIn[48], line 1\u001b[0m\n\u001b[0;32m----> 1\u001b[0m \u001b[43mresult\u001b[49m\u001b[38;5;241;43m.\u001b[39;49m\u001b[43mreturn_values\u001b[49m\n",
      "\u001b[0;31mAttributeError\u001b[0m: 'AgentActionMessageLog' object has no attribute 'return_values'"
     ]
    }
   ],
   "source": [
    "result.return_values"
   ]
  },
  {
   "cell_type": "code",
   "execution_count": 49,
   "id": "c4722cdf-677c-4801-bfe8-62416c250a48",
   "metadata": {},
   "outputs": [
    {
     "data": {
      "text/plain": [
       "'The current temperature is 18.4°C'"
      ]
     },
     "execution_count": 49,
     "metadata": {},
     "output_type": "execute_result"
    }
   ],
   "source": [
    "get_current_temperature(result.tool_input)"
   ]
  },
  {
   "cell_type": "code",
   "execution_count": 50,
   "id": "e70b84cf-ff10-429e-88b8-3567cb910e5b",
   "metadata": {},
   "outputs": [],
   "source": [
    "result = chain.invoke({\"input\": \"hi!\"})"
   ]
  },
  {
   "cell_type": "code",
   "execution_count": 51,
   "id": "277f384f-46dd-4c51-90c2-cc8dff3cb535",
   "metadata": {},
   "outputs": [
    {
     "data": {
      "text/plain": [
       "langchain.schema.agent.AgentFinish"
      ]
     },
     "execution_count": 51,
     "metadata": {},
     "output_type": "execute_result"
    }
   ],
   "source": [
    "type(result)"
   ]
  },
  {
   "cell_type": "code",
   "execution_count": 52,
   "id": "283a9fe5-7f98-4821-8169-fa822d0b8595",
   "metadata": {},
   "outputs": [
    {
     "data": {
      "text/plain": [
       "{'output': 'Hello! How can I assist you today?'}"
      ]
     },
     "execution_count": 52,
     "metadata": {},
     "output_type": "execute_result"
    }
   ],
   "source": [
    "result.return_values"
   ]
  },
  {
   "cell_type": "code",
   "execution_count": 53,
   "id": "d0e341cd-6f0e-47c3-b0af-ac3480725d22",
   "metadata": {},
   "outputs": [],
   "source": [
    "from langchain.schema.agent import AgentFinish\n",
    "def route(result):\n",
    "    if isinstance(result, AgentFinish):\n",
    "        return result.return_values['output']\n",
    "    else:\n",
    "        tools = {\n",
    "            \"search_wikipedia\": search_wikipedia, \n",
    "            \"get_current_temperature\": get_current_temperature,\n",
    "        }\n",
    "        return tools[result.tool].run(result.tool_input)"
   ]
  },
  {
   "cell_type": "code",
   "execution_count": 54,
   "id": "944a35c8-9723-42cf-9cd0-d02230176b7b",
   "metadata": {},
   "outputs": [],
   "source": [
    "chain = prompt | model | OpenAIFunctionsAgentOutputParser() | route"
   ]
  },
  {
   "cell_type": "code",
   "execution_count": 55,
   "id": "1ca8a828-fa50-4cbc-b22e-e7e77ccd52ae",
   "metadata": {},
   "outputs": [],
   "source": [
    "chain1 = prompt | model"
   ]
  },
  {
   "cell_type": "code",
   "execution_count": 56,
   "id": "1ac622b8-8e5b-4690-add0-ae5aee2a9f28",
   "metadata": {},
   "outputs": [],
   "source": [
    "chain2 = prompt | model | OpenAIFunctionsAgentOutputParser()"
   ]
  },
  {
   "cell_type": "code",
   "execution_count": 57,
   "id": "22d487b3-2467-468e-a592-2d7fbb17fd3f",
   "metadata": {},
   "outputs": [],
   "source": [
    "result = chain.invoke({\"input\": \"What is the weather in san francisco right now?\"})"
   ]
  },
  {
   "cell_type": "code",
   "execution_count": 58,
   "id": "d6e65b8b-275f-4904-9ff3-d82181b1c8d2",
   "metadata": {},
   "outputs": [
    {
     "data": {
      "text/plain": [
       "AIMessage(content='', additional_kwargs={'function_call': {'name': 'get_current_temperature', 'arguments': '{\\n  \"latitude\": 37.7749,\\n  \"longitude\": -122.4194\\n}'}})"
      ]
     },
     "execution_count": 58,
     "metadata": {},
     "output_type": "execute_result"
    }
   ],
   "source": [
    "chain1.invoke({\"input\": \"What is the weather in san francisco right now?\"})"
   ]
  },
  {
   "cell_type": "code",
   "execution_count": 59,
   "id": "4d763d7a-2035-4e55-9844-4434710866a7",
   "metadata": {},
   "outputs": [
    {
     "data": {
      "text/plain": [
       "AgentActionMessageLog(tool='get_current_temperature', tool_input={'latitude': 37.7749, 'longitude': -122.4194}, log=\"\\nInvoking: `get_current_temperature` with `{'latitude': 37.7749, 'longitude': -122.4194}`\\n\\n\\n\", message_log=[AIMessage(content='', additional_kwargs={'function_call': {'name': 'get_current_temperature', 'arguments': '{\\n  \"latitude\": 37.7749,\\n  \"longitude\": -122.4194\\n}'}})])"
      ]
     },
     "execution_count": 59,
     "metadata": {},
     "output_type": "execute_result"
    }
   ],
   "source": [
    "chain2.invoke({\"input\": \"What is the weather in san francisco right now?\"})"
   ]
  },
  {
   "cell_type": "code",
   "execution_count": 60,
   "id": "46cc3bee-2078-45e2-ac57-6b416608a1f8",
   "metadata": {},
   "outputs": [
    {
     "data": {
      "text/plain": [
       "'The current temperature is 12.6°C'"
      ]
     },
     "execution_count": 60,
     "metadata": {},
     "output_type": "execute_result"
    }
   ],
   "source": [
    "result"
   ]
  },
  {
   "cell_type": "code",
   "execution_count": 61,
   "id": "4093873e-22fc-4cc9-94c5-643700aa54e5",
   "metadata": {},
   "outputs": [],
   "source": [
    "result = chain.invoke({\"input\": \"서울날씨는?\"})"
   ]
  },
  {
   "cell_type": "code",
   "execution_count": 62,
   "id": "4303ce80-8c47-4166-8b08-cae9477e6db7",
   "metadata": {},
   "outputs": [
    {
     "data": {
      "text/plain": [
       "'The current temperature is 18.4°C'"
      ]
     },
     "execution_count": 62,
     "metadata": {},
     "output_type": "execute_result"
    }
   ],
   "source": [
    "result"
   ]
  },
  {
   "cell_type": "code",
   "execution_count": 63,
   "id": "dc8deadf-a743-4434-a373-64b7794bae38",
   "metadata": {},
   "outputs": [
    {
     "name": "stdout",
     "output_type": "stream",
     "text": [
      "search_wikipedia langchain\n"
     ]
    },
    {
     "data": {
      "text/plain": [
       "'No good Wikipedia Search Result was found'"
      ]
     },
     "execution_count": 63,
     "metadata": {},
     "output_type": "execute_result"
    }
   ],
   "source": [
    "chain.invoke({\"input\": \"What is langchain?\"})"
   ]
  },
  {
   "cell_type": "code",
   "execution_count": 64,
   "id": "501d28b9-76eb-45ad-9598-2fe29e5a0c37",
   "metadata": {},
   "outputs": [
    {
     "name": "stdout",
     "output_type": "stream",
     "text": [
      "search_wikipedia 대한민국\n",
      "Page: 대한민국\n",
      "Summary: 대한민국(한국 한자: 大韓民國, 영어: Republic of Korea, ROK), 약칭 한국(한국 한자: 韓國, 영어: Korea), 남한(한국 한자: 南韓, 영어: South Korea), 남조선(한국 한자: 南朝鮮)은 동아시아의 한반도 군사 분계선 남부에 위치한 국가이다. 현정체제는 대한민국 제6공화국이다. 대한민국의 국기는 대한민국 국기법에 따라 태극기이며, 국가는 관습상 애국가, 국화는 관습상 무궁화이다. 공용어는 한국어와 한국 수어이다. 수도는 서울이다. 인구는 2023년을 기준으로 약 5,174만 명으로, 전체 인구 중 절반이(약 2,624만 명) 수도권에 살고 있다.대한민국은 1948년 5월 10일 총선거를 통해 제헌국회를 구성하였고, 1948년 8월 15일 대한민국 정부를 수립하였다. 1948년 제헌 국회에서 대한민국의 국호를 계승하여 헌법에 명시하였고, 다시 1950년 1월 16일 국무원 고시 제7호 ‘국호 및 일부 지방명과 지도색 사용에 관한 건’에 의해 확정하였다.\n",
      "대한민국은 20세기 후반 이후 급격한 경제 성장을 이루었다. 그 과정에서 1990년대 말 외환 위기 등의 부침이 있기도 했다. 대한민국의 2022년 1인당 국민 총소득 (GNI)은 명목 3만 4,994달러이다. 2020년 유엔개발계획 (UNDP)이 매년 발표하는 인간개발지수 (HDI) 조사에서 세계 22위를 기록하였다. 2021년 7월 2일 스위스 제네바 본부에서 열린 ‘제68차 무역개발이사회’ 마지막 회의에서 한국의 지위를 선진국 그룹으로 ‘의견 일치’로 변경하고 선진국으로 인정했다. 다만 높은 자살률, 장시간 근로 문화와 높은 산업 재해 사망률, 저출산 등의 사회 문제가 이 같은 성과와 병존하고 있다.\n",
      "대한민국은 이코노미스트에서 발표하는 민주주의 지수 조사에서 2019년 기준 23위의 8.0점을 기록한 바와 같이 아시아에서 민주주의 수준이 가장 높은 국가 가운데 하나이다. 또한 대한민국은 주요 20개국 (G20), 경제 협력 개발 기구 (OECD), 개발 원조 위원회 (DAC), 파리 클럽 등의 회원국이다.1948년 이후로 오늘날까지 한반도에는 대한민국과 조선민주주의인민공화국이라는 두 개의 분단국가가 각각 남북에 위치하고 있다. 한반도와 부속도서의 면적은 약 22만 km2이며, 인구는 대한민국과 조선민주주의인민공화국을 합쳐 2019년을 기준으로 약 7,700만 명에 달한다.\n",
      "\n",
      "Page: 대한민국 국회\n",
      "Summary: 대한민국 국회(大韓民國 國會, National Assembly of the Republic of Korea)는 대한민국의 입법부로서, 대한민국 행정부와 대한민국 사법부와 함께 대한민국 정부를 구성한다. 대한민국 국회는 단원제 의회이며 300명의 국회의원으로 구성된다.\n",
      "본래 한국 제헌 헌법에서는 단원제, 1952년 발췌 개헌으로 제정된 제2호 헌법에서는 민의원·참의원의 양원으로 구성되도록 제정되었으나 참의원의 구성이 늦어져 제2공화국 때에 비로소 양원제로 구성되었다. 하지만 1년 뒤인 1961년 5·16 군사 정변으로 해산되었다. 1963년부터 제3공화국 헌법에 따라 국회가 부활하였으나 현재와 같이 양원제에서 단원제로 바뀌어 구성되었다.\n",
      "매년 9월 1일 정기 국회가 열리고 정기회·임시회의 100일 이내의 회기가 열린다. 이 기간에는 정치적 이슈가 언론을 통해 쏟아지는 경향이 있다.\n",
      "\n",
      "Page: 대한민국 정부\n",
      "Summary: 대한민국 정부(大韓民國 政府, 영어: The Government of the Republic of Korea)는 입법부, 행정부, 사법부 등으로 구성된다. 일반적으로 대한민국 정부는 대한민국의 중앙정부와 지방정부를 통틀어 일컫는 개념이지만, 경우에 따라 대한민국 중앙 정부만을 지칭하거나, 혹은 대한민국 중앙 정부의 행정부만을 지칭하기도 한다.\n"
     ]
    }
   ],
   "source": [
    "print(chain.invoke({\"input\": \"대한민국에 대해서 설명해줘?\"}))"
   ]
  },
  {
   "cell_type": "code",
   "execution_count": 65,
   "id": "cd9ab62c-e7cc-41be-8ae8-33b826207f03",
   "metadata": {},
   "outputs": [
    {
     "data": {
      "text/plain": [
       "'Hello! How can I assist you today?'"
      ]
     },
     "execution_count": 65,
     "metadata": {},
     "output_type": "execute_result"
    }
   ],
   "source": [
    "chain.invoke({\"input\": \"hi!\"})"
   ]
  },
  {
   "cell_type": "code",
   "execution_count": 66,
   "id": "3da162ee-455b-416f-9b95-416c5f52530b",
   "metadata": {},
   "outputs": [
    {
     "name": "stdout",
     "output_type": "stream",
     "text": [
      "search_wikipedia 하이페리온1차\n",
      "Page: 목동 하이페리온\n",
      "Summary: 목동 현대 하이페리온(영어: Mok-dong Hyundai Hyperion) 혹은 하이페리온 타워(영어: Hyperion Tower)는 대한민국 서울특별시 양천구 목1동에 있는 초고층 마천루이자 고급 주상복합 아파트이다. 1998년에 착공하여 1차는 2003년, 2차는 2006년에 완공되었으며 1차는 3개 동, 지하 6층 ~ 지상 69층, 2차는 6개 동, 지하 4층 ~ 지상 40층으로 구성되어 있다.\n",
      "\n",
      "Page: 삼성 타워팰리스 3차\n",
      "Summary: 삼성 타워팰리스 3차(영어: Samsung Tower Palace), 삼성 타워팰리스 3차 - G동(영어: Samsung Tower Palace 3 – Tower G)는 대한민국 서울특별시 강남구 도곡동 도곡역 앞에 위치한 초고층 주상복합 마천루 단지이다. 설계는 미국의 건설업체 스키드모어, 오윙스 앤드 메릴이 맡았으며 개발은 삼성물산이 개발했고 610세대의 초고층 아파트로 구성되어 있다. 삼성 타워팰리스 단지의 A ~ G동 중 G동에 속한다.\n",
      "타워는 탑을 가리키고 팰리스는 궁전을 가리킨다. 1999년에 착공하여 2002년에 삼성 타워팰리스 1차 완공하였고 2003년에 삼성 타워팰리스 2차 완공 이후 2004년에 완공하였고 같은 해 4월에 입주하였다. 대한민국에서 1차, 2차에 이어, 3차가 건설된 초고층 주상복합 단지이다. 완공 당시 전국에서 제일 높은 건물이 되었으며 동시에 가장 비싼 아파트였다. G동이 유일하게 3차에 해당하며, 다른 건물들과는 달리 타원형의 모습을 가지고 있다.\n",
      "\n",
      "Page: 인천 신한은행 에스버드\n",
      "Summary: \n"
     ]
    }
   ],
   "source": [
    "print(chain.invoke({\"input\": \"하이페리온1차에 대해서 알려줘?\"}))"
   ]
  },
  {
   "cell_type": "code",
   "execution_count": 67,
   "id": "6ac252b1-de4f-4e7d-b639-9d739fdd8089",
   "metadata": {},
   "outputs": [
    {
     "data": {
      "text/plain": [
       "AIMessage(content='', additional_kwargs={'function_call': {'name': 'search_wikipedia', 'arguments': '{\\n\"query\": \"하이페리온1차\"\\n}'}})"
      ]
     },
     "execution_count": 67,
     "metadata": {},
     "output_type": "execute_result"
    }
   ],
   "source": [
    "chain1.invoke({\"input\": \"하이페리온1차에 대해서 알려줘?\"})"
   ]
  },
  {
   "cell_type": "code",
   "execution_count": 68,
   "id": "106a3e3b-9251-4b0a-8449-28428cf35621",
   "metadata": {},
   "outputs": [
    {
     "name": "stdout",
     "output_type": "stream",
     "text": [
      "search_wikipedia 신석기시대\n"
     ]
    },
    {
     "data": {
      "text/plain": [
       "\"Page: 신석기 시대\\nSummary: 신석기 시대(新石器時代, The Neolithic Age)는 석기 시대 후기로, 돌을 갈아 만든 간석기와 질그릇(토기)을 도구로 사용하여 식량 생산 단계에 이른 시대를 말한다. 인류사회는 구석기시대의 채집 경제로부터 신석기 시대의 생산경제로 발전하는데 이러한 생산 경제로의 전환은 인류 문화사상 하나의 전기를 가져온 사건이다. 때문에 이러한 전환을 신석기 혁명이라고도 한다. 이러한 비약을 가져온 이유의 하나로서 기후의 변화를 들 수가 있는데, 그것은 플라이스토세 빙하기(氷河期)가 끝나고 홀로세에 들어오면서 오늘날과 같은 기후로 변해 농업 생산에 적합한 시기에 돌입했기 때문에 형성된 것이다. 지금까지 알려진 가장 이른 신석기문화는 팔레스티나의 예리코(Jericho)와 이라크의 자르모(Jarmo)이다. 이들 중동의 문화는 석기 시대의 말기인 기원전 6500년 전에 시작되었으며, 홀로세의 아구석기의 시대가 끝나고 따라오는 시대이다.\\n\\nPage: 한국의 신석기 시대\\nSummary: 한국의 신석기 시대는 한반도, 만주 일대에서 고대 한국인이 활동한 기원전 8000년부터 기원전 1500년까지의 시기를 말한다. 이를 다시 중석기와 신석기로 구분해, 기원전 2700년 이전 시기를 '중석기 시대'로 분류하기도 한다.\\n뗀석기에 이어 간석기를 주로 사용하였기 때문에 '신석기'로 불리며, 대표적인 유물이 빗살무늬토기이기 때문에 빗살무늬토기 시대라고도 한다.\\n강가나 바닷가에 움집을 짓고 정착 생활하였다. 다른 씨족의 혼인(족외혼을 통해 부족 사회를 형성하고, 연장자나 경험이 많은 사람이 부족을 이끄는 부족 사회였다. 신석기 혁명이라 불리는 농경이 시작되어 밭농사(조·피·수수 등 잡곡류 경작)의 중심이었지만 여전히 중요한 식량 획보 수단을 위해 어로와 사냥이 병행되었다. 토기를 만들어 음식을 조리·저장하였으며, 가락바퀴와 뼈바늘을 이용해 원시적 수공업이 생산되었다. 애니미즘, 샤머니즘, 토테미즘, 영혼 숭배, 조상 숭배 등 원시 신앙이 발생하였다. 흙으로 빚은 얼굴상, 조개껍데기 예술품, 짐승의 뼈나 이빨로 만든 치레걸이 등 예술 활동을 하였다.\\n\\nPage: 신석기 혁명\\nSummary: 신석기 혁명(新石器革命, 영어: Neolithic Revolution)이란 석기 시대 후반의 문화로서 식량 생산 단계에 이른 시대적 전환을 말한다. 인류 사회는 구석기 시대의 채집 경제로부터 신석기 시대의 생산경제로 발전하는데, 이러한 생산 경제로의 전환은 인류 문화사상 하나의 전기를 가져온 사건이다.\""
      ]
     },
     "execution_count": 68,
     "metadata": {},
     "output_type": "execute_result"
    }
   ],
   "source": [
    "chain.invoke({\"input\":\"신석기시대는?\"})"
   ]
  },
  {
   "cell_type": "code",
   "execution_count": 69,
   "id": "43a5e1aa-3b54-4518-a45e-77b8246f7b00",
   "metadata": {},
   "outputs": [
    {
     "data": {
      "text/plain": [
       "'The current temperature is 18.6°C'"
      ]
     },
     "execution_count": 69,
     "metadata": {},
     "output_type": "execute_result"
    }
   ],
   "source": [
    "chain.invoke({\"input\":\"태안 날씨는?\"})"
   ]
  },
  {
   "cell_type": "code",
   "execution_count": null,
   "id": "222a0311-602a-43bc-9a5a-da3db20bb70a",
   "metadata": {},
   "outputs": [],
   "source": []
  }
 ],
 "metadata": {
  "kernelspec": {
   "display_name": "Python 3 (ipykernel)",
   "language": "python",
   "name": "python3"
  },
  "language_info": {
   "codemirror_mode": {
    "name": "ipython",
    "version": 3
   },
   "file_extension": ".py",
   "mimetype": "text/x-python",
   "name": "python",
   "nbconvert_exporter": "python",
   "pygments_lexer": "ipython3",
   "version": "3.10.11"
  }
 },
 "nbformat": 4,
 "nbformat_minor": 5
}
