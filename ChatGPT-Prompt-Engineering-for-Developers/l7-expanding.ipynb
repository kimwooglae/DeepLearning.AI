{
 "cells": [
  {
   "cell_type": "markdown",
   "id": "bce02230",
   "metadata": {},
   "source": [
    "# 확장\n",
    "이 단원에서는 각 고객의 리뷰에 맞게 맞춤화된 고객 서비스 이메일을 생성합니다.\n",
    "\n",
    "## 설정"
   ]
  },
  {
   "cell_type": "code",
   "execution_count": 1,
   "id": "1e5c17e6",
   "metadata": {},
   "outputs": [],
   "source": [
    "import openai\n",
    "import os\n",
    "\n",
    "from dotenv import load_dotenv, find_dotenv\n",
    "_ = load_dotenv(find_dotenv()) # read local .env file\n",
    "\n",
    "openai.api_key  = os.getenv('OPENAI_API_KEY')"
   ]
  },
  {
   "cell_type": "code",
   "execution_count": 2,
   "id": "5c0b71b1",
   "metadata": {},
   "outputs": [],
   "source": [
    "def get_completion(prompt, model=\"gpt-3.5-turbo\",temperature=0): # Andrew mentioned that the prompt/ completion paradigm is preferable for this class\n",
    "    messages = [{\"role\": \"user\", \"content\": prompt}]\n",
    "    response = openai.ChatCompletion.create(\n",
    "        model=model,\n",
    "        messages=messages,\n",
    "        temperature=temperature, # this is the degree of randomness of the model's output\n",
    "    )\n",
    "    return response.choices[0].message[\"content\"]"
   ]
  },
  {
   "cell_type": "markdown",
   "id": "525b7d24",
   "metadata": {},
   "source": [
    "## 고객 이메일에 대한 자동 응답 사용자 지정하기"
   ]
  },
  {
   "cell_type": "code",
   "execution_count": 3,
   "id": "a217fb19",
   "metadata": {},
   "outputs": [],
   "source": [
    "# given the sentiment from the lesson on \"inferring\",\n",
    "# and the original customer message, customize the email\n",
    "sentiment = \"negative\"\n",
    "\n",
    "# review for a blender\n",
    "review = f\"\"\"\n",
    "So, they still had the 17 piece system on seasonal \\\n",
    "sale for around $49 in the month of November, about \\\n",
    "half off, but for some reason (call it price gouging) \\\n",
    "around the second week of December the prices all went \\\n",
    "up to about anywhere from between $70-$89 for the same \\\n",
    "system. And the 11 piece system went up around $10 or \\\n",
    "so in price also from the earlier sale price of $29. \\\n",
    "So it looks okay, but if you look at the base, the part \\\n",
    "where the blade locks into place doesn’t look as good \\\n",
    "as in previous editions from a few years ago, but I \\\n",
    "plan to be very gentle with it (example, I crush \\\n",
    "very hard items like beans, ice, rice, etc. in the \\ \n",
    "blender first then pulverize them in the serving size \\\n",
    "I want in the blender then switch to the whipping \\\n",
    "blade for a finer flour, and use the cross cutting blade \\\n",
    "first when making smoothies, then use the flat blade \\\n",
    "if I need them finer/less pulpy). Special tip when making \\\n",
    "smoothies, finely cut and freeze the fruits and \\\n",
    "vegetables (if using spinach-lightly stew soften the \\ \n",
    "spinach then freeze until ready for use-and if making \\\n",
    "sorbet, use a small to medium sized food processor) \\ \n",
    "that you plan to use that way you can avoid adding so \\\n",
    "much ice if at all-when making your smoothie. \\\n",
    "After about a year, the motor was making a funny noise. \\\n",
    "I called customer service but the warranty expired \\\n",
    "already, so I had to buy another one. FYI: The overall \\\n",
    "quality has gone done in these types of products, so \\\n",
    "they are kind of counting on brand recognition and \\\n",
    "consumer loyalty to maintain sales. Got it in about \\\n",
    "two days.\n",
    "\"\"\""
   ]
  },
  {
   "cell_type": "code",
   "execution_count": 4,
   "id": "63ac596e",
   "metadata": {},
   "outputs": [
    {
     "name": "stdout",
     "output_type": "stream",
     "text": [
      "Dear Valued Customer,\n",
      "\n",
      "Thank you for taking the time to leave a review about our product. We are sorry to hear that you experienced an increase in price and that the quality of the product did not meet your expectations. We apologize for any inconvenience this may have caused you.\n",
      "\n",
      "We would like to assure you that we take all feedback seriously and we will be sure to pass your comments along to our team. If you have any further concerns, please do not hesitate to reach out to our customer service team for assistance.\n",
      "\n",
      "Thank you again for your review and for choosing our product. We hope to have the opportunity to serve you better in the future.\n",
      "\n",
      "Best regards,\n",
      "\n",
      "AI customer agent\n"
     ]
    }
   ],
   "source": [
    "prompt = f\"\"\"\n",
    "You are a customer service AI assistant.\n",
    "Your task is to send an email reply to a valued customer.\n",
    "Given the customer email delimited by ```, \\\n",
    "Generate a reply to thank the customer for their review.\n",
    "If the sentiment is positive or neutral, thank them for \\\n",
    "their review.\n",
    "If the sentiment is negative, apologize and suggest that \\\n",
    "they can reach out to customer service. \n",
    "Make sure to use specific details from the review.\n",
    "Write in a concise and professional tone.\n",
    "Sign the email as `AI customer agent`.\n",
    "Customer review: ```{review}```\n",
    "Review sentiment: {sentiment}\n",
    "\"\"\"\n",
    "response = get_completion(prompt)\n",
    "print(response)"
   ]
  },
  {
   "cell_type": "markdown",
   "id": "d589b800",
   "metadata": {},
   "source": [
    "## 고객 이메일의 세부 정보를 사용하도록 모델에게 알림 보내기"
   ]
  },
  {
   "cell_type": "code",
   "execution_count": 5,
   "id": "9a057f64",
   "metadata": {},
   "outputs": [
    {
     "name": "stdout",
     "output_type": "stream",
     "text": [
      "Dear Valued Customer,\n",
      "\n",
      "Thank you for taking the time to leave a review of our product. We apologize for any inconvenience caused by the recent price increase. We understand how frustrating it can be when prices change unexpectedly.\n",
      "\n",
      "We would like to apologize for the issue you experienced with the motor of your blender. We recommend that you reach out to our customer service team for further assistance with this issue. They will be able to provide you with options to help resolve the problem.\n",
      "\n",
      "We appreciate your feedback regarding the base of the blender and the overall quality of our products. We will be sure to take this into consideration as we strive to improve our products in the future.\n",
      "\n",
      "Thank you again for your review and for choosing our product. We hope to continue to provide you with high-quality products and exceptional customer service.\n",
      "\n",
      "Best regards,\n",
      "\n",
      "AI customer agent\n"
     ]
    }
   ],
   "source": [
    "prompt = f\"\"\"\n",
    "You are a customer service AI assistant.\n",
    "Your task is to send an email reply to a valued customer.\n",
    "Given the customer email delimited by ```, \\\n",
    "Generate a reply to thank the customer for their review.\n",
    "If the sentiment is positive or neutral, thank them for \\\n",
    "their review.\n",
    "If the sentiment is negative, apologize and suggest that \\\n",
    "they can reach out to customer service. \n",
    "Make sure to use specific details from the review.\n",
    "Write in a concise and professional tone.\n",
    "Sign the email as `AI customer agent`.\n",
    "Customer review: ```{review}```\n",
    "Review sentiment: {sentiment}\n",
    "\"\"\"\n",
    "response = get_completion(prompt, temperature=0.7)\n",
    "print(response)"
   ]
  },
  {
   "cell_type": "code",
   "execution_count": 6,
   "id": "338bb114",
   "metadata": {},
   "outputs": [
    {
     "name": "stdout",
     "output_type": "stream",
     "text": [
      "안녕하세요,\n",
      "\n",
      "귀하의 소중한 리뷰에 대해 감사드립니다. 저희 제품이 귀하께서 기대하시는 만큼 좋은 성능을 발휘하지 못한 것 같아서 매우 안타깝습니다. 다만, 귀하께서는 고객 서비스에 문의하실 수 있습니다. 저희 고객 서비스팀은 언제든지 귀하께서 원하시는 도움을 드릴 수 있습니다.\n",
      "\n",
      "감사합니다.\n",
      "\n",
      "AI 고객 에이전트\n"
     ]
    }
   ],
   "source": [
    "prompt = f\"\"\"\n",
    "You are a customer service AI assistant.\n",
    "Your task is to send an email reply to a valued customer.\n",
    "Given the customer email delimited by ```, \\\n",
    "Generate a reply to thank the customer for their review.\n",
    "If the sentiment is positive or neutral, thank them for \\\n",
    "their review.\n",
    "If the sentiment is negative, apologize and suggest that \\\n",
    "they can reach out to customer service. \n",
    "Make sure to use specific details from the review.\n",
    "Write in a concise and professional tone.\n",
    "All text must be written in Korean.\n",
    "\n",
    "Sign the email as `AI customer agent`.\n",
    "Customer review: ```{review}```\n",
    "Review sentiment: {sentiment}\n",
    "\"\"\"\n",
    "response = get_completion(prompt, temperature=0.7)\n",
    "print(response)"
   ]
  },
  {
   "cell_type": "code",
   "execution_count": 8,
   "id": "4988d7ec",
   "metadata": {},
   "outputs": [
    {
     "name": "stdout",
     "output_type": "stream",
     "text": [
      "안녕하세요,\n",
      "\n",
      "고객님의 리뷰를 읽어보았습니다. 먼저, 저희 제품을 구매해 주셔서 감사드립니다. 그러나, 고객님께서 언급하신 가격 인상과 제품의 품질 저하에 대해 대단히 안타깝게 생각합니다. 이에 대해 진심으로 사과드립니다.\n",
      "\n",
      "고객님의 리뷰를 통해 저희 제품의 문제점을 파악할 수 있었으며, 이를 개선하기 위해 노력하겠습니다. 만약 다른 문제가 발생하신다면, 언제든지 고객센터로 연락주시기 바랍니다. 최선을 다해 도와드리겠습니다.\n",
      "\n",
      "감사합니다.\n",
      "\n",
      "AI 고객 서비스 담당자 드림\n"
     ]
    }
   ],
   "source": [
    "prompt = f\"\"\"\n",
    "You are a customer service AI assistant.\n",
    "Your task is to send an email reply to a valued customer.\n",
    "Given the customer email delimited by ```, \\\n",
    "Generate a reply to thank the customer for their review.\n",
    "If the sentiment is positive or neutral, thank them for \\\n",
    "their review.\n",
    "If the sentiment is negative, apologize and suggest that \\\n",
    "they can reach out to customer service. \n",
    "Make sure to use specific details from the review.\n",
    "Write in a concise and professional tone.\n",
    "All text must be written in Korean.\n",
    "\n",
    "Sign the email as `AI customer agent`.\n",
    "Customer review: ```{review}```\n",
    "Review sentiment: {sentiment}\n",
    "\"\"\"\n",
    "response = get_completion(prompt, temperature=0)\n",
    "print(response)"
   ]
  },
  {
   "cell_type": "code",
   "execution_count": 7,
   "id": "92f41ad5",
   "metadata": {},
   "outputs": [
    {
     "name": "stdout",
     "output_type": "stream",
     "text": [
      "안녕하세요, 소중한 리뷰를 남겨주셔서 감사합니다. 불행히도, 제품과 가격에 대해 만족하지 못하신 것 같아 죄송하다는 말씀을 드리고 싶습니다.\n",
      "\n",
      "가격이 12월 초에 급격하게 상승한 점과 이전 버전에 비해 블레이드가 잠기는 부분의 품질이 떨어진 것에 대해 죄송하게 생각합니다. 또한 모터의 이상한 소음과 보증 기간이 만료되어 새로운 제품을 구매하셔야 했다는 점에 대해서도 죄송합니다.\n",
      "\n",
      "고객님의 소중한 의견을 반영하여 더 나은 서비스와 제품을 제공하기 위해 노력하겠습니다. 문제를 해결하거나 추가적인 지원이 필요하신 경우, 언제든지 고객 서비스 센터로 연락 주시기 바랍니다.\n",
      "\n",
      "다시 한 번 죄송하다는 말씀을 드리며, 더 나은 경험을 제공할 수 있도록 노력하겠습니다.\n",
      "\n",
      "감사합니다.\n",
      "AI 고객 지원 요원\n"
     ]
    }
   ],
   "source": [
    "prompt = f\"\"\"\n",
    "You are a customer service AI assistant.\n",
    "Your task is to send an email reply to a valued customer.\n",
    "Given the customer email delimited by ```, \\\n",
    "Generate a reply to thank the customer for their review.\n",
    "If the sentiment is positive or neutral, thank them for \\\n",
    "their review.\n",
    "If the sentiment is negative, apologize and suggest that \\\n",
    "they can reach out to customer service. \n",
    "Make sure to use specific details from the review.\n",
    "Write in a concise and professional tone.\n",
    "All text must be written in Korean.\n",
    "\n",
    "Sign the email as `AI customer agent`.\n",
    "Customer review: ```{review}```\n",
    "Review sentiment: {sentiment}\n",
    "\"\"\"\n",
    "response = get_completion(prompt, model='gpt-4', temperature=0.7)\n",
    "print(response)"
   ]
  },
  {
   "cell_type": "code",
   "execution_count": 9,
   "id": "f9574377",
   "metadata": {},
   "outputs": [
    {
     "name": "stdout",
     "output_type": "stream",
     "text": [
      "안녕하세요, 소중한 리뷰를 남겨주셔서 감사합니다.\n",
      "\n",
      "먼저, 가격이 상승한 것에 대해 사과의 말씀을 드립니다. 고객님께 불편을 드린 점 진심으로 죄송합니다. 또한, 기존 제품에 비해 품질이 떨어진 것 같다고 느끼셨다니 매우 유감스럽게 생각합니다. 고객님의 소중한 의견을 반영하여 더 나은 제품 개선에 노력하겠습니다.\n",
      "\n",
      "모터가 이상한 소리를 내는 문제와 관련하여 고객 서비스에 문의하셨지만 보증 기간이 만료되어 불편을 겪으셨다는 점도 죄송하게 생각합니다. 이와 관련하여 추가적인 지원이 필요하시다면 언제든지 고객 서비스로 연락 주시기 바랍니다.\n",
      "\n",
      "다시 한번, 소중한 리뷰에 대해 감사드리며, 더 나은 서비스를 제공하기 위해 노력하겠습니다.\n",
      "\n",
      "감사합니다.\n",
      "AI 고객 에이전트 드림\n"
     ]
    }
   ],
   "source": [
    "prompt = f\"\"\"\n",
    "You are a customer service AI assistant.\n",
    "Your task is to send an email reply to a valued customer.\n",
    "Given the customer email delimited by ```, \\\n",
    "Generate a reply to thank the customer for their review.\n",
    "If the sentiment is positive or neutral, thank them for \\\n",
    "their review.\n",
    "If the sentiment is negative, apologize and suggest that \\\n",
    "they can reach out to customer service. \n",
    "Make sure to use specific details from the review.\n",
    "Write in a concise and professional tone.\n",
    "All text must be written in Korean.\n",
    "\n",
    "Sign the email as `AI customer agent`.\n",
    "Customer review: ```{review}```\n",
    "Review sentiment: {sentiment}\n",
    "\"\"\"\n",
    "response = get_completion(prompt, model='gpt-4', temperature=0)\n",
    "print(response)"
   ]
  },
  {
   "cell_type": "code",
   "execution_count": null,
   "id": "94dd5b67",
   "metadata": {},
   "outputs": [],
   "source": []
  }
 ],
 "metadata": {
  "kernelspec": {
   "display_name": "Python 3 (ipykernel)",
   "language": "python",
   "name": "python3"
  },
  "language_info": {
   "codemirror_mode": {
    "name": "ipython",
    "version": 3
   },
   "file_extension": ".py",
   "mimetype": "text/x-python",
   "name": "python",
   "nbconvert_exporter": "python",
   "pygments_lexer": "ipython3",
   "version": "3.8.16"
  }
 },
 "nbformat": 4,
 "nbformat_minor": 5
}
