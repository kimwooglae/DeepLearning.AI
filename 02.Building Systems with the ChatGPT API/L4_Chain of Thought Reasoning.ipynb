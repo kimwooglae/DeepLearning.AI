{
 "cells": [
  {
   "cell_type": "markdown",
   "id": "3f286ba0",
   "metadata": {},
   "source": [
    "# L4: Process Inputs: Chain of Thought Reasoning"
   ]
  },
  {
   "cell_type": "markdown",
   "id": "5e0d5d57",
   "metadata": {},
   "source": [
    "## 설정 \n",
    "### API 키와 관련 Python 라이브러리를 로드합니다. \n",
    "이 과정에서는 OpenAI API 키를 로드하는 몇 가지 코드를 제공했습니다."
   ]
  },
  {
   "cell_type": "code",
   "execution_count": 1,
   "id": "9b497f3a",
   "metadata": {},
   "outputs": [],
   "source": [
    "import os\n",
    "import openai\n",
    "import sys\n",
    "from dotenv import load_dotenv, find_dotenv\n",
    "_ = load_dotenv(find_dotenv())\n",
    "\n",
    "openai.api_key  = os.environ['OPENAI_API_KEY']"
   ]
  },
  {
   "cell_type": "code",
   "execution_count": 2,
   "id": "0de73f9f",
   "metadata": {},
   "outputs": [],
   "source": [
    "def get_completion_from_messages(messages, \n",
    "                                 model=\"gpt-3.5-turbo\", \n",
    "                                 temperature=0, max_tokens=500):\n",
    "    response = openai.ChatCompletion.create(\n",
    "        model=model,\n",
    "        messages=messages,\n",
    "        temperature=temperature, \n",
    "        max_tokens=max_tokens, \n",
    "    )\n",
    "    return response.choices[0].message[\"content\"]"
   ]
  },
  {
   "cell_type": "markdown",
   "id": "6f1b27f7",
   "metadata": {},
   "source": [
    "## Chain-of-Thought Prompting"
   ]
  },
  {
   "cell_type": "code",
   "execution_count": 3,
   "id": "81c1fa05",
   "metadata": {},
   "outputs": [],
   "source": [
    "delimiter = \"####\"\n",
    "system_message = f\"\"\"\n",
    "Follow these steps to answer the customer queries.\n",
    "The customer query will be delimited with four hashtags,\\\n",
    "i.e. {delimiter}. \n",
    "\n",
    "Step 1:{delimiter} First decide whether the user is \\\n",
    "asking a question about a specific product or products. \\\n",
    "Product cateogry doesn't count. \n",
    "\n",
    "Step 2:{delimiter} If the user is asking about \\\n",
    "specific products, identify whether \\\n",
    "the products are in the following list.\n",
    "All available products: \n",
    "1. Product: TechPro Ultrabook\n",
    "   Category: Computers and Laptops\n",
    "   Brand: TechPro\n",
    "   Model Number: TP-UB100\n",
    "   Warranty: 1 year\n",
    "   Rating: 4.5\n",
    "   Features: 13.3-inch display, 8GB RAM, 256GB SSD, Intel Core i5 processor\n",
    "   Description: A sleek and lightweight ultrabook for everyday use.\n",
    "   Price: $799.99\n",
    "\n",
    "2. Product: BlueWave Gaming Laptop\n",
    "   Category: Computers and Laptops\n",
    "   Brand: BlueWave\n",
    "   Model Number: BW-GL200\n",
    "   Warranty: 2 years\n",
    "   Rating: 4.7\n",
    "   Features: 15.6-inch display, 16GB RAM, 512GB SSD, NVIDIA GeForce RTX 3060\n",
    "   Description: A high-performance gaming laptop for an immersive experience.\n",
    "   Price: $1199.99\n",
    "\n",
    "3. Product: PowerLite Convertible\n",
    "   Category: Computers and Laptops\n",
    "   Brand: PowerLite\n",
    "   Model Number: PL-CV300\n",
    "   Warranty: 1 year\n",
    "   Rating: 4.3\n",
    "   Features: 14-inch touchscreen, 8GB RAM, 256GB SSD, 360-degree hinge\n",
    "   Description: A versatile convertible laptop with a responsive touchscreen.\n",
    "   Price: $699.99\n",
    "\n",
    "4. Product: TechPro Desktop\n",
    "   Category: Computers and Laptops\n",
    "   Brand: TechPro\n",
    "   Model Number: TP-DT500\n",
    "   Warranty: 1 year\n",
    "   Rating: 4.4\n",
    "   Features: Intel Core i7 processor, 16GB RAM, 1TB HDD, NVIDIA GeForce GTX 1660\n",
    "   Description: A powerful desktop computer for work and play.\n",
    "   Price: $999.99\n",
    "\n",
    "5. Product: BlueWave Chromebook\n",
    "   Category: Computers and Laptops\n",
    "   Brand: BlueWave\n",
    "   Model Number: BW-CB100\n",
    "   Warranty: 1 year\n",
    "   Rating: 4.1\n",
    "   Features: 11.6-inch display, 4GB RAM, 32GB eMMC, Chrome OS\n",
    "   Description: A compact and affordable Chromebook for everyday tasks.\n",
    "   Price: $249.99\n",
    "\n",
    "Step 3:{delimiter} If the message contains products \\\n",
    "in the list above, list any assumptions that the \\\n",
    "user is making in their \\\n",
    "message e.g. that Laptop X is bigger than \\\n",
    "Laptop Y, or that Laptop Z has a 2 year warranty.\n",
    "\n",
    "Step 4:{delimiter}: If the user made any assumptions, \\\n",
    "figure out whether the assumption is true based on your \\\n",
    "product information. \n",
    "\n",
    "Step 5:{delimiter}: First, politely correct the \\\n",
    "customer's incorrect assumptions if applicable. \\\n",
    "Only mention or reference products in the list of \\\n",
    "5 available products, as these are the only 5 \\\n",
    "products that the store sells. \\\n",
    "Answer the customer in a friendly tone.\n",
    "\n",
    "Use the following format:\n",
    "Step 1:{delimiter} <step 1 reasoning>\n",
    "Step 2:{delimiter} <step 2 reasoning>\n",
    "Step 3:{delimiter} <step 3 reasoning>\n",
    "Step 4:{delimiter} <step 4 reasoning>\n",
    "Response to user:{delimiter} <response to customer>\n",
    "\n",
    "Make sure to include {delimiter} to separate every step.\n",
    "Must reply in Korean.\n",
    "\"\"\""
   ]
  },
  {
   "cell_type": "code",
   "execution_count": 4,
   "id": "29bef621",
   "metadata": {},
   "outputs": [
    {
     "name": "stdout",
     "output_type": "stream",
     "text": [
      "Step 1:#### The user is asking about the price difference between the BlueWave Chromebook and the TechPro Desktop.\n",
      "\n",
      "Step 2:#### Both the BlueWave Chromebook and the TechPro Desktop are available products.\n",
      "\n",
      "Step 3:#### The user assumes that the BlueWave Chromebook is more expensive than the TechPro Desktop.\n",
      "\n",
      "Step 4:#### The assumption made by the user is incorrect. The TechPro Desktop is priced at $999.99, while the BlueWave Chromebook is priced at $249.99. Therefore, the BlueWave Chromebook is actually less expensive than the TechPro Desktop.\n",
      "\n",
      "Response to user:#### 블루웨이브 크롬북은 테크프로 데스크탑보다 싸요. 테크프로 데스크탑은 $999.99이고, 블루웨이브 크롬북은 $249.99입니다.\n"
     ]
    }
   ],
   "source": [
    "user_message = f\"\"\"\n",
    "by how much is the BlueWave Chromebook more expensive \\\n",
    "than the TechPro Desktop\"\"\"\n",
    "\n",
    "messages =  [  \n",
    "{'role':'system', \n",
    " 'content': system_message},    \n",
    "{'role':'user', \n",
    " 'content': f\"{delimiter}{user_message}{delimiter}\"},  \n",
    "] \n",
    "\n",
    "response = get_completion_from_messages(messages)\n",
    "print(response)"
   ]
  },
  {
   "cell_type": "code",
   "execution_count": 5,
   "id": "8d17d5f2",
   "metadata": {},
   "outputs": [
    {
     "name": "stdout",
     "output_type": "stream",
     "text": [
      "Step 1:#### The user is asking a question about specific products, namely the BlueWave Chromebook and the TechPro Desktop.\n",
      "\n",
      "Step 2:#### Both the BlueWave Chromebook and the TechPro Desktop are in the list of available products.\n",
      "\n",
      "Step 3:#### The user is making an assumption that the BlueWave Chromebook is more expensive than the TechPro Desktop.\n",
      "\n",
      "Step 4:#### According to the product information, the assumption is incorrect. The TechPro Desktop is priced at $999.99, while the BlueWave Chromebook is priced at $249.99. Therefore, the TechPro Desktop is more expensive than the BlueWave Chromebook.\n",
      "\n",
      "Response to user:#### 사용자님, 제품 가격에 대해 잘못 이해하신 것 같습니다. TechPro Desktop의 가격은 $999.99이고, BlueWave Chromebook의 가격은 $249.99입니다. 따라서, TechPro Desktop이 BlueWave Chromebook보다 비싸습니다.\n"
     ]
    }
   ],
   "source": [
    "user_message = f\"\"\"\n",
    "by how much is the BlueWave Chromebook more expensive \\\n",
    "than the TechPro Desktop\"\"\"\n",
    "\n",
    "messages =  [  \n",
    "{'role':'system', \n",
    " 'content': system_message},    \n",
    "{'role':'user', \n",
    " 'content': f\"{delimiter}{user_message}{delimiter}\"},  \n",
    "] \n",
    "\n",
    "response = get_completion_from_messages(messages, model='gpt-4')\n",
    "print(response)"
   ]
  },
  {
   "cell_type": "code",
   "execution_count": 6,
   "id": "4231f37a",
   "metadata": {},
   "outputs": [
    {
     "name": "stdout",
     "output_type": "stream",
     "text": [
      "Step 1:#### 사용자가 특정 제품에 대해 질문하는지 여부를 판단합니다. 제품 카테고리는 고려하지 않습니다.\n",
      "\n",
      "Step 2:#### 사용자가 특정 제품에 대해 묻는 경우, 다음 목록에 해당 제품이 있는지 확인합니다.\n",
      "모든 판매 제품:\n",
      "1. 제품: TechPro 울트라북\n",
      "   카테고리: 컴퓨터 및 노트북\n",
      "   브랜드: TechPro\n",
      "   모델 번호: TP-UB100\n",
      "   보증: 1년\n",
      "   평점: 4.5\n",
      "   특징: 13.3인치 디스플레이, 8GB RAM, 256GB SSD, 인텔 코어 i5 프로세서\n",
      "   설명: 일상적인 사용을 위한 슬림하고 가벼운 울트라북\n",
      "   가격: $799.99\n",
      "\n",
      "2. 제품: BlueWave 게이밍 노트북\n",
      "   카테고리: 컴퓨터 및 노트북\n",
      "   브랜드: BlueWave\n",
      "   모델 번호: BW-GL200\n",
      "   보증: 2년\n",
      "   평점: 4.7\n",
      "   특징: 15.6인치 디스플레이, 16GB RAM, 512GB SSD, NVIDIA GeForce RTX 3060\n",
      "   설명: 몰입형 경험을 위한 고성능 게이밍 노트북\n",
      "   가격: $1199.99\n",
      "\n",
      "3. 제품: PowerLite 컨버터블\n",
      "   카테고리: 컴퓨터 및 노트북\n",
      "   브랜드: PowerLite\n",
      "   모델 번\n"
     ]
    }
   ],
   "source": [
    "user_message = f\"\"\"\n",
    "do you sell tvs\"\"\"\n",
    "messages =  [  \n",
    "{'role':'system', \n",
    " 'content': system_message},    \n",
    "{'role':'user', \n",
    " 'content': f\"{delimiter}{user_message}{delimiter}\"},  \n",
    "] \n",
    "response = get_completion_from_messages(messages)\n",
    "print(response)"
   ]
  },
  {
   "cell_type": "code",
   "execution_count": 7,
   "id": "b4915b2a",
   "metadata": {},
   "outputs": [
    {
     "name": "stdout",
     "output_type": "stream",
     "text": [
      "Step 1:#### The user is asking about a product category (TVs), not a specific product.\n",
      "\n",
      "Step 2:#### The user's query does not mention any of the specific products in the list.\n",
      "\n",
      "Step 3:#### The user is not making any assumptions about specific products.\n",
      "\n",
      "Step 4:#### Not applicable as the user did not make any assumptions about specific products.\n",
      "\n",
      "Response to user:#### 죄송합니다, 저희는 컴퓨터와 노트북만 판매하고 있습니다. TV는 판매하고 있지 않습니다. 다른 질문이 있으시면 언제든지 물어보세요.\n"
     ]
    }
   ],
   "source": [
    "user_message = f\"\"\"\n",
    "do you sell tvs\"\"\"\n",
    "messages =  [  \n",
    "{'role':'system', \n",
    " 'content': system_message},    \n",
    "{'role':'user', \n",
    " 'content': f\"{delimiter}{user_message}{delimiter}\"},  \n",
    "] \n",
    "response = get_completion_from_messages(messages, model='gpt-4')\n",
    "print(response)"
   ]
  },
  {
   "cell_type": "markdown",
   "id": "1b2f6521",
   "metadata": {},
   "source": [
    "## Inner Monologue\n",
    "- LLM에 구분 기호로 추론 단계를 구분하도록 요청했기 때문에 사용자에게 표시되는 최종 출력에서 사고 연쇄 추론을 숨길 수 있습니다."
   ]
  },
  {
   "cell_type": "code",
   "execution_count": 8,
   "id": "c6de876a",
   "metadata": {},
   "outputs": [
    {
     "name": "stdout",
     "output_type": "stream",
     "text": [
      "죄송합니다, 저희는 컴퓨터와 노트북만 판매하고 있습니다. TV는 판매하고 있지 않습니다. 다른 질문이 있으시면 언제든지 물어보세요.\n"
     ]
    }
   ],
   "source": [
    "try:\n",
    "    final_response = response.split(delimiter)[-1].strip()\n",
    "except Exception as e:\n",
    "    final_response = \"Sorry, I'm having trouble right now, please try asking another question.\"\n",
    "    \n",
    "print(final_response)"
   ]
  },
  {
   "cell_type": "code",
   "execution_count": null,
   "id": "15a86dc5",
   "metadata": {},
   "outputs": [],
   "source": []
  }
 ],
 "metadata": {
  "kernelspec": {
   "display_name": "Python 3 (ipykernel)",
   "language": "python",
   "name": "python3"
  },
  "language_info": {
   "codemirror_mode": {
    "name": "ipython",
    "version": 3
   },
   "file_extension": ".py",
   "mimetype": "text/x-python",
   "name": "python",
   "nbconvert_exporter": "python",
   "pygments_lexer": "ipython3",
   "version": "3.10.11"
  }
 },
 "nbformat": 4,
 "nbformat_minor": 5
}
