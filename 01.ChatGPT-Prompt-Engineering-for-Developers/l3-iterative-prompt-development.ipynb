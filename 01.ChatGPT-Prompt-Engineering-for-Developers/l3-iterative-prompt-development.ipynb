{
 "cells": [
  {
   "cell_type": "markdown",
   "id": "6792885c",
   "metadata": {},
   "source": [
    "# 반복적인 프롬프트 개발\n",
    "이 단원에서는 제품 팩트 시트에서 마케팅 카피를 생성하기 위해 프롬프트를 반복적으로 분석하고 개선하는 방법을 알아봅니다.\n",
    "\n",
    "## 설정"
   ]
  },
  {
   "cell_type": "code",
   "execution_count": 1,
   "id": "21018e21",
   "metadata": {},
   "outputs": [],
   "source": [
    "import openai\n",
    "import os\n",
    "\n",
    "from dotenv import load_dotenv, find_dotenv\n",
    "_ = load_dotenv(find_dotenv()) # read local .env file\n",
    "\n",
    "openai.api_key  = os.getenv('OPENAI_API_KEY')"
   ]
  },
  {
   "cell_type": "code",
   "execution_count": 2,
   "id": "9d48d0a9",
   "metadata": {},
   "outputs": [],
   "source": [
    "def get_completion(prompt, model=\"gpt-3.5-turbo\"):\n",
    "    messages = [{\"role\": \"user\", \"content\": prompt}]\n",
    "    response = openai.ChatCompletion.create(\n",
    "        model=model,\n",
    "        messages=messages,\n",
    "        temperature=0, # this is the degree of randomness of the model's output\n",
    "    )\n",
    "    return response.choices[0].message[\"content\"]"
   ]
  },
  {
   "cell_type": "markdown",
   "id": "ef16c6b2",
   "metadata": {},
   "source": [
    "## 제품 팩트 시트에서 마케팅 제품 설명 생성하기"
   ]
  },
  {
   "cell_type": "code",
   "execution_count": 3,
   "id": "42f2fc15",
   "metadata": {},
   "outputs": [],
   "source": [
    "fact_sheet_chair = \"\"\"\n",
    "OVERVIEW\n",
    "- Part of a beautiful family of mid-century inspired office furniture, \n",
    "including filing cabinets, desks, bookcases, meeting tables, and more.\n",
    "- Several options of shell color and base finishes.\n",
    "- Available with plastic back and front upholstery (SWC-100) \n",
    "or full upholstery (SWC-110) in 10 fabric and 6 leather options.\n",
    "- Base finish options are: stainless steel, matte black, \n",
    "gloss white, or chrome.\n",
    "- Chair is available with or without armrests.\n",
    "- Suitable for home or business settings.\n",
    "- Qualified for contract use.\n",
    "\n",
    "CONSTRUCTION\n",
    "- 5-wheel plastic coated aluminum base.\n",
    "- Pneumatic chair adjust for easy raise/lower action.\n",
    "\n",
    "DIMENSIONS\n",
    "- WIDTH 53 CM | 20.87”\n",
    "- DEPTH 51 CM | 20.08”\n",
    "- HEIGHT 80 CM | 31.50”\n",
    "- SEAT HEIGHT 44 CM | 17.32”\n",
    "- SEAT DEPTH 41 CM | 16.14”\n",
    "\n",
    "OPTIONS\n",
    "- Soft or hard-floor caster options.\n",
    "- Two choices of seat foam densities: \n",
    " medium (1.8 lb/ft3) or high (2.8 lb/ft3)\n",
    "- Armless or 8 position PU armrests \n",
    "\n",
    "MATERIALS\n",
    "SHELL BASE GLIDER\n",
    "- Cast Aluminum with modified nylon PA6/PA66 coating.\n",
    "- Shell thickness: 10 mm.\n",
    "SEAT\n",
    "- HD36 foam\n",
    "\n",
    "COUNTRY OF ORIGIN\n",
    "- Italy\n",
    "\"\"\""
   ]
  },
  {
   "cell_type": "code",
   "execution_count": 4,
   "id": "e4810497",
   "metadata": {},
   "outputs": [
    {
     "name": "stdout",
     "output_type": "stream",
     "text": [
      "Introducing our stunning mid-century inspired office chair, the perfect addition to any home or business setting. Part of a beautiful family of office furniture, including filing cabinets, desks, bookcases, meeting tables, and more, this chair is available in several options of shell color and base finishes to suit your style. Choose from plastic back and front upholstery (SWC-100) or full upholstery (SWC-110) in 10 fabric and 6 leather options.\n",
      "\n",
      "The chair is constructed with a 5-wheel plastic coated aluminum base and features a pneumatic chair adjust for easy raise/lower action. It is available with or without armrests and is qualified for contract use. The base finish options are stainless steel, matte black, gloss white, or chrome.\n",
      "\n",
      "Measuring at a width of 53 cm, depth of 51 cm, and height of 80 cm, with a seat height of 44 cm and seat depth of 41 cm, this chair is designed for ultimate comfort. You can also choose between soft or hard-floor caster options and two choices of seat foam densities: medium (1.8 lb/ft3) or high (2.8 lb/ft3). The armrests are available in either an armless or 8 position PU option.\n",
      "\n",
      "The materials used in the construction of this chair are of the highest quality. The shell base glider is made of cast aluminum with modified nylon PA6/PA66 coating and has a shell thickness of 10 mm. The seat is made of HD36 foam, ensuring maximum comfort and durability.\n",
      "\n",
      "This chair is made in Italy and is the perfect combination of style and functionality. Upgrade your workspace with our mid-century inspired office chair today!\n"
     ]
    }
   ],
   "source": [
    "prompt = f\"\"\"\n",
    "Your task is to help a marketing team create a \n",
    "description for a retail website of a product based \n",
    "on a technical fact sheet.\n",
    "\n",
    "Write a product description based on the information \n",
    "provided in the technical specifications delimited by \n",
    "triple backticks.\n",
    "\n",
    "Technical specifications: ```{fact_sheet_chair}```\n",
    "\"\"\"\n",
    "response = get_completion(prompt)\n",
    "print(response)"
   ]
  },
  {
   "cell_type": "code",
   "execution_count": 5,
   "id": "5552cdd3",
   "metadata": {},
   "outputs": [
    {
     "name": "stdout",
     "output_type": "stream",
     "text": [
      "이 제품은 아름다운 미드 센츄리 스타일의 사무용 가구 시리즈 중 하나로, 서랍장, 책상, 책장, 회의용 테이블 등 다양한 제품이 있습니다. 쉘 색상과 베이스 마감 옵션도 다양하게 제공됩니다. SWC-100 모델은 플라스틱으로 뒷면과 앞면이 덮여 있으며, SWC-110 모델은 10가지 패브릭과 6가지 가죽 옵션으로 완전히 덮여 있습니다. 베이스 마감 옵션은 스테인레스 스틸, 매트 블랙, 광택 화이트, 크롬 중에서 선택할 수 있습니다. 팔걸이 있는 제품과 없는 제품도 모두 구매 가능하며, 가정용 또는 비즈니스용으로 모두 적합합니다. 또한 계약 사용을 위한 자격을 갖추고 있습니다.\n",
      "\n",
      "제품의 구조는 5개의 플라스틱 코팅된 알루미늄 베이스와 편안한 높낮이 조절이 가능한 공기압 의자 조절장치로 구성되어 있습니다.\n",
      "\n",
      "크기는 폭 53cm, 깊이 51cm, 높이 80cm, 좌석 높이 44cm, 좌석 깊이 41cm입니다. 소프트 또는 하드 바닥 캐스터 옵션, 중간 밀도(1.8 lb/ft3) 또는 고밀도(2.8 lb/ft3)의 좌석 폼 및 팔걸이 없는 제품 또는 8단계 PU 팔걸이 옵션도 제공됩니다.\n",
      "\n",
      "쉘 베이스 글라이더는 수정 나일론 PA6/PA66 코팅이 된 주조 알루미늄으로 제작되었으며, 쉘 두께는 10mm입니다. 좌석은 HD36 폼으로 제작되었으며, 이 제품은 이탈리아에서 생산되었습니다.\n"
     ]
    }
   ],
   "source": [
    "prompt = f\"\"\"\n",
    "Your task is to help a marketing team create a \n",
    "description for a retail website of a product based \n",
    "on a technical fact sheet.\n",
    "\n",
    "Write a product description based on the information \n",
    "provided in the technical specifications delimited by \n",
    "triple backticks using Korean.\n",
    "\n",
    "Technical specifications: ```{fact_sheet_chair}```\n",
    "\"\"\"\n",
    "response = get_completion(prompt)\n",
    "print(response)"
   ]
  },
  {
   "cell_type": "markdown",
   "id": "1555d553",
   "metadata": {},
   "source": [
    "## 문제 1: 텍스트가 너무 깁니다. \n",
    "- 단어/문장/문자 수를 제한하세요."
   ]
  },
  {
   "cell_type": "code",
   "execution_count": 6,
   "id": "8597fbbc",
   "metadata": {},
   "outputs": [
    {
     "name": "stdout",
     "output_type": "stream",
     "text": [
      "Introducing our mid-century inspired office chair, perfect for home or business settings. Available in a range of shell colors and base finishes, with or without armrests. Choose from 10 fabric and 6 leather options for full or plastic upholstery. With a 5-wheel base and pneumatic chair adjust, it's both stylish and functional. Made in Italy.\n"
     ]
    }
   ],
   "source": [
    "prompt = f\"\"\"\n",
    "Your task is to help a marketing team create a \n",
    "description for a retail website of a product based \n",
    "on a technical fact sheet.\n",
    "\n",
    "Write a product description based on the information \n",
    "provided in the technical specifications delimited by \n",
    "triple backticks.\n",
    "\n",
    "Use at most 50 words.\n",
    "\n",
    "Technical specifications: ```{fact_sheet_chair}```\n",
    "\"\"\"\n",
    "response = get_completion(prompt)\n",
    "print(response)\n"
   ]
  },
  {
   "cell_type": "code",
   "execution_count": 8,
   "id": "1ca52ec1",
   "metadata": {},
   "outputs": [
    {
     "data": {
      "text/plain": [
       "55"
      ]
     },
     "execution_count": 8,
     "metadata": {},
     "output_type": "execute_result"
    }
   ],
   "source": [
    "len(response.split(\" \"))"
   ]
  },
  {
   "cell_type": "code",
   "execution_count": 9,
   "id": "a5510e9f",
   "metadata": {},
   "outputs": [
    {
     "name": "stdout",
     "output_type": "stream",
     "text": [
      "이 제품은 미드 센추리 스타일의 사무용 가구 시리즈로, 책상, 서랍장, 책장, 회의용 테이블 등 다양한 제품이 있습니다. 쉘 색상과 베이스 마감 옵션이 다양하며, SWC-100은 플라스틱으로 뒷면과 앞면이, SWC-110은 10가지 패브릭과 6가지 가죽 옵션으로 완전히 덮여 있습니다. 의자는 팔걸이 유무로 선택 가능하며, 가정용 및 비즈니스용으로 적합합니다. 이탈리아에서 생산되었습니다.\n"
     ]
    }
   ],
   "source": [
    "prompt = f\"\"\"\n",
    "Your task is to help a marketing team create a \n",
    "description for a retail website of a product based \n",
    "on a technical fact sheet.\n",
    "\n",
    "Write a product description based on the information \n",
    "provided in the technical specifications delimited by \n",
    "triple backticks using Korean.\n",
    "\n",
    "Use at most 50 words.\n",
    "\n",
    "Technical specifications: ```{fact_sheet_chair}```\n",
    "\"\"\"\n",
    "response = get_completion(prompt)\n",
    "print(response)"
   ]
  },
  {
   "cell_type": "code",
   "execution_count": 10,
   "id": "0e4b757e",
   "metadata": {},
   "outputs": [
    {
     "data": {
      "text/plain": [
       "47"
      ]
     },
     "execution_count": 10,
     "metadata": {},
     "output_type": "execute_result"
    }
   ],
   "source": [
    "len(response.split(\" \"))"
   ]
  },
  {
   "cell_type": "code",
   "execution_count": 11,
   "id": "c85b6bb1",
   "metadata": {},
   "outputs": [
    {
     "name": "stdout",
     "output_type": "stream",
     "text": [
      "Introducing the mid-century inspired office chair, available in a range of shell colors and base finishes to suit any home or business setting. Choose from plastic or full upholstery in a variety of fabric and leather options, and opt for armrests or armless. With a 5-wheel plastic coated aluminum base and pneumatic chair adjust, this chair is both stylish and functional.\n"
     ]
    }
   ],
   "source": [
    "prompt = f\"\"\"\n",
    "Your task is to help a marketing team create a \n",
    "description for a retail website of a product based \n",
    "on a technical fact sheet.\n",
    "\n",
    "Write a product description based on the information \n",
    "provided in the technical specifications delimited by \n",
    "triple backticks.\n",
    "\n",
    "Use at most 3 sentences.\n",
    "\n",
    "Technical specifications: ```{fact_sheet_chair}```\n",
    "\"\"\"\n",
    "response = get_completion(prompt)\n",
    "print(response)"
   ]
  },
  {
   "cell_type": "code",
   "execution_count": 12,
   "id": "5e09348a",
   "metadata": {},
   "outputs": [
    {
     "data": {
      "text/plain": [
       "61"
      ]
     },
     "execution_count": 12,
     "metadata": {},
     "output_type": "execute_result"
    }
   ],
   "source": [
    "len(response.split(\" \"))"
   ]
  },
  {
   "cell_type": "code",
   "execution_count": 13,
   "id": "0db27f77",
   "metadata": {},
   "outputs": [
    {
     "name": "stdout",
     "output_type": "stream",
     "text": [
      "이 제품은 미드 센추리 스타일의 사무용 가구 시리즈로, 책상, 서랍장, 책장, 회의용 테이블 등 다양한 제품이 있습니다. 쉘 색상과 베이스 마감 옵션이 다양하며, 10가지 패브릭과 6가지 가죽 옵션으로 풀 또는 부분적인 패브릭/가죽 시트가 제공됩니다. 이 의자는 가정용 또는 비즈니스용으로 적합하며, 계약 사용에 적합합니다.\n"
     ]
    }
   ],
   "source": [
    "prompt = f\"\"\"\n",
    "Your task is to help a marketing team create a \n",
    "description for a retail website of a product based \n",
    "on a technical fact sheet.\n",
    "\n",
    "Write a product description based on the information \n",
    "provided in the technical specifications delimited by \n",
    "triple backticks using Korean.\n",
    "\n",
    "Use at most 3 sentences.\n",
    "\n",
    "Technical specifications: ```{fact_sheet_chair}```\n",
    "\"\"\"\n",
    "response = get_completion(prompt)\n",
    "print(response)"
   ]
  },
  {
   "cell_type": "code",
   "execution_count": 14,
   "id": "ab3c3e4a",
   "metadata": {},
   "outputs": [
    {
     "data": {
      "text/plain": [
       "43"
      ]
     },
     "execution_count": 14,
     "metadata": {},
     "output_type": "execute_result"
    }
   ],
   "source": [
    "len(response.split(\" \"))"
   ]
  },
  {
   "cell_type": "code",
   "execution_count": 15,
   "id": "3e3f92cc",
   "metadata": {},
   "outputs": [
    {
     "name": "stdout",
     "output_type": "stream",
     "text": [
      "Introducing our mid-century inspired office chair, perfect for home or business settings. Available in multiple shell colors and base finishes, with or without armrests. Choose from 10 fabric and 6 leather options. Features a 5-wheel base and pneumatic chair adjust. Made in Italy.\n"
     ]
    }
   ],
   "source": [
    "prompt = f\"\"\"\n",
    "Your task is to help a marketing team create a \n",
    "description for a retail website of a product based \n",
    "on a technical fact sheet.\n",
    "\n",
    "Write a product description based on the information \n",
    "provided in the technical specifications delimited by \n",
    "triple backticks.\n",
    "\n",
    "Use at most 280 characters.\n",
    "\n",
    "Technical specifications: ```{fact_sheet_chair}```\n",
    "\"\"\"\n",
    "response = get_completion(prompt)\n",
    "print(response)"
   ]
  },
  {
   "cell_type": "code",
   "execution_count": 16,
   "id": "e8e73471",
   "metadata": {},
   "outputs": [
    {
     "data": {
      "text/plain": [
       "281"
      ]
     },
     "execution_count": 16,
     "metadata": {},
     "output_type": "execute_result"
    }
   ],
   "source": [
    "len(response)"
   ]
  },
  {
   "cell_type": "code",
   "execution_count": 17,
   "id": "7c4e6e9c",
   "metadata": {},
   "outputs": [
    {
     "name": "stdout",
     "output_type": "stream",
     "text": [
      "이 의자는 아름다운 미드 센츄리 스타일의 가구 시리즈 중 하나입니다. 다양한 색상과 베이스 옵션으로 제공되며, 가죽과 패브릭으로 제작되어 있습니다. 가정용 또는 비즈니스용으로 적합하며, 이탈리아에서 생산됩니다.\n"
     ]
    }
   ],
   "source": [
    "prompt = f\"\"\"\n",
    "Your task is to help a marketing team create a \n",
    "description for a retail website of a product based \n",
    "on a technical fact sheet.\n",
    "\n",
    "Write a product description based on the information \n",
    "provided in the technical specifications delimited by \n",
    "triple backticks using Korean.\n",
    "\n",
    "Use at most 280 characters.\n",
    "\n",
    "Technical specifications: ```{fact_sheet_chair}```\n",
    "\"\"\"\n",
    "response = get_completion(prompt)\n",
    "print(response)"
   ]
  },
  {
   "cell_type": "code",
   "execution_count": 18,
   "id": "9f45cdab",
   "metadata": {},
   "outputs": [
    {
     "data": {
      "text/plain": [
       "117"
      ]
     },
     "execution_count": 18,
     "metadata": {},
     "output_type": "execute_result"
    }
   ],
   "source": [
    "len(response)"
   ]
  },
  {
   "cell_type": "markdown",
   "id": "37568c57",
   "metadata": {},
   "source": [
    "## 문제 2. 잘못된 세부 사항에 초점을 맞춘 텍스트\n",
    "- 의도한 대상과 관련된 측면에 초점을 맞추도록 요청하세요."
   ]
  },
  {
   "cell_type": "code",
   "execution_count": 19,
   "id": "93a5468e",
   "metadata": {},
   "outputs": [
    {
     "name": "stdout",
     "output_type": "stream",
     "text": [
      "Introducing our mid-century inspired office chair, perfect for both home and business settings. With a range of shell colors and base finishes, including stainless steel and matte black, this chair is available with or without armrests. The 5-wheel plastic coated aluminum base and pneumatic chair adjust make it easy to move and adjust to your desired height. Made with high-quality materials, including a cast aluminum shell and HD36 foam seat, this chair is built to last.\n"
     ]
    }
   ],
   "source": [
    "prompt = f\"\"\"\n",
    "Your task is to help a marketing team create a \n",
    "description for a retail website of a product based \n",
    "on a technical fact sheet.\n",
    "\n",
    "Write a product description based on the information \n",
    "provided in the technical specifications delimited by \n",
    "triple backticks.\n",
    "\n",
    "The description is intended for furniture retailers, \n",
    "so should be technical in nature and focus on the \n",
    "materials the product is constructed from.\n",
    "\n",
    "Use at most 50 words.\n",
    "\n",
    "Technical specifications: ```{fact_sheet_chair}```\n",
    "\"\"\"\n",
    "response = get_completion(prompt)\n",
    "print(response)"
   ]
  },
  {
   "cell_type": "code",
   "execution_count": 20,
   "id": "dcaaa1e3",
   "metadata": {},
   "outputs": [
    {
     "name": "stdout",
     "output_type": "stream",
     "text": [
      "이 제품은 중세기 오피스 가구 시리즈의 일부로, 책상, 서랍장, 책장, 회의용 테이블 등 다양한 제품이 있습니다. 쉘 색상과 베이스 마감 옵션이 다양하며, SWC-100은 플라스틱으로 뒷면과 앞면을, SWC-110은 10가지 패브릭과 6가지 가죽 옵션으로 완전히 덮여 있습니다. 이 의자는 가정용 또는 비즈니스용으로 적합하며, 계약 사용에 적합합니다. 이 의자는 캐스터 옵션, 시트 폼 밀도, 팔걸이 여부 등 다양한 옵션이 있습니다. 이 제품은 이탈리아에서 제조되었으며, 쉘 베이스 글라이더는 수정 나일론 PA6/PA66 코팅이 된 주조 알루미늄으로 만들어졌습니다.\n"
     ]
    }
   ],
   "source": [
    "prompt = f\"\"\"\n",
    "Your task is to help a marketing team create a \n",
    "description for a retail website of a product based \n",
    "on a technical fact sheet.\n",
    "\n",
    "Write a product description based on the information \n",
    "provided in the technical specifications delimited by \n",
    "triple backticks using Korean.\n",
    "\n",
    "The description is intended for furniture retailers, \n",
    "so should be technical in nature and focus on the \n",
    "materials the product is constructed from.\n",
    "\n",
    "Use at most 50 words.\n",
    "\n",
    "Technical specifications: ```{fact_sheet_chair}```\n",
    "\"\"\"\n",
    "response = get_completion(prompt)\n",
    "print(response)"
   ]
  },
  {
   "cell_type": "code",
   "execution_count": 21,
   "id": "278f8c24",
   "metadata": {},
   "outputs": [
    {
     "name": "stdout",
     "output_type": "stream",
     "text": [
      "Introducing our mid-century inspired office chair, perfect for home or business settings. With a range of shell colors and base finishes, and the option of plastic or full upholstery in various fabrics and leathers, this chair is both stylish and versatile. Constructed with a 5-wheel plastic coated aluminum base and pneumatic chair adjust, it's also practical. Available with or without armrests and suitable for contract use. Product IDs: SWC-100, SWC-110.\n"
     ]
    }
   ],
   "source": [
    "prompt = f\"\"\"\n",
    "Your task is to help a marketing team create a \n",
    "description for a retail website of a product based \n",
    "on a technical fact sheet.\n",
    "\n",
    "Write a product description based on the information \n",
    "provided in the technical specifications delimited by \n",
    "triple backticks.\n",
    "\n",
    "The description is intended for furniture retailers, \n",
    "so should be technical in nature and focus on the \n",
    "materials the product is constructed from.\n",
    "\n",
    "At the end of the description, include every 7-character \n",
    "Product ID in the technical specification.\n",
    "\n",
    "Use at most 50 words.\n",
    "\n",
    "Technical specifications: ```{fact_sheet_chair}```\n",
    "\"\"\"\n",
    "response = get_completion(prompt)\n",
    "print(response)"
   ]
  },
  {
   "cell_type": "code",
   "execution_count": 22,
   "id": "3750061c",
   "metadata": {},
   "outputs": [
    {
     "name": "stdout",
     "output_type": "stream",
     "text": [
      "이 의자는 중세기 오피스 가구의 아름다운 가족 중 일부입니다. \n",
      "파일 캐비닛, 책상, 서랍장, 회의용 테이블 등 다양한 제품이 있습니다. \n",
      "플라스틱 또는 패브릭, 가죽으로 제작되었으며, \n",
      "스테인리스 스틸, 매트 블랙, 글로스 화이트 또는 크롬으로 마감되었습니다. \n",
      "암레스트가 있는 또는 없는 옵션이 있으며, 가정용 또는 비즈니스용으로 적합합니다. \n",
      "제품 ID: SWC-100, SWC-110.\n"
     ]
    }
   ],
   "source": [
    "prompt = f\"\"\"\n",
    "Your task is to help a marketing team create a \n",
    "description for a retail website of a product based \n",
    "on a technical fact sheet.\n",
    "\n",
    "Write a product description based on the information \n",
    "provided in the technical specifications delimited by \n",
    "triple backticks using Korean.\n",
    "\n",
    "The description is intended for furniture retailers, \n",
    "so should be technical in nature and focus on the \n",
    "materials the product is constructed from.\n",
    "\n",
    "At the end of the description, include every 7-character \n",
    "Product ID in the technical specification.\n",
    "\n",
    "Use at most 50 words.\n",
    "\n",
    "Technical specifications: ```{fact_sheet_chair}```\n",
    "\"\"\"\n",
    "response = get_completion(prompt)\n",
    "print(response)"
   ]
  },
  {
   "cell_type": "markdown",
   "id": "f280e230",
   "metadata": {},
   "source": [
    "## 문제 3. 설명에 차원 표가 필요함\n",
    "- 정보를 추출하여 표로 정리하도록 요청하세요."
   ]
  },
  {
   "cell_type": "code",
   "execution_count": 23,
   "id": "dd16a5ff",
   "metadata": {},
   "outputs": [
    {
     "name": "stdout",
     "output_type": "stream",
     "text": [
      "<div>\n",
      "<h2>Mid-Century Inspired Office Chair</h2>\n",
      "<p>Introducing our mid-century inspired office chair, part of a beautiful family of office furniture that includes filing cabinets, desks, bookcases, meeting tables, and more. This chair is available in several options of shell color and base finishes, allowing you to customize it to your liking. You can choose between plastic back and front upholstery or full upholstery in 10 fabric and 6 leather options. The base finish options are stainless steel, matte black, gloss white, or chrome. The chair is also available with or without armrests, making it suitable for both home and business settings. Plus, it's qualified for contract use, so you can trust its durability and quality.</p>\n",
      "<h3>Construction</h3>\n",
      "<p>The chair features a 5-wheel plastic coated aluminum base and a pneumatic chair adjust for easy raise/lower action. You can choose between soft or hard-floor caster options and two choices of seat foam densities: medium (1.8 lb/ft3) or high (2.8 lb/ft3). The chair is also available with armless or 8 position PU armrests.</p>\n",
      "<h3>Materials</h3>\n",
      "<p>The shell base glider is made of cast aluminum with modified nylon PA6/PA66 coating, and the shell thickness is 10 mm. The seat is made of HD36 foam, ensuring comfort and support.</p>\n",
      "<h3>Product Dimensions</h3>\n",
      "<table>\n",
      "  <tr>\n",
      "    <td>Width</td>\n",
      "    <td>53 cm | 20.87\"</td>\n",
      "  </tr>\n",
      "  <tr>\n",
      "    <td>Depth</td>\n",
      "    <td>51 cm | 20.08\"</td>\n",
      "  </tr>\n",
      "  <tr>\n",
      "    <td>Height</td>\n",
      "    <td>80 cm | 31.50\"</td>\n",
      "  </tr>\n",
      "  <tr>\n",
      "    <td>Seat Height</td>\n",
      "    <td>44 cm | 17.32\"</td>\n",
      "  </tr>\n",
      "  <tr>\n",
      "    <td>Seat Depth</td>\n",
      "    <td>41 cm | 16.14\"</td>\n",
      "  </tr>\n",
      "</table>\n",
      "<h3>Product ID</h3>\n",
      "<p>SWC-100, SWC-110</p>\n",
      "</div>\n"
     ]
    }
   ],
   "source": [
    "prompt = f\"\"\"\n",
    "Your task is to help a marketing team create a \n",
    "description for a retail website of a product based \n",
    "on a technical fact sheet.\n",
    "\n",
    "Write a product description based on the information \n",
    "provided in the technical specifications delimited by \n",
    "triple backticks.\n",
    "\n",
    "The description is intended for furniture retailers, \n",
    "so should be technical in nature and focus on the \n",
    "materials the product is constructed from.\n",
    "\n",
    "At the end of the description, include every 7-character \n",
    "Product ID in the technical specification.\n",
    "\n",
    "After the description, include a table that gives the \n",
    "product's dimensions. The table should have two columns.\n",
    "In the first column include the name of the dimension. \n",
    "In the second column include the measurements in inches only.\n",
    "\n",
    "Give the table the title 'Product Dimensions'.\n",
    "\n",
    "Format everything as HTML that can be used in a website. \n",
    "Place the description in a <div> element.\n",
    "\n",
    "Technical specifications: ```{fact_sheet_chair}```\n",
    "\"\"\"\n",
    "\n",
    "response = get_completion(prompt)\n",
    "print(response)"
   ]
  },
  {
   "cell_type": "code",
   "execution_count": 24,
   "id": "fcbef761",
   "metadata": {},
   "outputs": [],
   "source": [
    "from IPython.display import display, HTML"
   ]
  },
  {
   "cell_type": "code",
   "execution_count": 25,
   "id": "1d9710b4",
   "metadata": {},
   "outputs": [
    {
     "data": {
      "text/html": [
       "<div>\n",
       "<h2>Mid-Century Inspired Office Chair</h2>\n",
       "<p>Introducing our mid-century inspired office chair, part of a beautiful family of office furniture that includes filing cabinets, desks, bookcases, meeting tables, and more. This chair is available in several options of shell color and base finishes, allowing you to customize it to your liking. You can choose between plastic back and front upholstery or full upholstery in 10 fabric and 6 leather options. The base finish options are stainless steel, matte black, gloss white, or chrome. The chair is also available with or without armrests, making it suitable for both home and business settings. Plus, it's qualified for contract use, so you can trust its durability and quality.</p>\n",
       "<h3>Construction</h3>\n",
       "<p>The chair features a 5-wheel plastic coated aluminum base and a pneumatic chair adjust for easy raise/lower action. You can choose between soft or hard-floor caster options and two choices of seat foam densities: medium (1.8 lb/ft3) or high (2.8 lb/ft3). The chair is also available with armless or 8 position PU armrests.</p>\n",
       "<h3>Materials</h3>\n",
       "<p>The shell base glider is made of cast aluminum with modified nylon PA6/PA66 coating, and the shell thickness is 10 mm. The seat is made of HD36 foam, ensuring comfort and support.</p>\n",
       "<h3>Product Dimensions</h3>\n",
       "<table>\n",
       "  <tr>\n",
       "    <td>Width</td>\n",
       "    <td>53 cm | 20.87\"</td>\n",
       "  </tr>\n",
       "  <tr>\n",
       "    <td>Depth</td>\n",
       "    <td>51 cm | 20.08\"</td>\n",
       "  </tr>\n",
       "  <tr>\n",
       "    <td>Height</td>\n",
       "    <td>80 cm | 31.50\"</td>\n",
       "  </tr>\n",
       "  <tr>\n",
       "    <td>Seat Height</td>\n",
       "    <td>44 cm | 17.32\"</td>\n",
       "  </tr>\n",
       "  <tr>\n",
       "    <td>Seat Depth</td>\n",
       "    <td>41 cm | 16.14\"</td>\n",
       "  </tr>\n",
       "</table>\n",
       "<h3>Product ID</h3>\n",
       "<p>SWC-100, SWC-110</p>\n",
       "</div>"
      ],
      "text/plain": [
       "<IPython.core.display.HTML object>"
      ]
     },
     "metadata": {},
     "output_type": "display_data"
    }
   ],
   "source": [
    "display(HTML(response))"
   ]
  },
  {
   "cell_type": "code",
   "execution_count": 32,
   "id": "855756a8",
   "metadata": {},
   "outputs": [
    {
     "name": "stdout",
     "output_type": "stream",
     "text": [
      "<div>\n",
      "  <p>이 의자는 아름다운 미드 세기 오피스 가구 시리즈의 일부입니다. 이 시리즈에는 파일 캐비닛, 책상, 서랍장, 회의용 테이블 등이 포함되어 있습니다. 쉘 색상과 베이스 마감 옵션 중에서 선택할 수 있으며, 플라스틱으로 뒷면과 앞면을 덮은 SWC-100 또는 10가지 패브릭과 6가지 가죽 옵션으로 완전히 덮인 SWC-110으로 사용할 수 있습니다. 베이스 마감 옵션은 스테인레스 스틸, 매트 블랙, 광택 화이트 또는 크롬입니다. 팔걸이가 있는 버전과 없는 버전이 모두 있으며, 가정용 또는 비즈니스용으로 적합하며 계약 사용을 위해 자격을 갖추고 있습니다.</p>\n",
      "  <p>이 의자는 5개의 플라스틱 코팅 알루미늄 베이스와 편안한 높낮이 조절이 가능한 공기압 의자 조절 장치가 있습니다. 또한, 소프트 또는 하드 바닥 캐스터 옵션, 중간 (1.8 lb/ft3) 또는 높은 (2.8 lb/ft3) 밀도의 좌석 폼 옵션, 팔걸이가 없는 버전 또는 8개의 위치로 조절 가능한 PU 팔걸이 옵션이 있습니다.</p>\n",
      "  <p>이 의자는 이탈리아에서 제조되었으며, 쉘 베이스 글라이더는 수정 나일론 PA6/PA66 코팅이 된 캐스트 알루미늄으로 만들어졌으며, 쉘 두께는 10mm입니다. 좌석은 HD36 폼으로 만들어졌습니다.</p>\n",
      "  <p>제품 ID: SWC-100, SWC-110</p>\n",
      "  <table>\n",
      "    <caption>제품 크기</caption>\n",
      "    <tr>\n",
      "      <th>너비</th>\n",
      "      <td>53cm | 20.87\"</td>\n",
      "    </tr>\n",
      "    <tr>\n",
      "      <th>깊이</th>\n",
      "      <td>51cm | 20.08\"</td>\n",
      "    </tr>\n",
      "    <tr>\n",
      "      <th>높이</th>\n",
      "      <td>80cm | 31.50\"</td>\n",
      "    </tr>\n",
      "    <tr>\n",
      "      <th>좌석 높이</th>\n",
      "      <td>44cm | 17.32\"</td>\n",
      "    </tr>\n",
      "    <tr>\n",
      "      <th>좌석 깊이</th>\n",
      "      <td>41cm | 16.14\"</td>\n",
      "    </tr>\n",
      "  </table>\n",
      "</div>\n"
     ]
    }
   ],
   "source": [
    "prompt = f\"\"\"\n",
    "Your task is to help a marketing team create a \n",
    "description for a retail website of a product based \n",
    "on a technical fact sheet.\n",
    "\n",
    "Write a product description based on the information \n",
    "provided in the technical specifications delimited by \n",
    "triple backticks using Korean.\n",
    "\n",
    "The description is intended for furniture retailers, \n",
    "so should be technical in nature and focus on the \n",
    "materials the product is constructed from.\n",
    "\n",
    "At the end of the description, include every 7-character \n",
    "Product ID in the technical specification.\n",
    "\n",
    "After the description, include a table that gives the \n",
    "product's dimensions. The table should have two columns.\n",
    "In the first column include the name of the dimension. \n",
    "In the second column include the measurements in inches only.\n",
    "\n",
    "Give the table the title 'Product Dimensions'.\n",
    "\n",
    "Format everything as HTML that can be used in a website. \n",
    "Place the description in a <div> element.\n",
    "\n",
    "Technical specifications: ```{fact_sheet_chair}```\n",
    "\"\"\"\n",
    "\n",
    "response = get_completion(prompt)\n",
    "print(response)"
   ]
  },
  {
   "cell_type": "code",
   "execution_count": 33,
   "id": "c03db263",
   "metadata": {},
   "outputs": [
    {
     "data": {
      "text/html": [
       "<div>\n",
       "  <p>이 의자는 아름다운 미드 세기 오피스 가구 시리즈의 일부입니다. 이 시리즈에는 파일 캐비닛, 책상, 서랍장, 회의용 테이블 등이 포함되어 있습니다. 쉘 색상과 베이스 마감 옵션 중에서 선택할 수 있으며, 플라스틱으로 뒷면과 앞면을 덮은 SWC-100 또는 10가지 패브릭과 6가지 가죽 옵션으로 완전히 덮인 SWC-110으로 사용할 수 있습니다. 베이스 마감 옵션은 스테인레스 스틸, 매트 블랙, 광택 화이트 또는 크롬입니다. 팔걸이가 있는 버전과 없는 버전이 모두 있으며, 가정용 또는 비즈니스용으로 적합하며 계약 사용을 위해 자격을 갖추고 있습니다.</p>\n",
       "  <p>이 의자는 5개의 플라스틱 코팅 알루미늄 베이스와 편안한 높낮이 조절이 가능한 공기압 의자 조절 장치가 있습니다. 또한, 소프트 또는 하드 바닥 캐스터 옵션, 중간 (1.8 lb/ft3) 또는 높은 (2.8 lb/ft3) 밀도의 좌석 폼 옵션, 팔걸이가 없는 버전 또는 8개의 위치로 조절 가능한 PU 팔걸이 옵션이 있습니다.</p>\n",
       "  <p>이 의자는 이탈리아에서 제조되었으며, 쉘 베이스 글라이더는 수정 나일론 PA6/PA66 코팅이 된 캐스트 알루미늄으로 만들어졌으며, 쉘 두께는 10mm입니다. 좌석은 HD36 폼으로 만들어졌습니다.</p>\n",
       "  <p>제품 ID: SWC-100, SWC-110</p>\n",
       "  <table>\n",
       "    <caption>제품 크기</caption>\n",
       "    <tr>\n",
       "      <th>너비</th>\n",
       "      <td>53cm | 20.87\"</td>\n",
       "    </tr>\n",
       "    <tr>\n",
       "      <th>깊이</th>\n",
       "      <td>51cm | 20.08\"</td>\n",
       "    </tr>\n",
       "    <tr>\n",
       "      <th>높이</th>\n",
       "      <td>80cm | 31.50\"</td>\n",
       "    </tr>\n",
       "    <tr>\n",
       "      <th>좌석 높이</th>\n",
       "      <td>44cm | 17.32\"</td>\n",
       "    </tr>\n",
       "    <tr>\n",
       "      <th>좌석 깊이</th>\n",
       "      <td>41cm | 16.14\"</td>\n",
       "    </tr>\n",
       "  </table>\n",
       "</div>"
      ],
      "text/plain": [
       "<IPython.core.display.HTML object>"
      ]
     },
     "metadata": {},
     "output_type": "display_data"
    }
   ],
   "source": [
    "display(HTML(response))"
   ]
  },
  {
   "cell_type": "code",
   "execution_count": 30,
   "id": "51870597",
   "metadata": {},
   "outputs": [
    {
     "name": "stdout",
     "output_type": "stream",
     "text": [
      "<div>\n",
      "<h2>제품 설명</h2>\n",
      "<p>미드 세기를 연상시키는 아름다운 가구 시리즈 중 하나로, 서랍장, 책상, 책장, 회의용 테이블 등이 있습니다. 셸 색상과 베이스 마감 옵션이 여러 가지로 제공됩니다. SWC-100은 플라스틱 등받이와 앞면 패브릭, SWC-110은 10가지 패브릭과 6가지 가죽 옵션으로 완전히 패브릭으로 제공됩니다. 베이스 마감 옵션은 스테인레스 스틸, 매트 블랙, 광택 화이트 또는 크롬입니다. 팔걸이 있는 제품과 없는 제품이 모두 있으며, 가정용 또는 비즈니스용으로 적합하며 계약 사용을 위해 적격입니다.</p>\n",
      "<h3>제품 ID</h3>\n",
      "<p>SWC-100, SWC-110</p>\n",
      "<h3>제품 크기</h3>\n",
      "<table>\n",
      "  <tr>\n",
      "    <td>너비</td>\n",
      "    <td>53cm | 20.87인치</td>\n",
      "  </tr>\n",
      "  <tr>\n",
      "    <td>깊이</td>\n",
      "    <td>51cm | 20.08인치</td>\n",
      "  </tr>\n",
      "  <tr>\n",
      "    <td>높이</td>\n",
      "    <td>80cm | 31.50인치</td>\n",
      "  </tr>\n",
      "  <tr>\n",
      "    <td>좌석 높이</td>\n",
      "    <td>44cm | 17.32인치</td>\n",
      "  </tr>\n",
      "  <tr>\n",
      "    <td>좌석 깊이</td>\n",
      "    <td>41cm | 16.14인치</td>\n",
      "  </tr>\n",
      "</table>\n",
      "<h3>옵션</h3>\n",
      "<p>소프트 또는 하드 바닥 캐스터 옵션, 중간 (1.8 lb/ft3) 또는 높은 (2.8 lb/ft3) 밀도의 좌석 폼, 팔걸이 없는 제품 또는 8단계 PU 팔걸이</p>\n",
      "<h3>제품 구성</h3>\n",
      "<p>5개의 플라스틱 코팅 알루미늄 베이스, 쉬운 높이 조절을 위한 공기식 의자 조절</p>\n",
      "<h3>소재</h3>\n",
      "<p>셸 베이스 글라이더: 수정 나일론 PA6/PA66 코팅이 된 주조 알루미늄, 셸 두께: 10mm, 좌석: HD36 폼</p>\n",
      "<h3>원산지</h3>\n",
      "<p>이탈리아</p>\n",
      "</div>\n"
     ]
    }
   ],
   "source": [
    "prompt = f\"\"\"\n",
    "Your task is to help a marketing team create a \n",
    "description for a retail website of a product based \n",
    "on a technical fact sheet.\n",
    "\n",
    "Write a product description based on the information \n",
    "provided in the technical specifications delimited by \n",
    "triple backticks.\n",
    "\n",
    "The description is intended for furniture retailers, \n",
    "so should be technical in nature and focus on the \n",
    "materials the product is constructed from.\n",
    "\n",
    "At the end of the description, include every 7-character \n",
    "Product ID in the technical specification.\n",
    "\n",
    "After the description, include a table that gives the \n",
    "product's dimensions. The table should have two columns.\n",
    "In the first column include the name of the dimension. \n",
    "In the second column include the measurements in inches only.\n",
    "\n",
    "Give the table the title 'Product Dimensions'.\n",
    "\n",
    "Format everything as HTML that can be used in a website. \n",
    "Place the description in a <div> element.\n",
    "All text must be translated into Korean.\n",
    "\n",
    "Technical specifications: ```{fact_sheet_chair}```\n",
    "\"\"\"\n",
    "\n",
    "response = get_completion(prompt)\n",
    "print(response)"
   ]
  },
  {
   "cell_type": "code",
   "execution_count": 31,
   "id": "9abea567",
   "metadata": {},
   "outputs": [
    {
     "data": {
      "text/html": [
       "<div>\n",
       "<h2>제품 설명</h2>\n",
       "<p>미드 세기를 연상시키는 아름다운 가구 시리즈 중 하나로, 서랍장, 책상, 책장, 회의용 테이블 등이 있습니다. 셸 색상과 베이스 마감 옵션이 여러 가지로 제공됩니다. SWC-100은 플라스틱 등받이와 앞면 패브릭, SWC-110은 10가지 패브릭과 6가지 가죽 옵션으로 완전히 패브릭으로 제공됩니다. 베이스 마감 옵션은 스테인레스 스틸, 매트 블랙, 광택 화이트 또는 크롬입니다. 팔걸이 있는 제품과 없는 제품이 모두 있으며, 가정용 또는 비즈니스용으로 적합하며 계약 사용을 위해 적격입니다.</p>\n",
       "<h3>제품 ID</h3>\n",
       "<p>SWC-100, SWC-110</p>\n",
       "<h3>제품 크기</h3>\n",
       "<table>\n",
       "  <tr>\n",
       "    <td>너비</td>\n",
       "    <td>53cm | 20.87인치</td>\n",
       "  </tr>\n",
       "  <tr>\n",
       "    <td>깊이</td>\n",
       "    <td>51cm | 20.08인치</td>\n",
       "  </tr>\n",
       "  <tr>\n",
       "    <td>높이</td>\n",
       "    <td>80cm | 31.50인치</td>\n",
       "  </tr>\n",
       "  <tr>\n",
       "    <td>좌석 높이</td>\n",
       "    <td>44cm | 17.32인치</td>\n",
       "  </tr>\n",
       "  <tr>\n",
       "    <td>좌석 깊이</td>\n",
       "    <td>41cm | 16.14인치</td>\n",
       "  </tr>\n",
       "</table>\n",
       "<h3>옵션</h3>\n",
       "<p>소프트 또는 하드 바닥 캐스터 옵션, 중간 (1.8 lb/ft3) 또는 높은 (2.8 lb/ft3) 밀도의 좌석 폼, 팔걸이 없는 제품 또는 8단계 PU 팔걸이</p>\n",
       "<h3>제품 구성</h3>\n",
       "<p>5개의 플라스틱 코팅 알루미늄 베이스, 쉬운 높이 조절을 위한 공기식 의자 조절</p>\n",
       "<h3>소재</h3>\n",
       "<p>셸 베이스 글라이더: 수정 나일론 PA6/PA66 코팅이 된 주조 알루미늄, 셸 두께: 10mm, 좌석: HD36 폼</p>\n",
       "<h3>원산지</h3>\n",
       "<p>이탈리아</p>\n",
       "</div>"
      ],
      "text/plain": [
       "<IPython.core.display.HTML object>"
      ]
     },
     "metadata": {},
     "output_type": "display_data"
    }
   ],
   "source": [
    "display(HTML(response))"
   ]
  },
  {
   "cell_type": "code",
   "execution_count": null,
   "id": "d4cde84a",
   "metadata": {},
   "outputs": [],
   "source": []
  }
 ],
 "metadata": {
  "kernelspec": {
   "display_name": "Python 3 (ipykernel)",
   "language": "python",
   "name": "python3"
  },
  "language_info": {
   "codemirror_mode": {
    "name": "ipython",
    "version": 3
   },
   "file_extension": ".py",
   "mimetype": "text/x-python",
   "name": "python",
   "nbconvert_exporter": "python",
   "pygments_lexer": "ipython3",
   "version": "3.10.11"
  }
 },
 "nbformat": 4,
 "nbformat_minor": 5
}
